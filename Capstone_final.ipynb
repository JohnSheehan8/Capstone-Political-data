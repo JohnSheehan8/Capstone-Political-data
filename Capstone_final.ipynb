{
 "cells": [
  {
   "cell_type": "markdown",
   "id": "0a83e348",
   "metadata": {},
   "source": [
    "# Political Ad Party Classifier "
   ]
  },
  {
   "cell_type": "markdown",
   "id": "13cb169f",
   "metadata": {},
   "source": [
    "Author: John J. Sheehan III"
   ]
  },
  {
   "cell_type": "markdown",
   "id": "772d1e59",
   "metadata": {},
   "source": [
    "# Business Understanding"
   ]
  },
  {
   "cell_type": "markdown",
   "id": "cb78497d",
   "metadata": {},
   "source": [
    "I am a data scientist working to help experts in the political science field or politicans themselves gauge the messages and main interests other politcians are pushing for during election cycles. By taking any ads and figuring out what party affiliation the ads are associated with as well as the common words being pushed by these ads political scientiest can figure out whether politicians of the same party are pushing similar types of messaging across each political party. Another aspect of the model that im building is that voters will be able to determine what party is associated with ads that push for agendas on polls. Politicians can use this data to pinpoint common talking points their opposition tends to use to come up with counter arguments during debates or their own messaging\n",
    "\n",
    "Currently politicians all have agendas during the election cycle and by figuring out each agenda it'll be really easy for oppositions to point out flaws in their messaging or voters to become more informed on their agenda, if a lot of politicians are saying the same message it can be proven that they're not speaking from what they want done but what the party wants done which can expose a lot of politicians that are just in it for positions of power\n",
    "\n",
    "By correctly classifying ads by the words that they use within those ads im hoping to provide people with a better understanding of both who is running what ad but the contents of what each party/politician is pushing.\n",
    "\n",
    "For this project im hoping to explain political ads to a deeper extent by creating a model that can predict Democrat and Republican ads and then look even deeper at what these ads are portraying."
   ]
  },
  {
   "cell_type": "markdown",
   "id": "93fa4562",
   "metadata": {},
   "source": [
    "# Imports"
   ]
  },
  {
   "cell_type": "markdown",
   "id": "3f741536",
   "metadata": {},
   "source": [
    "All the Imports being used within this Project to help build my model."
   ]
  },
  {
   "cell_type": "code",
   "execution_count": 1,
   "id": "65384c17",
   "metadata": {},
   "outputs": [],
   "source": [
    "import pandas as pd\n",
    "import numpy as np\n",
    "import matplotlib.pyplot as plt\n",
    "import re\n",
    "import string\n",
    "import random\n",
    "from PIL import Image\n",
    "from pprint import pprint\n",
    "import nltk\n",
    "from wordcloud import WordCloud, ImageColorGenerator, get_single_color_func\n",
    "from sklearn.preprocessing import LabelEncoder\n",
    "from matplotlib.ticker import MaxNLocator\n",
    "from nltk.probability import FreqDist\n",
    "from nltk.corpus import stopwords, wordnet\n",
    "from nltk import FreqDist\n",
    "from nltk import tokenize as tok\n",
    "from nltk.stem import WordNetLemmatizer\n",
    "from sklearn.feature_extraction.text import TfidfVectorizer\n",
    "from sklearn.model_selection import train_test_split, GridSearchCV, cross_val_score\n",
    "from sklearn.dummy import DummyClassifier\n",
    "from sklearn.naive_bayes import MultinomialNB\n",
    "from sklearn.ensemble import RandomForestClassifier, GradientBoostingClassifier\n",
    "from sklearn.linear_model import SGDClassifier, LogisticRegression\n",
    "from sklearn.neighbors import KNeighborsClassifier\n",
    "from sklearn.metrics import plot_confusion_matrix, confusion_matrix, make_scorer, recall_score, accuracy_score, precision_score, f1_score, classification_report, plot_precision_recall_curve\n",
    "from imblearn.over_sampling import SMOTE\n",
    "from imblearn.pipeline import Pipeline as ImPipeline\n",
    "import warnings\n",
    "warnings.filterwarnings('ignore')"
   ]
  },
  {
   "cell_type": "markdown",
   "id": "b380fe19",
   "metadata": {},
   "source": [
    "# Data Understanding"
   ]
  },
  {
   "cell_type": "markdown",
   "id": "a9a07481",
   "metadata": {},
   "source": [
    "The data i am going to be using is a dataset from ProPublica that contains 222186 different ads that they were able to collect from the years 2017-2022, the people at ProPublica collect data on ads run on facebook daily but only combine all of their data into a usable dataset every few years, so given that i have taken the most up to date selection of data i could get. The data contains 24 different categories of different metrics for each ad with some missing data. I am going to look through each category and select what is best for the model that i am building and remove nulls and columns that i will not be using.\n",
    "\n",
    "By using this data i can narrow down my scope to only politicians ads so that i will be using only extremely polarizing ads to hopefully be able to pick up on ads that are from the democrat or republican party. One flaw with this dataset is that because i am only using data from the years 2017-2020 the model might be scewed toward predicting ads from those years, since agendas can change overtime the common words used during this period might be different from current or future ads.\n",
    "\n",
    "The main aspects i will be looking for are aspects of the messaging of the ads, who ran the ads, who they are targeting, and any other aspect i find will be interesting to include."
   ]
  },
  {
   "cell_type": "code",
   "execution_count": 2,
   "id": "89ac270b",
   "metadata": {},
   "outputs": [],
   "source": [
    "# Load the data collected from this website https://www.propublica.org/datastore/dataset/political-advertisements-from-facebook\n",
    "df = pd.read_csv('./data/en-US.csv')"
   ]
  },
  {
   "cell_type": "markdown",
   "id": "e1800e40",
   "metadata": {},
   "source": [
    "To access this data you have to download the file directly from the link i have provided and then move the csv file into a folder within your repository i have created a data folder which i have added to my gitignore on github as the csv file is too big to be stored on the github servers. If the csv file is correctly within your repository you should be able to navigate to wherever you put it to read the csv like i have done above."
   ]
  },
  {
   "cell_type": "code",
   "execution_count": 3,
   "id": "3d571f6f",
   "metadata": {},
   "outputs": [
    {
     "name": "stdout",
     "output_type": "stream",
     "text": [
      "<class 'pandas.core.frame.DataFrame'>\n",
      "RangeIndex: 222186 entries, 0 to 222185\n",
      "Data columns (total 25 columns):\n",
      " #   Column                          Non-Null Count   Dtype  \n",
      "---  ------                          --------------   -----  \n",
      " 0   id                              222186 non-null  object \n",
      " 1   html                            222186 non-null  object \n",
      " 2   political                       222186 non-null  int64  \n",
      " 3   not_political                   222186 non-null  int64  \n",
      " 4   title                           222139 non-null  object \n",
      " 5   message                         222186 non-null  object \n",
      " 6   thumbnail                       222186 non-null  object \n",
      " 7   created_at                      222186 non-null  object \n",
      " 8   updated_at                      222186 non-null  object \n",
      " 9   lang                            222186 non-null  object \n",
      " 10  images                          222186 non-null  object \n",
      " 11  impressions                     222186 non-null  int64  \n",
      " 12  political_probability           222186 non-null  float64\n",
      " 13  targeting                       165129 non-null  object \n",
      " 14  suppressed                      222186 non-null  object \n",
      " 15  targets                         218324 non-null  object \n",
      " 16  advertiser                      186331 non-null  object \n",
      " 17  entities                        219046 non-null  object \n",
      " 18  page                            216808 non-null  object \n",
      " 19  lower_page                      216808 non-null  object \n",
      " 20  targetings                      163914 non-null  object \n",
      " 21  paid_for_by                     162497 non-null  object \n",
      " 22  targetedness                    154829 non-null  float64\n",
      " 23  listbuilding_fundraising_proba  148125 non-null  float64\n",
      " 24  page_id                         29710 non-null   float64\n",
      "dtypes: float64(4), int64(3), object(18)\n",
      "memory usage: 42.4+ MB\n"
     ]
    }
   ],
   "source": [
    "# Explore the base data before cleaning\n",
    "df.info()"
   ]
  },
  {
   "cell_type": "code",
   "execution_count": 4,
   "id": "425b3db7",
   "metadata": {
    "scrolled": true
   },
   "outputs": [
    {
     "data": {
      "text/html": [
       "<div>\n",
       "<style scoped>\n",
       "    .dataframe tbody tr th:only-of-type {\n",
       "        vertical-align: middle;\n",
       "    }\n",
       "\n",
       "    .dataframe tbody tr th {\n",
       "        vertical-align: top;\n",
       "    }\n",
       "\n",
       "    .dataframe thead th {\n",
       "        text-align: right;\n",
       "    }\n",
       "</style>\n",
       "<table border=\"1\" class=\"dataframe\">\n",
       "  <thead>\n",
       "    <tr style=\"text-align: right;\">\n",
       "      <th></th>\n",
       "      <th>id</th>\n",
       "      <th>html</th>\n",
       "      <th>political</th>\n",
       "      <th>not_political</th>\n",
       "      <th>title</th>\n",
       "      <th>message</th>\n",
       "      <th>thumbnail</th>\n",
       "      <th>created_at</th>\n",
       "      <th>updated_at</th>\n",
       "      <th>lang</th>\n",
       "      <th>...</th>\n",
       "      <th>targets</th>\n",
       "      <th>advertiser</th>\n",
       "      <th>entities</th>\n",
       "      <th>page</th>\n",
       "      <th>lower_page</th>\n",
       "      <th>targetings</th>\n",
       "      <th>paid_for_by</th>\n",
       "      <th>targetedness</th>\n",
       "      <th>listbuilding_fundraising_proba</th>\n",
       "      <th>page_id</th>\n",
       "    </tr>\n",
       "  </thead>\n",
       "  <tbody>\n",
       "    <tr>\n",
       "      <th>0</th>\n",
       "      <td>6163390790373</td>\n",
       "      <td>&lt;div class=\"_5pa- userContentWrapper\"&gt;&lt;div cla...</td>\n",
       "      <td>0</td>\n",
       "      <td>0</td>\n",
       "      <td>The Daily Show</td>\n",
       "      <td>&lt;p&gt;“The virus in Outbreak is so bad, all the s...</td>\n",
       "      <td>https://fbpac-ads-public.s3.amazonaws.com/v/t1...</td>\n",
       "      <td>2020-03-23 23:36:27.107353+00</td>\n",
       "      <td>2020-04-21 16:24:56.611341+00</td>\n",
       "      <td>en-US</td>\n",
       "      <td>...</td>\n",
       "      <td>[{\"target\": \"Interest\", \"segment\": \"Saturday N...</td>\n",
       "      <td>The Daily Show</td>\n",
       "      <td>[]</td>\n",
       "      <td>https://www.facebook.com/thedailyshow/</td>\n",
       "      <td>https://www.facebook.com/thedailyshow/</td>\n",
       "      <td>{\"{\\\"data\\\":{\\\"waist_targeting_data\\\":[{\\\"__ty...</td>\n",
       "      <td>Comedy Central</td>\n",
       "      <td>0.0</td>\n",
       "      <td>NaN</td>\n",
       "      <td>7.976227e+09</td>\n",
       "    </tr>\n",
       "    <tr>\n",
       "      <th>1</th>\n",
       "      <td>6156647062563</td>\n",
       "      <td>&lt;div class=\"_5pa- userContentWrapper\"&gt;&lt;div cla...</td>\n",
       "      <td>0</td>\n",
       "      <td>1</td>\n",
       "      <td>Ben Shapiro</td>\n",
       "      <td>&lt;p&gt;You're not powerless:&lt;/p&gt;</td>\n",
       "      <td>https://fbpac-ads-public.s3.amazonaws.com/v/t1...</td>\n",
       "      <td>2020-03-23 21:48:47.600788+00</td>\n",
       "      <td>2020-04-21 16:24:35.402693+00</td>\n",
       "      <td>en-US</td>\n",
       "      <td>...</td>\n",
       "      <td>[{\"target\": \"Activity on the Facebook Family\",...</td>\n",
       "      <td>Ben Shapiro</td>\n",
       "      <td>[]</td>\n",
       "      <td>https://www.facebook.com/officialbenshapiro/</td>\n",
       "      <td>https://www.facebook.com/officialbenshapiro/</td>\n",
       "      <td>{\"{\\\"data\\\":{\\\"waist_targeting_data\\\":[{\\\"__ty...</td>\n",
       "      <td>The Daily Wire</td>\n",
       "      <td>0.0</td>\n",
       "      <td>NaN</td>\n",
       "      <td>2.038051e+14</td>\n",
       "    </tr>\n",
       "    <tr>\n",
       "      <th>2</th>\n",
       "      <td>6177669705764</td>\n",
       "      <td>&lt;div class=\"_5pa- userContentWrapper\"&gt;&lt;div cla...</td>\n",
       "      <td>0</td>\n",
       "      <td>1</td>\n",
       "      <td>FWD.us</td>\n",
       "      <td>&lt;p&gt;URGENT: Help families impacted by coronavir...</td>\n",
       "      <td>https://fbpac-ads-public.s3.amazonaws.com/v/t1...</td>\n",
       "      <td>2020-03-23 21:23:59.357889+00</td>\n",
       "      <td>2020-04-21 16:26:20.188464+00</td>\n",
       "      <td>en-US</td>\n",
       "      <td>...</td>\n",
       "      <td>[{\"target\": \"List\", \"segment\": \"\"}, {\"target\":...</td>\n",
       "      <td>FWD.us</td>\n",
       "      <td>[]</td>\n",
       "      <td>https://www.facebook.com/fwdus/</td>\n",
       "      <td>https://www.facebook.com/fwdus/</td>\n",
       "      <td>{\"{\\\"data\\\":{\\\"waist_targeting_data\\\":[{\\\"__ty...</td>\n",
       "      <td>FWD.us</td>\n",
       "      <td>0.0</td>\n",
       "      <td>NaN</td>\n",
       "      <td>2.941966e+14</td>\n",
       "    </tr>\n",
       "    <tr>\n",
       "      <th>3</th>\n",
       "      <td>23844182612400000</td>\n",
       "      <td>&lt;div class=\"ego_unit\" id=\"u_13_1\"&gt;&lt;div class=\"...</td>\n",
       "      <td>0</td>\n",
       "      <td>0</td>\n",
       "      <td>Water.org</td>\n",
       "      <td>&lt;span class=\"o_87ruke84q\"&gt;Access to safe water...</td>\n",
       "      <td>https://fbpac-ads-public.s3.amazonaws.com/v/t4...</td>\n",
       "      <td>2020-03-23 23:34:30.501902+00</td>\n",
       "      <td>2020-03-24 19:49:54.042532+00</td>\n",
       "      <td>en-US</td>\n",
       "      <td>...</td>\n",
       "      <td>[{\"target\": \"Retargeting\", \"segment\": \"people ...</td>\n",
       "      <td>NaN</td>\n",
       "      <td>[]</td>\n",
       "      <td>NaN</td>\n",
       "      <td>NaN</td>\n",
       "      <td>{\"{\\\"data\\\":{\\\"waist_targeting_data\\\":[{\\\"__ty...</td>\n",
       "      <td>NaN</td>\n",
       "      <td>0.0</td>\n",
       "      <td>NaN</td>\n",
       "      <td>NaN</td>\n",
       "    </tr>\n",
       "    <tr>\n",
       "      <th>4</th>\n",
       "      <td>23844398507420386</td>\n",
       "      <td>&lt;div class=\"ego_unit\" id=\"u_5d_0\"&gt;&lt;div class=\"...</td>\n",
       "      <td>0</td>\n",
       "      <td>1</td>\n",
       "      <td>Commercial and Residential</td>\n",
       "      <td>&lt;span class=\"w_1km-lqpz-f\"&gt;Spring its just aro...</td>\n",
       "      <td>https://fbpac-ads-public.s3.amazonaws.com/v/t4...</td>\n",
       "      <td>2020-02-25 23:57:28.443817+00</td>\n",
       "      <td>2020-02-27 03:49:20.608505+00</td>\n",
       "      <td>en-US</td>\n",
       "      <td>...</td>\n",
       "      <td>[{\"target\": \"MinAge\", \"segment\": 18}, {\"target...</td>\n",
       "      <td>NaN</td>\n",
       "      <td>[]</td>\n",
       "      <td>NaN</td>\n",
       "      <td>NaN</td>\n",
       "      <td>{\"{\\\"data\\\":{\\\"waist_targeting_data\\\":[{\\\"__ty...</td>\n",
       "      <td>NaN</td>\n",
       "      <td>0.0</td>\n",
       "      <td>NaN</td>\n",
       "      <td>NaN</td>\n",
       "    </tr>\n",
       "  </tbody>\n",
       "</table>\n",
       "<p>5 rows × 25 columns</p>\n",
       "</div>"
      ],
      "text/plain": [
       "                  id                                               html  \\\n",
       "0      6163390790373  <div class=\"_5pa- userContentWrapper\"><div cla...   \n",
       "1      6156647062563  <div class=\"_5pa- userContentWrapper\"><div cla...   \n",
       "2      6177669705764  <div class=\"_5pa- userContentWrapper\"><div cla...   \n",
       "3  23844182612400000  <div class=\"ego_unit\" id=\"u_13_1\"><div class=\"...   \n",
       "4  23844398507420386  <div class=\"ego_unit\" id=\"u_5d_0\"><div class=\"...   \n",
       "\n",
       "   political  not_political                       title  \\\n",
       "0          0              0              The Daily Show   \n",
       "1          0              1                 Ben Shapiro   \n",
       "2          0              1                      FWD.us   \n",
       "3          0              0                   Water.org   \n",
       "4          0              1  Commercial and Residential   \n",
       "\n",
       "                                             message  \\\n",
       "0  <p>“The virus in Outbreak is so bad, all the s...   \n",
       "1                       <p>You're not powerless:</p>   \n",
       "2  <p>URGENT: Help families impacted by coronavir...   \n",
       "3  <span class=\"o_87ruke84q\">Access to safe water...   \n",
       "4  <span class=\"w_1km-lqpz-f\">Spring its just aro...   \n",
       "\n",
       "                                           thumbnail  \\\n",
       "0  https://fbpac-ads-public.s3.amazonaws.com/v/t1...   \n",
       "1  https://fbpac-ads-public.s3.amazonaws.com/v/t1...   \n",
       "2  https://fbpac-ads-public.s3.amazonaws.com/v/t1...   \n",
       "3  https://fbpac-ads-public.s3.amazonaws.com/v/t4...   \n",
       "4  https://fbpac-ads-public.s3.amazonaws.com/v/t4...   \n",
       "\n",
       "                      created_at                     updated_at   lang  ...  \\\n",
       "0  2020-03-23 23:36:27.107353+00  2020-04-21 16:24:56.611341+00  en-US  ...   \n",
       "1  2020-03-23 21:48:47.600788+00  2020-04-21 16:24:35.402693+00  en-US  ...   \n",
       "2  2020-03-23 21:23:59.357889+00  2020-04-21 16:26:20.188464+00  en-US  ...   \n",
       "3  2020-03-23 23:34:30.501902+00  2020-03-24 19:49:54.042532+00  en-US  ...   \n",
       "4  2020-02-25 23:57:28.443817+00  2020-02-27 03:49:20.608505+00  en-US  ...   \n",
       "\n",
       "                                             targets      advertiser  \\\n",
       "0  [{\"target\": \"Interest\", \"segment\": \"Saturday N...  The Daily Show   \n",
       "1  [{\"target\": \"Activity on the Facebook Family\",...     Ben Shapiro   \n",
       "2  [{\"target\": \"List\", \"segment\": \"\"}, {\"target\":...          FWD.us   \n",
       "3  [{\"target\": \"Retargeting\", \"segment\": \"people ...             NaN   \n",
       "4  [{\"target\": \"MinAge\", \"segment\": 18}, {\"target...             NaN   \n",
       "\n",
       "   entities                                          page  \\\n",
       "0        []        https://www.facebook.com/thedailyshow/   \n",
       "1        []  https://www.facebook.com/officialbenshapiro/   \n",
       "2        []               https://www.facebook.com/fwdus/   \n",
       "3        []                                           NaN   \n",
       "4        []                                           NaN   \n",
       "\n",
       "                                     lower_page  \\\n",
       "0        https://www.facebook.com/thedailyshow/   \n",
       "1  https://www.facebook.com/officialbenshapiro/   \n",
       "2               https://www.facebook.com/fwdus/   \n",
       "3                                           NaN   \n",
       "4                                           NaN   \n",
       "\n",
       "                                          targetings     paid_for_by  \\\n",
       "0  {\"{\\\"data\\\":{\\\"waist_targeting_data\\\":[{\\\"__ty...  Comedy Central   \n",
       "1  {\"{\\\"data\\\":{\\\"waist_targeting_data\\\":[{\\\"__ty...  The Daily Wire   \n",
       "2  {\"{\\\"data\\\":{\\\"waist_targeting_data\\\":[{\\\"__ty...          FWD.us   \n",
       "3  {\"{\\\"data\\\":{\\\"waist_targeting_data\\\":[{\\\"__ty...             NaN   \n",
       "4  {\"{\\\"data\\\":{\\\"waist_targeting_data\\\":[{\\\"__ty...             NaN   \n",
       "\n",
       "  targetedness listbuilding_fundraising_proba       page_id  \n",
       "0          0.0                            NaN  7.976227e+09  \n",
       "1          0.0                            NaN  2.038051e+14  \n",
       "2          0.0                            NaN  2.941966e+14  \n",
       "3          0.0                            NaN           NaN  \n",
       "4          0.0                            NaN           NaN  \n",
       "\n",
       "[5 rows x 25 columns]"
      ]
     },
     "execution_count": 4,
     "metadata": {},
     "output_type": "execute_result"
    }
   ],
   "source": [
    "# more exploring of the base data\n",
    "df.head()"
   ]
  },
  {
   "cell_type": "markdown",
   "id": "8a4e9524",
   "metadata": {},
   "source": [
    "I Wanted to see how what exactly are in the columns that im unsure what they represent exactly so that i can create a new dataframe with only the columns i need."
   ]
  },
  {
   "cell_type": "code",
   "execution_count": 5,
   "id": "a0dc4b4e",
   "metadata": {},
   "outputs": [],
   "source": [
    "# The Following are just some of columns I have checked because i was unsure about them before deciding to drop/clean them \n",
    "    # df['entities'].value_counts()\n",
    "    # df['targetedness'][5000]\n",
    "    # df['targetings'][5000]\n",
    "    # df['targeting'][5000]\n",
    "    # df['targets'][5000]\n",
    "    # df['lang'].value_counts()\n",
    "    # df['listbuilding_fundraising_proba'].value_counts()\n",
    "    # df['paid_for_by'].value_counts()"
   ]
  },
  {
   "cell_type": "markdown",
   "id": "8deb59ac",
   "metadata": {},
   "source": [
    "After Exploring the Data the only columns i found that could be potentially usefull for what i am trying to accomplish are the title, message, impressions, political probability, and targets columns\n",
    "- title: the person/organization that posted the ad\n",
    "- message: the substance of the ad, the message the ad is giving out\n",
    "- impressions: how often the ad was picked up by the ProPublica algorithm\n",
    "- political_probability: the likelyhood the ad was political in nature\n",
    "- targets: the 'why am i seeing this' reasoning facebook gives when exploring why you see a specific ad"
   ]
  },
  {
   "cell_type": "code",
   "execution_count": 6,
   "id": "6b52926b",
   "metadata": {},
   "outputs": [],
   "source": [
    "# only select the columns i found interesting and will help the model.\n",
    "dfclean = df.iloc[:, [4, 5, 11, 12, 15]]"
   ]
  },
  {
   "cell_type": "code",
   "execution_count": 7,
   "id": "08e57673",
   "metadata": {},
   "outputs": [
    {
     "name": "stdout",
     "output_type": "stream",
     "text": [
      "<class 'pandas.core.frame.DataFrame'>\n",
      "RangeIndex: 222186 entries, 0 to 222185\n",
      "Data columns (total 5 columns):\n",
      " #   Column                 Non-Null Count   Dtype  \n",
      "---  ------                 --------------   -----  \n",
      " 0   title                  222139 non-null  object \n",
      " 1   message                222186 non-null  object \n",
      " 2   impressions            222186 non-null  int64  \n",
      " 3   political_probability  222186 non-null  float64\n",
      " 4   targets                218324 non-null  object \n",
      "dtypes: float64(1), int64(1), object(3)\n",
      "memory usage: 8.5+ MB\n"
     ]
    }
   ],
   "source": [
    "# explore the new dataset\n",
    "dfclean.info()"
   ]
  },
  {
   "cell_type": "code",
   "execution_count": 8,
   "id": "26a25b74",
   "metadata": {},
   "outputs": [
    {
     "data": {
      "text/html": [
       "<div>\n",
       "<style scoped>\n",
       "    .dataframe tbody tr th:only-of-type {\n",
       "        vertical-align: middle;\n",
       "    }\n",
       "\n",
       "    .dataframe tbody tr th {\n",
       "        vertical-align: top;\n",
       "    }\n",
       "\n",
       "    .dataframe thead th {\n",
       "        text-align: right;\n",
       "    }\n",
       "</style>\n",
       "<table border=\"1\" class=\"dataframe\">\n",
       "  <thead>\n",
       "    <tr style=\"text-align: right;\">\n",
       "      <th></th>\n",
       "      <th>title</th>\n",
       "      <th>message</th>\n",
       "      <th>impressions</th>\n",
       "      <th>political_probability</th>\n",
       "      <th>targets</th>\n",
       "    </tr>\n",
       "  </thead>\n",
       "  <tbody>\n",
       "    <tr>\n",
       "      <th>0</th>\n",
       "      <td>The Daily Show</td>\n",
       "      <td>&lt;p&gt;“The virus in Outbreak is so bad, all the s...</td>\n",
       "      <td>2</td>\n",
       "      <td>0.188052</td>\n",
       "      <td>[{\"target\": \"Interest\", \"segment\": \"Saturday N...</td>\n",
       "    </tr>\n",
       "    <tr>\n",
       "      <th>1</th>\n",
       "      <td>Ben Shapiro</td>\n",
       "      <td>&lt;p&gt;You're not powerless:&lt;/p&gt;</td>\n",
       "      <td>1</td>\n",
       "      <td>0.978527</td>\n",
       "      <td>[{\"target\": \"Activity on the Facebook Family\",...</td>\n",
       "    </tr>\n",
       "    <tr>\n",
       "      <th>2</th>\n",
       "      <td>FWD.us</td>\n",
       "      <td>&lt;p&gt;URGENT: Help families impacted by coronavir...</td>\n",
       "      <td>2</td>\n",
       "      <td>0.999212</td>\n",
       "      <td>[{\"target\": \"List\", \"segment\": \"\"}, {\"target\":...</td>\n",
       "    </tr>\n",
       "    <tr>\n",
       "      <th>3</th>\n",
       "      <td>Water.org</td>\n",
       "      <td>&lt;span class=\"o_87ruke84q\"&gt;Access to safe water...</td>\n",
       "      <td>4</td>\n",
       "      <td>0.709614</td>\n",
       "      <td>[{\"target\": \"Retargeting\", \"segment\": \"people ...</td>\n",
       "    </tr>\n",
       "    <tr>\n",
       "      <th>4</th>\n",
       "      <td>Commercial and Residential</td>\n",
       "      <td>&lt;span class=\"w_1km-lqpz-f\"&gt;Spring its just aro...</td>\n",
       "      <td>4</td>\n",
       "      <td>0.718452</td>\n",
       "      <td>[{\"target\": \"MinAge\", \"segment\": 18}, {\"target...</td>\n",
       "    </tr>\n",
       "  </tbody>\n",
       "</table>\n",
       "</div>"
      ],
      "text/plain": [
       "                        title  \\\n",
       "0              The Daily Show   \n",
       "1                 Ben Shapiro   \n",
       "2                      FWD.us   \n",
       "3                   Water.org   \n",
       "4  Commercial and Residential   \n",
       "\n",
       "                                             message  impressions  \\\n",
       "0  <p>“The virus in Outbreak is so bad, all the s...            2   \n",
       "1                       <p>You're not powerless:</p>            1   \n",
       "2  <p>URGENT: Help families impacted by coronavir...            2   \n",
       "3  <span class=\"o_87ruke84q\">Access to safe water...            4   \n",
       "4  <span class=\"w_1km-lqpz-f\">Spring its just aro...            4   \n",
       "\n",
       "   political_probability                                            targets  \n",
       "0               0.188052  [{\"target\": \"Interest\", \"segment\": \"Saturday N...  \n",
       "1               0.978527  [{\"target\": \"Activity on the Facebook Family\",...  \n",
       "2               0.999212  [{\"target\": \"List\", \"segment\": \"\"}, {\"target\":...  \n",
       "3               0.709614  [{\"target\": \"Retargeting\", \"segment\": \"people ...  \n",
       "4               0.718452  [{\"target\": \"MinAge\", \"segment\": 18}, {\"target...  "
      ]
     },
     "execution_count": 8,
     "metadata": {},
     "output_type": "execute_result"
    }
   ],
   "source": [
    "dfclean.head()"
   ]
  },
  {
   "cell_type": "code",
   "execution_count": 9,
   "id": "bede2b19",
   "metadata": {},
   "outputs": [
    {
     "data": {
      "text/html": [
       "<div>\n",
       "<style scoped>\n",
       "    .dataframe tbody tr th:only-of-type {\n",
       "        vertical-align: middle;\n",
       "    }\n",
       "\n",
       "    .dataframe tbody tr th {\n",
       "        vertical-align: top;\n",
       "    }\n",
       "\n",
       "    .dataframe thead th {\n",
       "        text-align: right;\n",
       "    }\n",
       "</style>\n",
       "<table border=\"1\" class=\"dataframe\">\n",
       "  <thead>\n",
       "    <tr style=\"text-align: right;\">\n",
       "      <th></th>\n",
       "      <th>title</th>\n",
       "      <th>message</th>\n",
       "      <th>impressions</th>\n",
       "      <th>political_probability</th>\n",
       "      <th>targets</th>\n",
       "    </tr>\n",
       "  </thead>\n",
       "  <tbody>\n",
       "    <tr>\n",
       "      <th>0</th>\n",
       "      <td>The Daily Show</td>\n",
       "      <td>&lt;p&gt;“The virus in Outbreak is so bad, all the s...</td>\n",
       "      <td>2</td>\n",
       "      <td>0.188052</td>\n",
       "      <td>[{\"target\": \"Interest\", \"segment\": \"Saturday N...</td>\n",
       "    </tr>\n",
       "    <tr>\n",
       "      <th>1</th>\n",
       "      <td>Ben Shapiro</td>\n",
       "      <td>&lt;p&gt;You're not powerless:&lt;/p&gt;</td>\n",
       "      <td>1</td>\n",
       "      <td>0.978527</td>\n",
       "      <td>[{\"target\": \"Activity on the Facebook Family\",...</td>\n",
       "    </tr>\n",
       "    <tr>\n",
       "      <th>2</th>\n",
       "      <td>FWD.us</td>\n",
       "      <td>&lt;p&gt;URGENT: Help families impacted by coronavir...</td>\n",
       "      <td>2</td>\n",
       "      <td>0.999212</td>\n",
       "      <td>[{\"target\": \"List\", \"segment\": \"\"}, {\"target\":...</td>\n",
       "    </tr>\n",
       "    <tr>\n",
       "      <th>3</th>\n",
       "      <td>Water.org</td>\n",
       "      <td>&lt;span class=\"o_87ruke84q\"&gt;Access to safe water...</td>\n",
       "      <td>4</td>\n",
       "      <td>0.709614</td>\n",
       "      <td>[{\"target\": \"Retargeting\", \"segment\": \"people ...</td>\n",
       "    </tr>\n",
       "    <tr>\n",
       "      <th>4</th>\n",
       "      <td>Commercial and Residential</td>\n",
       "      <td>&lt;span class=\"w_1km-lqpz-f\"&gt;Spring its just aro...</td>\n",
       "      <td>4</td>\n",
       "      <td>0.718452</td>\n",
       "      <td>[{\"target\": \"MinAge\", \"segment\": 18}, {\"target...</td>\n",
       "    </tr>\n",
       "    <tr>\n",
       "      <th>...</th>\n",
       "      <td>...</td>\n",
       "      <td>...</td>\n",
       "      <td>...</td>\n",
       "      <td>...</td>\n",
       "      <td>...</td>\n",
       "    </tr>\n",
       "    <tr>\n",
       "      <th>222181</th>\n",
       "      <td>Stop Republicans</td>\n",
       "      <td>&lt;p&gt;Mitch McConnell has never been more vulnera...</td>\n",
       "      <td>5</td>\n",
       "      <td>0.999804</td>\n",
       "      <td>[{\"target\": \"Age\", \"segment\": \"18 and older\"},...</td>\n",
       "    </tr>\n",
       "    <tr>\n",
       "      <th>222182</th>\n",
       "      <td>TobaccoFreeCA</td>\n",
       "      <td>&lt;p&gt;It’s time to end Big Tobacco’s strategic ki...</td>\n",
       "      <td>1</td>\n",
       "      <td>0.907488</td>\n",
       "      <td>[{\"target\": \"Interest\", \"segment\": \"Nonprofit ...</td>\n",
       "    </tr>\n",
       "    <tr>\n",
       "      <th>222183</th>\n",
       "      <td>Protect My Public Media</td>\n",
       "      <td>&lt;p&gt;Public media stations are providing enhance...</td>\n",
       "      <td>1</td>\n",
       "      <td>0.993478</td>\n",
       "      <td>[{\"target\": \"List\", \"segment\": \"\"}, {\"target\":...</td>\n",
       "    </tr>\n",
       "    <tr>\n",
       "      <th>222184</th>\n",
       "      <td>20200435 Covid Diary</td>\n",
       "      <td>&lt;span class=\"x_bo7ns8pja\"&gt;Get paid to take sur...</td>\n",
       "      <td>2</td>\n",
       "      <td>0.860293</td>\n",
       "      <td>[{\"target\": \"Age\", \"segment\": \"18 and older\"},...</td>\n",
       "    </tr>\n",
       "    <tr>\n",
       "      <th>222185</th>\n",
       "      <td>Sam Adams For Portland City Council</td>\n",
       "      <td>&lt;p&gt;Dear North Portland neighbors, now more tha...</td>\n",
       "      <td>1</td>\n",
       "      <td>0.973209</td>\n",
       "      <td>[{\"target\": \"MinAge\", \"segment\": 18}, {\"target...</td>\n",
       "    </tr>\n",
       "  </tbody>\n",
       "</table>\n",
       "<p>222186 rows × 5 columns</p>\n",
       "</div>"
      ],
      "text/plain": [
       "                                      title  \\\n",
       "0                            The Daily Show   \n",
       "1                               Ben Shapiro   \n",
       "2                                    FWD.us   \n",
       "3                                 Water.org   \n",
       "4                Commercial and Residential   \n",
       "...                                     ...   \n",
       "222181                     Stop Republicans   \n",
       "222182                        TobaccoFreeCA   \n",
       "222183              Protect My Public Media   \n",
       "222184                 20200435 Covid Diary   \n",
       "222185  Sam Adams For Portland City Council   \n",
       "\n",
       "                                                  message  impressions  \\\n",
       "0       <p>“The virus in Outbreak is so bad, all the s...            2   \n",
       "1                            <p>You're not powerless:</p>            1   \n",
       "2       <p>URGENT: Help families impacted by coronavir...            2   \n",
       "3       <span class=\"o_87ruke84q\">Access to safe water...            4   \n",
       "4       <span class=\"w_1km-lqpz-f\">Spring its just aro...            4   \n",
       "...                                                   ...          ...   \n",
       "222181  <p>Mitch McConnell has never been more vulnera...            5   \n",
       "222182  <p>It’s time to end Big Tobacco’s strategic ki...            1   \n",
       "222183  <p>Public media stations are providing enhance...            1   \n",
       "222184  <span class=\"x_bo7ns8pja\">Get paid to take sur...            2   \n",
       "222185  <p>Dear North Portland neighbors, now more tha...            1   \n",
       "\n",
       "        political_probability  \\\n",
       "0                    0.188052   \n",
       "1                    0.978527   \n",
       "2                    0.999212   \n",
       "3                    0.709614   \n",
       "4                    0.718452   \n",
       "...                       ...   \n",
       "222181               0.999804   \n",
       "222182               0.907488   \n",
       "222183               0.993478   \n",
       "222184               0.860293   \n",
       "222185               0.973209   \n",
       "\n",
       "                                                  targets  \n",
       "0       [{\"target\": \"Interest\", \"segment\": \"Saturday N...  \n",
       "1       [{\"target\": \"Activity on the Facebook Family\",...  \n",
       "2       [{\"target\": \"List\", \"segment\": \"\"}, {\"target\":...  \n",
       "3       [{\"target\": \"Retargeting\", \"segment\": \"people ...  \n",
       "4       [{\"target\": \"MinAge\", \"segment\": 18}, {\"target...  \n",
       "...                                                   ...  \n",
       "222181  [{\"target\": \"Age\", \"segment\": \"18 and older\"},...  \n",
       "222182  [{\"target\": \"Interest\", \"segment\": \"Nonprofit ...  \n",
       "222183  [{\"target\": \"List\", \"segment\": \"\"}, {\"target\":...  \n",
       "222184  [{\"target\": \"Age\", \"segment\": \"18 and older\"},...  \n",
       "222185  [{\"target\": \"MinAge\", \"segment\": 18}, {\"target...  \n",
       "\n",
       "[222186 rows x 5 columns]"
      ]
     },
     "execution_count": 9,
     "metadata": {},
     "output_type": "execute_result"
    }
   ],
   "source": [
    "# remove all the brackets in the columns and replace them with None\n",
    "dfclean = dfclean.replace(['[]'],'None')\n",
    "dfclean"
   ]
  },
  {
   "cell_type": "code",
   "execution_count": 10,
   "id": "845b7d6c",
   "metadata": {},
   "outputs": [],
   "source": [
    "# drop all rows with nulls\n",
    "dfclean = dfclean.dropna()"
   ]
  },
  {
   "cell_type": "code",
   "execution_count": 11,
   "id": "b4f6b79b",
   "metadata": {},
   "outputs": [
    {
     "name": "stdout",
     "output_type": "stream",
     "text": [
      "<class 'pandas.core.frame.DataFrame'>\n",
      "Int64Index: 218288 entries, 0 to 222185\n",
      "Data columns (total 5 columns):\n",
      " #   Column                 Non-Null Count   Dtype  \n",
      "---  ------                 --------------   -----  \n",
      " 0   title                  218288 non-null  object \n",
      " 1   message                218288 non-null  object \n",
      " 2   impressions            218288 non-null  int64  \n",
      " 3   political_probability  218288 non-null  float64\n",
      " 4   targets                218288 non-null  object \n",
      "dtypes: float64(1), int64(1), object(3)\n",
      "memory usage: 10.0+ MB\n"
     ]
    }
   ],
   "source": [
    "dfclean.info()"
   ]
  },
  {
   "cell_type": "code",
   "execution_count": 12,
   "id": "31fced10",
   "metadata": {},
   "outputs": [
    {
     "data": {
      "text/plain": [
       "'<p>Nine out of ten Americans want to protect endangered species and their habitat; however, congressional leaders have chosen to ignore this and continue to dismantle the ESA in favor of the fossil fuel industry. Where do you stand?</p>'"
      ]
     },
     "execution_count": 12,
     "metadata": {},
     "output_type": "execute_result"
    }
   ],
   "source": [
    "# check different messages from the ads to see what i need to clean up\n",
    "dfclean['message'][82134]"
   ]
  },
  {
   "cell_type": "code",
   "execution_count": 13,
   "id": "2b81e9cc",
   "metadata": {},
   "outputs": [],
   "source": [
    "# reset the index\n",
    "dfclean.reset_index(drop=True,inplace=True)"
   ]
  },
  {
   "cell_type": "markdown",
   "id": "120de841",
   "metadata": {},
   "source": [
    "After checking the base data i wanted to look at i realized that i needed to import a second dataset of a list of politicians so that i can classify the names of the people who ran ads within the first dataset as either democrat or republican.\n",
    "\n",
    "This dataset is a collection of all current members of congress, its not perfect since some of these ads are from memebers of congress in the past but i will manually go through and add a few additions to this list to include some important figures that do not show up in this dataset such as donald trump and joe biden."
   ]
  },
  {
   "cell_type": "code",
   "execution_count": 14,
   "id": "98475e90",
   "metadata": {},
   "outputs": [],
   "source": [
    "# data collected from https://github.com/unitedstates/congress-legislators\n",
    "poli = pd.read_csv('./data/legislators-current.csv')"
   ]
  },
  {
   "cell_type": "markdown",
   "id": "2e75e793",
   "metadata": {},
   "source": [
    "Similar to the csv file above this file was too large to store in the github repository so to access this file you have to follow the link i have provided in the cell above and then download the csv file from the legislators-current section in the github repository that i recieved this data from then move the csv file into a folder in your repository to be able to read the file with pandas."
   ]
  },
  {
   "cell_type": "code",
   "execution_count": 15,
   "id": "881f25b1",
   "metadata": {},
   "outputs": [
    {
     "data": {
      "text/html": [
       "<div>\n",
       "<style scoped>\n",
       "    .dataframe tbody tr th:only-of-type {\n",
       "        vertical-align: middle;\n",
       "    }\n",
       "\n",
       "    .dataframe tbody tr th {\n",
       "        vertical-align: top;\n",
       "    }\n",
       "\n",
       "    .dataframe thead th {\n",
       "        text-align: right;\n",
       "    }\n",
       "</style>\n",
       "<table border=\"1\" class=\"dataframe\">\n",
       "  <thead>\n",
       "    <tr style=\"text-align: right;\">\n",
       "      <th></th>\n",
       "      <th>last_name</th>\n",
       "      <th>first_name</th>\n",
       "      <th>middle_name</th>\n",
       "      <th>suffix</th>\n",
       "      <th>nickname</th>\n",
       "      <th>full_name</th>\n",
       "      <th>birthday</th>\n",
       "      <th>gender</th>\n",
       "      <th>type</th>\n",
       "      <th>state</th>\n",
       "      <th>...</th>\n",
       "      <th>opensecrets_id</th>\n",
       "      <th>lis_id</th>\n",
       "      <th>fec_ids</th>\n",
       "      <th>cspan_id</th>\n",
       "      <th>govtrack_id</th>\n",
       "      <th>votesmart_id</th>\n",
       "      <th>ballotpedia_id</th>\n",
       "      <th>washington_post_id</th>\n",
       "      <th>icpsr_id</th>\n",
       "      <th>wikipedia_id</th>\n",
       "    </tr>\n",
       "  </thead>\n",
       "  <tbody>\n",
       "    <tr>\n",
       "      <th>0</th>\n",
       "      <td>Brown</td>\n",
       "      <td>Sherrod</td>\n",
       "      <td>NaN</td>\n",
       "      <td>NaN</td>\n",
       "      <td>NaN</td>\n",
       "      <td>Sherrod Brown</td>\n",
       "      <td>1952-11-09</td>\n",
       "      <td>M</td>\n",
       "      <td>sen</td>\n",
       "      <td>OH</td>\n",
       "      <td>...</td>\n",
       "      <td>N00003535</td>\n",
       "      <td>S307</td>\n",
       "      <td>H2OH13033,S6OH00163</td>\n",
       "      <td>5051.0</td>\n",
       "      <td>400050</td>\n",
       "      <td>27018.0</td>\n",
       "      <td>Sherrod Brown</td>\n",
       "      <td>NaN</td>\n",
       "      <td>29389.0</td>\n",
       "      <td>Sherrod Brown</td>\n",
       "    </tr>\n",
       "    <tr>\n",
       "      <th>1</th>\n",
       "      <td>Cantwell</td>\n",
       "      <td>Maria</td>\n",
       "      <td>NaN</td>\n",
       "      <td>NaN</td>\n",
       "      <td>NaN</td>\n",
       "      <td>Maria Cantwell</td>\n",
       "      <td>1958-10-13</td>\n",
       "      <td>F</td>\n",
       "      <td>sen</td>\n",
       "      <td>WA</td>\n",
       "      <td>...</td>\n",
       "      <td>N00007836</td>\n",
       "      <td>S275</td>\n",
       "      <td>S8WA00194,H2WA01054</td>\n",
       "      <td>26137.0</td>\n",
       "      <td>300018</td>\n",
       "      <td>27122.0</td>\n",
       "      <td>Maria Cantwell</td>\n",
       "      <td>NaN</td>\n",
       "      <td>39310.0</td>\n",
       "      <td>Maria Cantwell</td>\n",
       "    </tr>\n",
       "    <tr>\n",
       "      <th>2</th>\n",
       "      <td>Cardin</td>\n",
       "      <td>Benjamin</td>\n",
       "      <td>L.</td>\n",
       "      <td>NaN</td>\n",
       "      <td>NaN</td>\n",
       "      <td>Benjamin L. Cardin</td>\n",
       "      <td>1943-10-05</td>\n",
       "      <td>M</td>\n",
       "      <td>sen</td>\n",
       "      <td>MD</td>\n",
       "      <td>...</td>\n",
       "      <td>N00001955</td>\n",
       "      <td>S308</td>\n",
       "      <td>H6MD03177,S6MD03177</td>\n",
       "      <td>4004.0</td>\n",
       "      <td>400064</td>\n",
       "      <td>26888.0</td>\n",
       "      <td>Ben Cardin</td>\n",
       "      <td>NaN</td>\n",
       "      <td>15408.0</td>\n",
       "      <td>Ben Cardin</td>\n",
       "    </tr>\n",
       "    <tr>\n",
       "      <th>3</th>\n",
       "      <td>Carper</td>\n",
       "      <td>Thomas</td>\n",
       "      <td>Richard</td>\n",
       "      <td>NaN</td>\n",
       "      <td>NaN</td>\n",
       "      <td>Thomas R. Carper</td>\n",
       "      <td>1947-01-23</td>\n",
       "      <td>M</td>\n",
       "      <td>sen</td>\n",
       "      <td>DE</td>\n",
       "      <td>...</td>\n",
       "      <td>N00012508</td>\n",
       "      <td>S277</td>\n",
       "      <td>S8DE00079</td>\n",
       "      <td>663.0</td>\n",
       "      <td>300019</td>\n",
       "      <td>22421.0</td>\n",
       "      <td>Tom Carper</td>\n",
       "      <td>NaN</td>\n",
       "      <td>15015.0</td>\n",
       "      <td>Tom Carper</td>\n",
       "    </tr>\n",
       "    <tr>\n",
       "      <th>4</th>\n",
       "      <td>Casey</td>\n",
       "      <td>Robert</td>\n",
       "      <td>P.</td>\n",
       "      <td>Jr.</td>\n",
       "      <td>Bob</td>\n",
       "      <td>Robert P. Casey, Jr.</td>\n",
       "      <td>1960-04-13</td>\n",
       "      <td>M</td>\n",
       "      <td>sen</td>\n",
       "      <td>PA</td>\n",
       "      <td>...</td>\n",
       "      <td>N00027503</td>\n",
       "      <td>S309</td>\n",
       "      <td>S6PA00217</td>\n",
       "      <td>47036.0</td>\n",
       "      <td>412246</td>\n",
       "      <td>2541.0</td>\n",
       "      <td>Bob Casey, Jr.</td>\n",
       "      <td>NaN</td>\n",
       "      <td>40703.0</td>\n",
       "      <td>Bob Casey Jr.</td>\n",
       "    </tr>\n",
       "  </tbody>\n",
       "</table>\n",
       "<p>5 rows × 34 columns</p>\n",
       "</div>"
      ],
      "text/plain": [
       "  last_name first_name middle_name suffix nickname             full_name  \\\n",
       "0     Brown    Sherrod         NaN    NaN      NaN         Sherrod Brown   \n",
       "1  Cantwell      Maria         NaN    NaN      NaN        Maria Cantwell   \n",
       "2    Cardin   Benjamin          L.    NaN      NaN    Benjamin L. Cardin   \n",
       "3    Carper     Thomas     Richard    NaN      NaN      Thomas R. Carper   \n",
       "4     Casey     Robert          P.    Jr.      Bob  Robert P. Casey, Jr.   \n",
       "\n",
       "     birthday gender type state  ...  opensecrets_id  lis_id  \\\n",
       "0  1952-11-09      M  sen    OH  ...       N00003535    S307   \n",
       "1  1958-10-13      F  sen    WA  ...       N00007836    S275   \n",
       "2  1943-10-05      M  sen    MD  ...       N00001955    S308   \n",
       "3  1947-01-23      M  sen    DE  ...       N00012508    S277   \n",
       "4  1960-04-13      M  sen    PA  ...       N00027503    S309   \n",
       "\n",
       "               fec_ids cspan_id govtrack_id votesmart_id  ballotpedia_id  \\\n",
       "0  H2OH13033,S6OH00163   5051.0      400050      27018.0   Sherrod Brown   \n",
       "1  S8WA00194,H2WA01054  26137.0      300018      27122.0  Maria Cantwell   \n",
       "2  H6MD03177,S6MD03177   4004.0      400064      26888.0      Ben Cardin   \n",
       "3            S8DE00079    663.0      300019      22421.0      Tom Carper   \n",
       "4            S6PA00217  47036.0      412246       2541.0  Bob Casey, Jr.   \n",
       "\n",
       "  washington_post_id icpsr_id    wikipedia_id  \n",
       "0                NaN  29389.0   Sherrod Brown  \n",
       "1                NaN  39310.0  Maria Cantwell  \n",
       "2                NaN  15408.0      Ben Cardin  \n",
       "3                NaN  15015.0      Tom Carper  \n",
       "4                NaN  40703.0   Bob Casey Jr.  \n",
       "\n",
       "[5 rows x 34 columns]"
      ]
     },
     "execution_count": 15,
     "metadata": {},
     "output_type": "execute_result"
    }
   ],
   "source": [
    "# check the data of the 2nd data set of politicians\n",
    "poli.head()"
   ]
  },
  {
   "cell_type": "markdown",
   "id": "7a9bbbe0",
   "metadata": {},
   "source": [
    "Now that i have a new dataset i wanted to explore the first dataset further to see what sort of people are running the most ads to determine what the data distribution will be when i classify the ads as either democrat or republican."
   ]
  },
  {
   "cell_type": "code",
   "execution_count": 16,
   "id": "0f64e7a4",
   "metadata": {
    "scrolled": true
   },
   "outputs": [
    {
     "data": {
      "text/plain": [
       "International Rescue Committee                               4271\n",
       "Elizabeth Warren                                             3684\n",
       "Planned Parenthood Action                                    2987\n",
       "Kirsten Gillibrand                                           2821\n",
       "Bernie Sanders                                               2354\n",
       "                                                             ... \n",
       "Ben Ray Luján                                                  99\n",
       "Democratic Socialists of America                               98\n",
       "Poor People's Campaign: A National Call for Moral Revival      98\n",
       "Project HOPE                                                   97\n",
       "FloridaStrong                                                  97\n",
       "Name: title, Length: 300, dtype: int64"
      ]
     },
     "execution_count": 16,
     "metadata": {},
     "output_type": "execute_result"
    }
   ],
   "source": [
    "# explored the top 300 groups/politicians and found out at the vast majority of paid ads are by democrats or liberal leaning agencies.\n",
    "dfclean['title'].value_counts().head(300) #checked the top 300 'titles' (who ran the ad), with the most ads produced on facebook"
   ]
  },
  {
   "cell_type": "code",
   "execution_count": 17,
   "id": "f5667b76",
   "metadata": {},
   "outputs": [
    {
     "name": "stdout",
     "output_type": "stream",
     "text": [
      "<class 'pandas.core.frame.DataFrame'>\n",
      "RangeIndex: 537 entries, 0 to 536\n",
      "Data columns (total 34 columns):\n",
      " #   Column              Non-Null Count  Dtype  \n",
      "---  ------              --------------  -----  \n",
      " 0   last_name           537 non-null    object \n",
      " 1   first_name          537 non-null    object \n",
      " 2   middle_name         244 non-null    object \n",
      " 3   suffix              18 non-null     object \n",
      " 4   nickname            41 non-null     object \n",
      " 5   full_name           535 non-null    object \n",
      " 6   birthday            537 non-null    object \n",
      " 7   gender              537 non-null    object \n",
      " 8   type                537 non-null    object \n",
      " 9   state               537 non-null    object \n",
      " 10  district            437 non-null    float64\n",
      " 11  senate_class        100 non-null    float64\n",
      " 12  party               537 non-null    object \n",
      " 13  url                 533 non-null    object \n",
      " 14  address             536 non-null    object \n",
      " 15  phone               536 non-null    object \n",
      " 16  contact_form        100 non-null    object \n",
      " 17  rss_url             249 non-null    object \n",
      " 18  twitter             529 non-null    object \n",
      " 19  facebook            368 non-null    object \n",
      " 20  youtube             260 non-null    object \n",
      " 21  youtube_id          337 non-null    object \n",
      " 22  bioguide_id         537 non-null    object \n",
      " 23  thomas_id           323 non-null    float64\n",
      " 24  opensecrets_id      530 non-null    object \n",
      " 25  lis_id              100 non-null    object \n",
      " 26  fec_ids             537 non-null    object \n",
      " 27  cspan_id            376 non-null    float64\n",
      " 28  govtrack_id         537 non-null    int64  \n",
      " 29  votesmart_id        468 non-null    float64\n",
      " 30  ballotpedia_id      488 non-null    object \n",
      " 31  washington_post_id  0 non-null      float64\n",
      " 32  icpsr_id            453 non-null    float64\n",
      " 33  wikipedia_id        536 non-null    object \n",
      "dtypes: float64(7), int64(1), object(26)\n",
      "memory usage: 142.8+ KB\n"
     ]
    }
   ],
   "source": [
    "# Explore the new dataset a little further to decide what columns i keep.\n",
    "poli.info()"
   ]
  },
  {
   "cell_type": "code",
   "execution_count": 18,
   "id": "6692cead",
   "metadata": {},
   "outputs": [],
   "source": [
    "# only keep the columns for full name and party so that i can use these on the other dataset.\n",
    "poli_clean = poli.iloc[:, [5, 12]]"
   ]
  },
  {
   "cell_type": "code",
   "execution_count": 19,
   "id": "c33a8c08",
   "metadata": {},
   "outputs": [
    {
     "name": "stdout",
     "output_type": "stream",
     "text": [
      "<class 'pandas.core.frame.DataFrame'>\n",
      "RangeIndex: 537 entries, 0 to 536\n",
      "Data columns (total 2 columns):\n",
      " #   Column     Non-Null Count  Dtype \n",
      "---  ------     --------------  ----- \n",
      " 0   full_name  535 non-null    object\n",
      " 1   party      537 non-null    object\n",
      "dtypes: object(2)\n",
      "memory usage: 8.5+ KB\n"
     ]
    }
   ],
   "source": [
    "poli_clean.info()"
   ]
  },
  {
   "cell_type": "code",
   "execution_count": 20,
   "id": "e3a854c1",
   "metadata": {},
   "outputs": [
    {
     "data": {
      "text/plain": [
       "Democrat       272\n",
       "Republican     263\n",
       "Independent      2\n",
       "Name: party, dtype: int64"
      ]
     },
     "execution_count": 20,
     "metadata": {},
     "output_type": "execute_result"
    }
   ],
   "source": [
    "# check how many people are in each party in this dataset\n",
    "poli_clean['party'].value_counts()"
   ]
  },
  {
   "cell_type": "code",
   "execution_count": 21,
   "id": "26d859ea",
   "metadata": {},
   "outputs": [],
   "source": [
    "# create a series of all of the names that were in the poli dataset that were democrat\n",
    "dem = poli_clean['full_name'][poli_clean['party'] == 'Democrat']"
   ]
  },
  {
   "cell_type": "code",
   "execution_count": 22,
   "id": "531aca92",
   "metadata": {},
   "outputs": [
    {
     "data": {
      "text/plain": [
       "0                   Sherrod Brown\n",
       "1                  Maria Cantwell\n",
       "2              Benjamin L. Cardin\n",
       "3                Thomas R. Carper\n",
       "4            Robert P. Casey, Jr.\n",
       "                  ...            \n",
       "524            Raphael G. Warnock\n",
       "527                Troy A. Carter\n",
       "528          Melanie A. Stansbury\n",
       "530              Shontel M. Brown\n",
       "532    Sheila Cherfilus-McCormick\n",
       "Name: full_name, Length: 272, dtype: object"
      ]
     },
     "execution_count": 22,
     "metadata": {},
     "output_type": "execute_result"
    }
   ],
   "source": [
    "dem"
   ]
  },
  {
   "cell_type": "code",
   "execution_count": 23,
   "id": "df41f8dd",
   "metadata": {},
   "outputs": [],
   "source": [
    "# create a series of all of the names that were in the poli dataset that were republican\n",
    "rep = poli_clean['full_name'][poli_clean['party'] == 'Republican']"
   ]
  },
  {
   "cell_type": "code",
   "execution_count": 24,
   "id": "85adfa30",
   "metadata": {},
   "outputs": [
    {
     "data": {
      "text/plain": [
       "12        John Barrasso\n",
       "13      Roger F. Wicker\n",
       "14     Susan M. Collins\n",
       "15          John Cornyn\n",
       "17       Lindsey Graham\n",
       "             ...       \n",
       "531          Mike Carey\n",
       "533       Connie Conway\n",
       "534        Mayra Flores\n",
       "535                 NaN\n",
       "536                 NaN\n",
       "Name: full_name, Length: 263, dtype: object"
      ]
     },
     "execution_count": 24,
     "metadata": {},
     "output_type": "execute_result"
    }
   ],
   "source": [
    "rep"
   ]
  },
  {
   "cell_type": "code",
   "execution_count": 25,
   "id": "e955ad07",
   "metadata": {},
   "outputs": [],
   "source": [
    "# drop the two NaN's from the republican dataset\n",
    "rep.dropna(inplace=True)"
   ]
  },
  {
   "cell_type": "markdown",
   "id": "bf36a3e5",
   "metadata": {},
   "source": [
    "# Preprocessing & Finalizing DataFrame for Modeling"
   ]
  },
  {
   "cell_type": "markdown",
   "id": "6fea2b28",
   "metadata": {},
   "source": [
    "After i explored both of my datasets fully and narrowed them down to only be what i want to work with now i move onto preprocessing the data to be uniform with one another as well as cleaning up the messaging so i can select only important words within my dataset.\n",
    "\n",
    "after cleaning up both the dfclean dataset as well as the two new series of names for democrats and republicans i will append a new column to dfclean labeling a large number of ads as either democrat or republican based off the names and work with that data for my models."
   ]
  },
  {
   "cell_type": "code",
   "execution_count": 26,
   "id": "29a81109",
   "metadata": {},
   "outputs": [],
   "source": [
    "# Create regular expression for identifying punctuation, and remove all punctuation in columns.\n",
    "RE_PUNCTUATION = '|'.join([re.escape(x) for x in string.punctuation])"
   ]
  },
  {
   "cell_type": "code",
   "execution_count": 27,
   "id": "7c3c9895",
   "metadata": {},
   "outputs": [],
   "source": [
    "# to make sure im not getting a lot of p's at the start and end of every ad message\n",
    "dfclean['message'].replace(['<p>'],'', regex=True, inplace=True)\n",
    "dfclean['message'].replace(['</p>'],'', regex=True, inplace=True)\n",
    "# lowercase every message as well as every name in 'title'\n",
    "dfclean['message'] = dfclean['message'].str.lower();\n",
    "dfclean['title'] = dfclean['title'].str.lower();"
   ]
  },
  {
   "cell_type": "code",
   "execution_count": 28,
   "id": "34fd80c5",
   "metadata": {},
   "outputs": [],
   "source": [
    "# Lower case all the names in my two democrat and republican name datasets to match with the names from 'title'\n",
    "rep = rep.str.lower()\n",
    "dem = dem.str.lower()\n",
    "# make uniform punctuation \n",
    "dfclean['message'] = dfclean['message'].str.replace(RE_PUNCTUATION, \"\", regex=True)\n",
    "dfclean['title'] = dfclean['title'].str.replace(RE_PUNCTUATION, \"\", regex=True)"
   ]
  },
  {
   "cell_type": "code",
   "execution_count": 29,
   "id": "bb272e6e",
   "metadata": {},
   "outputs": [],
   "source": [
    "# turn the series into list so that i can append additional names i found earlier in my data exploration to classify the ads\n",
    "dem = dem.tolist()\n",
    "rep = rep.tolist()"
   ]
  },
  {
   "cell_type": "code",
   "execution_count": 30,
   "id": "732122a5",
   "metadata": {},
   "outputs": [],
   "source": [
    "# add the name of prominent figures in the democratic party that ran a large amount of ads\n",
    "demadd = ['bernie sanders', 'beto orourke', 'joe biden']\n",
    "dem.extend(demadd)"
   ]
  },
  {
   "cell_type": "code",
   "execution_count": 31,
   "id": "7e050d99",
   "metadata": {},
   "outputs": [],
   "source": [
    "# add the name of prominent figures in the republican party as well as republican backed groups that ran a large amount of ads\n",
    "repadd = ['donald j trump', 'gop', 'ben shapiro', 'open doors usa', 'america first policies']\n",
    "rep.extend(repadd)"
   ]
  },
  {
   "cell_type": "code",
   "execution_count": 32,
   "id": "2217f09c",
   "metadata": {},
   "outputs": [
    {
     "data": {
      "text/plain": [
       "False    202344\n",
       "True      15944\n",
       "Name: title, dtype: int64"
      ]
     },
     "execution_count": 32,
     "metadata": {},
     "output_type": "execute_result"
    }
   ],
   "source": [
    "# check how many democrat ads will be in the final dataset\n",
    "dfclean['title'].isin(dem).value_counts()"
   ]
  },
  {
   "cell_type": "code",
   "execution_count": 33,
   "id": "061e6b99",
   "metadata": {},
   "outputs": [
    {
     "data": {
      "text/plain": [
       "False    215167\n",
       "True       3121\n",
       "Name: title, dtype: int64"
      ]
     },
     "execution_count": 33,
     "metadata": {},
     "output_type": "execute_result"
    }
   ],
   "source": [
    "# check how many republican ads will be in the final dataset\n",
    "dfclean['title'].isin(rep).value_counts()"
   ]
  },
  {
   "cell_type": "markdown",
   "id": "d2839c11",
   "metadata": {},
   "source": [
    "Now that the cleaning process is done i will add a new column where i label anyone whose name is in the democrat or republican list in a new column i will call party, not everyone from the list will be selected but it will get enough data for my modeling."
   ]
  },
  {
   "cell_type": "code",
   "execution_count": 34,
   "id": "49f6712a",
   "metadata": {},
   "outputs": [],
   "source": [
    "# set up conditions for the party column so that only people both in title and my lists are classified.\n",
    "conditions = [dfclean['title'].isin(dem), \n",
    "              dfclean['title'].isin(rep)]\n",
    "values = ['Democrat', 'Republican']\n",
    "\n",
    "dfclean['Party'] = np.select(conditions, values)"
   ]
  },
  {
   "cell_type": "code",
   "execution_count": 35,
   "id": "419dc562",
   "metadata": {},
   "outputs": [
    {
     "data": {
      "text/html": [
       "<div>\n",
       "<style scoped>\n",
       "    .dataframe tbody tr th:only-of-type {\n",
       "        vertical-align: middle;\n",
       "    }\n",
       "\n",
       "    .dataframe tbody tr th {\n",
       "        vertical-align: top;\n",
       "    }\n",
       "\n",
       "    .dataframe thead th {\n",
       "        text-align: right;\n",
       "    }\n",
       "</style>\n",
       "<table border=\"1\" class=\"dataframe\">\n",
       "  <thead>\n",
       "    <tr style=\"text-align: right;\">\n",
       "      <th></th>\n",
       "      <th>title</th>\n",
       "      <th>message</th>\n",
       "      <th>impressions</th>\n",
       "      <th>political_probability</th>\n",
       "      <th>targets</th>\n",
       "      <th>Party</th>\n",
       "    </tr>\n",
       "  </thead>\n",
       "  <tbody>\n",
       "    <tr>\n",
       "      <th>0</th>\n",
       "      <td>the daily show</td>\n",
       "      <td>“the virus in outbreak is so bad all the scien...</td>\n",
       "      <td>2</td>\n",
       "      <td>0.188052</td>\n",
       "      <td>[{\"target\": \"Interest\", \"segment\": \"Saturday N...</td>\n",
       "      <td>0</td>\n",
       "    </tr>\n",
       "    <tr>\n",
       "      <th>1</th>\n",
       "      <td>ben shapiro</td>\n",
       "      <td>youre not powerless</td>\n",
       "      <td>1</td>\n",
       "      <td>0.978527</td>\n",
       "      <td>[{\"target\": \"Activity on the Facebook Family\",...</td>\n",
       "      <td>Republican</td>\n",
       "    </tr>\n",
       "    <tr>\n",
       "      <th>2</th>\n",
       "      <td>fwdus</td>\n",
       "      <td>urgent help families impacted by coronavirusbr...</td>\n",
       "      <td>2</td>\n",
       "      <td>0.999212</td>\n",
       "      <td>[{\"target\": \"List\", \"segment\": \"\"}, {\"target\":...</td>\n",
       "      <td>0</td>\n",
       "    </tr>\n",
       "    <tr>\n",
       "      <th>3</th>\n",
       "      <td>waterorg</td>\n",
       "      <td>span classo87ruke84qaccess to safe water impro...</td>\n",
       "      <td>4</td>\n",
       "      <td>0.709614</td>\n",
       "      <td>[{\"target\": \"Retargeting\", \"segment\": \"people ...</td>\n",
       "      <td>0</td>\n",
       "    </tr>\n",
       "    <tr>\n",
       "      <th>4</th>\n",
       "      <td>commercial and residential</td>\n",
       "      <td>span classw1kmlqpzfspring its just around the ...</td>\n",
       "      <td>4</td>\n",
       "      <td>0.718452</td>\n",
       "      <td>[{\"target\": \"MinAge\", \"segment\": 18}, {\"target...</td>\n",
       "      <td>0</td>\n",
       "    </tr>\n",
       "    <tr>\n",
       "      <th>...</th>\n",
       "      <td>...</td>\n",
       "      <td>...</td>\n",
       "      <td>...</td>\n",
       "      <td>...</td>\n",
       "      <td>...</td>\n",
       "      <td>...</td>\n",
       "    </tr>\n",
       "    <tr>\n",
       "      <th>218283</th>\n",
       "      <td>stop republicans</td>\n",
       "      <td>mitch mcconnell has never been more vulnerable...</td>\n",
       "      <td>5</td>\n",
       "      <td>0.999804</td>\n",
       "      <td>[{\"target\": \"Age\", \"segment\": \"18 and older\"},...</td>\n",
       "      <td>0</td>\n",
       "    </tr>\n",
       "    <tr>\n",
       "      <th>218284</th>\n",
       "      <td>tobaccofreeca</td>\n",
       "      <td>it’s time to end big tobacco’s strategic killi...</td>\n",
       "      <td>1</td>\n",
       "      <td>0.907488</td>\n",
       "      <td>[{\"target\": \"Interest\", \"segment\": \"Nonprofit ...</td>\n",
       "      <td>0</td>\n",
       "    </tr>\n",
       "    <tr>\n",
       "      <th>218285</th>\n",
       "      <td>protect my public media</td>\n",
       "      <td>public media stations are providing enhanced s...</td>\n",
       "      <td>1</td>\n",
       "      <td>0.993478</td>\n",
       "      <td>[{\"target\": \"List\", \"segment\": \"\"}, {\"target\":...</td>\n",
       "      <td>0</td>\n",
       "    </tr>\n",
       "    <tr>\n",
       "      <th>218286</th>\n",
       "      <td>20200435 covid diary</td>\n",
       "      <td>span classxbo7ns8pjaget paid to take surveys o...</td>\n",
       "      <td>2</td>\n",
       "      <td>0.860293</td>\n",
       "      <td>[{\"target\": \"Age\", \"segment\": \"18 and older\"},...</td>\n",
       "      <td>0</td>\n",
       "    </tr>\n",
       "    <tr>\n",
       "      <th>218287</th>\n",
       "      <td>sam adams for portland city council</td>\n",
       "      <td>dear north portland neighbors now more than ev...</td>\n",
       "      <td>1</td>\n",
       "      <td>0.973209</td>\n",
       "      <td>[{\"target\": \"MinAge\", \"segment\": 18}, {\"target...</td>\n",
       "      <td>0</td>\n",
       "    </tr>\n",
       "  </tbody>\n",
       "</table>\n",
       "<p>218288 rows × 6 columns</p>\n",
       "</div>"
      ],
      "text/plain": [
       "                                      title  \\\n",
       "0                            the daily show   \n",
       "1                               ben shapiro   \n",
       "2                                     fwdus   \n",
       "3                                  waterorg   \n",
       "4                commercial and residential   \n",
       "...                                     ...   \n",
       "218283                     stop republicans   \n",
       "218284                        tobaccofreeca   \n",
       "218285              protect my public media   \n",
       "218286                 20200435 covid diary   \n",
       "218287  sam adams for portland city council   \n",
       "\n",
       "                                                  message  impressions  \\\n",
       "0       “the virus in outbreak is so bad all the scien...            2   \n",
       "1                                     youre not powerless            1   \n",
       "2       urgent help families impacted by coronavirusbr...            2   \n",
       "3       span classo87ruke84qaccess to safe water impro...            4   \n",
       "4       span classw1kmlqpzfspring its just around the ...            4   \n",
       "...                                                   ...          ...   \n",
       "218283  mitch mcconnell has never been more vulnerable...            5   \n",
       "218284  it’s time to end big tobacco’s strategic killi...            1   \n",
       "218285  public media stations are providing enhanced s...            1   \n",
       "218286  span classxbo7ns8pjaget paid to take surveys o...            2   \n",
       "218287  dear north portland neighbors now more than ev...            1   \n",
       "\n",
       "        political_probability  \\\n",
       "0                    0.188052   \n",
       "1                    0.978527   \n",
       "2                    0.999212   \n",
       "3                    0.709614   \n",
       "4                    0.718452   \n",
       "...                       ...   \n",
       "218283               0.999804   \n",
       "218284               0.907488   \n",
       "218285               0.993478   \n",
       "218286               0.860293   \n",
       "218287               0.973209   \n",
       "\n",
       "                                                  targets       Party  \n",
       "0       [{\"target\": \"Interest\", \"segment\": \"Saturday N...           0  \n",
       "1       [{\"target\": \"Activity on the Facebook Family\",...  Republican  \n",
       "2       [{\"target\": \"List\", \"segment\": \"\"}, {\"target\":...           0  \n",
       "3       [{\"target\": \"Retargeting\", \"segment\": \"people ...           0  \n",
       "4       [{\"target\": \"MinAge\", \"segment\": 18}, {\"target...           0  \n",
       "...                                                   ...         ...  \n",
       "218283  [{\"target\": \"Age\", \"segment\": \"18 and older\"},...           0  \n",
       "218284  [{\"target\": \"Interest\", \"segment\": \"Nonprofit ...           0  \n",
       "218285  [{\"target\": \"List\", \"segment\": \"\"}, {\"target\":...           0  \n",
       "218286  [{\"target\": \"Age\", \"segment\": \"18 and older\"},...           0  \n",
       "218287  [{\"target\": \"MinAge\", \"segment\": 18}, {\"target...           0  \n",
       "\n",
       "[218288 rows x 6 columns]"
      ]
     },
     "execution_count": 35,
     "metadata": {},
     "output_type": "execute_result"
    }
   ],
   "source": [
    "# check the new column out\n",
    "dfclean"
   ]
  },
  {
   "cell_type": "code",
   "execution_count": 36,
   "id": "f55e7758",
   "metadata": {},
   "outputs": [
    {
     "data": {
      "text/plain": [
       "0             199223\n",
       "Democrat       15944\n",
       "Republican      3121\n",
       "Name: Party, dtype: int64"
      ]
     },
     "execution_count": 36,
     "metadata": {},
     "output_type": "execute_result"
    }
   ],
   "source": [
    "# check the distribution of demcrats and republicans\n",
    "dfclean['Party'].value_counts()"
   ]
  },
  {
   "cell_type": "code",
   "execution_count": 37,
   "id": "921a669d",
   "metadata": {},
   "outputs": [],
   "source": [
    "# create a final dataframe only including those who have been classified as democrat or republican\n",
    "finaldf = dfclean[dfclean['Party'] != '0']"
   ]
  },
  {
   "cell_type": "code",
   "execution_count": 38,
   "id": "1c5e5fda",
   "metadata": {},
   "outputs": [
    {
     "data": {
      "text/html": [
       "<div>\n",
       "<style scoped>\n",
       "    .dataframe tbody tr th:only-of-type {\n",
       "        vertical-align: middle;\n",
       "    }\n",
       "\n",
       "    .dataframe tbody tr th {\n",
       "        vertical-align: top;\n",
       "    }\n",
       "\n",
       "    .dataframe thead th {\n",
       "        text-align: right;\n",
       "    }\n",
       "</style>\n",
       "<table border=\"1\" class=\"dataframe\">\n",
       "  <thead>\n",
       "    <tr style=\"text-align: right;\">\n",
       "      <th></th>\n",
       "      <th>title</th>\n",
       "      <th>message</th>\n",
       "      <th>impressions</th>\n",
       "      <th>political_probability</th>\n",
       "      <th>targets</th>\n",
       "      <th>Party</th>\n",
       "    </tr>\n",
       "  </thead>\n",
       "  <tbody>\n",
       "    <tr>\n",
       "      <th>1</th>\n",
       "      <td>ben shapiro</td>\n",
       "      <td>youre not powerless</td>\n",
       "      <td>1</td>\n",
       "      <td>0.978527</td>\n",
       "      <td>[{\"target\": \"Activity on the Facebook Family\",...</td>\n",
       "      <td>Republican</td>\n",
       "    </tr>\n",
       "    <tr>\n",
       "      <th>15</th>\n",
       "      <td>jon ossoff</td>\n",
       "      <td>hey team  it’s 2020 and this will be among the...</td>\n",
       "      <td>1</td>\n",
       "      <td>0.999979</td>\n",
       "      <td>[{\"target\": \"List\", \"segment\": \"\"}, {\"target\":...</td>\n",
       "      <td>Democrat</td>\n",
       "    </tr>\n",
       "    <tr>\n",
       "      <th>28</th>\n",
       "      <td>joe biden</td>\n",
       "      <td>joe knows that we have to take immediate bold ...</td>\n",
       "      <td>1</td>\n",
       "      <td>0.999800</td>\n",
       "      <td>[{\"target\": \"Age\", \"segment\": \"18 and older\"},...</td>\n",
       "      <td>Democrat</td>\n",
       "    </tr>\n",
       "    <tr>\n",
       "      <th>64</th>\n",
       "      <td>joe biden</td>\n",
       "      <td>pete buttigieg is all in for joe biden amy klo...</td>\n",
       "      <td>1</td>\n",
       "      <td>0.999746</td>\n",
       "      <td>[{\"target\": \"Segment\", \"segment\": \"Likely enga...</td>\n",
       "      <td>Democrat</td>\n",
       "    </tr>\n",
       "    <tr>\n",
       "      <th>74</th>\n",
       "      <td>joe biden</td>\n",
       "      <td>you’ve been selected  1159 pm deadline trump’s...</td>\n",
       "      <td>1</td>\n",
       "      <td>0.999877</td>\n",
       "      <td>[{\"target\": \"Interest\", \"segment\": \"Democratic...</td>\n",
       "      <td>Democrat</td>\n",
       "    </tr>\n",
       "    <tr>\n",
       "      <th>83</th>\n",
       "      <td>joe biden</td>\n",
       "      <td>you’ve been selected  before midnight after al...</td>\n",
       "      <td>1</td>\n",
       "      <td>0.999881</td>\n",
       "      <td>[{\"target\": \"Retargeting\", \"segment\": \"people ...</td>\n",
       "      <td>Democrat</td>\n",
       "    </tr>\n",
       "    <tr>\n",
       "      <th>114</th>\n",
       "      <td>teresa leger fernandez</td>\n",
       "      <td>span class5mfrspan class6qdm🚨spanspanpublic de...</td>\n",
       "      <td>1</td>\n",
       "      <td>0.989982</td>\n",
       "      <td>[{\"target\": \"Retargeting\", \"segment\": \"people ...</td>\n",
       "      <td>Democrat</td>\n",
       "    </tr>\n",
       "    <tr>\n",
       "      <th>196</th>\n",
       "      <td>ro khanna</td>\n",
       "      <td>i’m introducing a new bill that would give 75 ...</td>\n",
       "      <td>2</td>\n",
       "      <td>0.997810</td>\n",
       "      <td>[{\"target\": \"Interest\", \"segment\": \"Occupy Wal...</td>\n",
       "      <td>Democrat</td>\n",
       "    </tr>\n",
       "    <tr>\n",
       "      <th>233</th>\n",
       "      <td>jon tester</td>\n",
       "      <td>we are in uncertain times and it is important ...</td>\n",
       "      <td>1</td>\n",
       "      <td>0.999771</td>\n",
       "      <td>[{\"target\": \"Interest\", \"segment\": \"Jon Tester...</td>\n",
       "      <td>Democrat</td>\n",
       "    </tr>\n",
       "    <tr>\n",
       "      <th>241</th>\n",
       "      <td>joe biden</td>\n",
       "      <td>im both honored and humbled to be your presump...</td>\n",
       "      <td>1</td>\n",
       "      <td>0.999245</td>\n",
       "      <td>[{\"target\": \"Interest\", \"segment\": \"Democratic...</td>\n",
       "      <td>Democrat</td>\n",
       "    </tr>\n",
       "    <tr>\n",
       "      <th>245</th>\n",
       "      <td>elizabeth warren</td>\n",
       "      <td>to commemorate this pivotal moment in our camp...</td>\n",
       "      <td>1</td>\n",
       "      <td>0.999945</td>\n",
       "      <td>[{\"target\": \"MinAge\", \"segment\": 18}, {\"target...</td>\n",
       "      <td>Democrat</td>\n",
       "    </tr>\n",
       "    <tr>\n",
       "      <th>246</th>\n",
       "      <td>joe biden</td>\n",
       "      <td>im both honored and humbled to be your presump...</td>\n",
       "      <td>1</td>\n",
       "      <td>0.999245</td>\n",
       "      <td>[{\"target\": \"Age\", \"segment\": \"30 and older\"},...</td>\n",
       "      <td>Democrat</td>\n",
       "    </tr>\n",
       "    <tr>\n",
       "      <th>257</th>\n",
       "      <td>bernie sanders</td>\n",
       "      <td>by winning the new hampshire primary we have s...</td>\n",
       "      <td>1</td>\n",
       "      <td>0.999855</td>\n",
       "      <td>[{\"target\": \"MinAge\", \"segment\": 18}, {\"target...</td>\n",
       "      <td>Democrat</td>\n",
       "    </tr>\n",
       "    <tr>\n",
       "      <th>260</th>\n",
       "      <td>joe biden</td>\n",
       "      <td>together were creating a movement thats bringi...</td>\n",
       "      <td>3</td>\n",
       "      <td>0.999907</td>\n",
       "      <td>[{\"target\": \"Age\", \"segment\": \"18 and older\"},...</td>\n",
       "      <td>Democrat</td>\n",
       "    </tr>\n",
       "    <tr>\n",
       "      <th>262</th>\n",
       "      <td>joe biden</td>\n",
       "      <td>im both honored and humbled to be your presump...</td>\n",
       "      <td>6</td>\n",
       "      <td>0.999245</td>\n",
       "      <td>[{\"target\": \"Age\", \"segment\": \"18 and older\"},...</td>\n",
       "      <td>Democrat</td>\n",
       "    </tr>\n",
       "    <tr>\n",
       "      <th>266</th>\n",
       "      <td>elizabeth warren</td>\n",
       "      <td>i’m so grateful for the support of this grassr...</td>\n",
       "      <td>3</td>\n",
       "      <td>0.999994</td>\n",
       "      <td>[{\"target\": \"Retargeting\", \"segment\": \"people ...</td>\n",
       "      <td>Democrat</td>\n",
       "    </tr>\n",
       "    <tr>\n",
       "      <th>272</th>\n",
       "      <td>joe biden</td>\n",
       "      <td>to everyone who has been knocked down counted ...</td>\n",
       "      <td>1</td>\n",
       "      <td>0.999826</td>\n",
       "      <td>[{\"target\": \"Activity on the Facebook Family\",...</td>\n",
       "      <td>Democrat</td>\n",
       "    </tr>\n",
       "    <tr>\n",
       "      <th>278</th>\n",
       "      <td>amy klobuchar</td>\n",
       "      <td>join amy klobuchar in portland on saturday feb...</td>\n",
       "      <td>1</td>\n",
       "      <td>0.998792</td>\n",
       "      <td>[{\"target\": \"Interest\", \"segment\": \"Joe Biden\"...</td>\n",
       "      <td>Democrat</td>\n",
       "    </tr>\n",
       "    <tr>\n",
       "      <th>283</th>\n",
       "      <td>bernie sanders</td>\n",
       "      <td>i am asking you once again for your financial ...</td>\n",
       "      <td>2</td>\n",
       "      <td>0.999970</td>\n",
       "      <td>[{\"target\": \"List\", \"segment\": \"\"}, {\"target\":...</td>\n",
       "      <td>Democrat</td>\n",
       "    </tr>\n",
       "    <tr>\n",
       "      <th>292</th>\n",
       "      <td>bernie sanders</td>\n",
       "      <td>we cannot lose focus of the fact that new hamp...</td>\n",
       "      <td>1</td>\n",
       "      <td>0.999991</td>\n",
       "      <td>[{\"target\": \"Retargeting\", \"segment\": \"people ...</td>\n",
       "      <td>Democrat</td>\n",
       "    </tr>\n",
       "    <tr>\n",
       "      <th>304</th>\n",
       "      <td>elizabeth warren</td>\n",
       "      <td>to commemorate this pivotal moment in our camp...</td>\n",
       "      <td>1</td>\n",
       "      <td>0.999909</td>\n",
       "      <td>[{\"target\": \"List\", \"segment\": \"\"}, {\"target\":...</td>\n",
       "      <td>Democrat</td>\n",
       "    </tr>\n",
       "    <tr>\n",
       "      <th>312</th>\n",
       "      <td>amy klobuchar</td>\n",
       "      <td>the new hampshire primary is february 11 donat...</td>\n",
       "      <td>1</td>\n",
       "      <td>0.999906</td>\n",
       "      <td>[{\"target\": \"Retargeting\", \"segment\": \"people ...</td>\n",
       "      <td>Democrat</td>\n",
       "    </tr>\n",
       "    <tr>\n",
       "      <th>318</th>\n",
       "      <td>bernie sanders</td>\n",
       "      <td>we’re falling a bit behind where we need to be...</td>\n",
       "      <td>1</td>\n",
       "      <td>0.999978</td>\n",
       "      <td>[{\"target\": \"Retargeting\", \"segment\": \"people ...</td>\n",
       "      <td>Democrat</td>\n",
       "    </tr>\n",
       "    <tr>\n",
       "      <th>326</th>\n",
       "      <td>bernie sanders</td>\n",
       "      <td>i would like to thank the people of iowa for g...</td>\n",
       "      <td>1</td>\n",
       "      <td>0.999976</td>\n",
       "      <td>[{\"target\": \"Interest\", \"segment\": \"The Interc...</td>\n",
       "      <td>Democrat</td>\n",
       "    </tr>\n",
       "    <tr>\n",
       "      <th>334</th>\n",
       "      <td>elizabeth warren</td>\n",
       "      <td>i’m so grateful for the support of this grassr...</td>\n",
       "      <td>1</td>\n",
       "      <td>0.999997</td>\n",
       "      <td>[{\"target\": \"List\", \"segment\": \"\"}, {\"target\":...</td>\n",
       "      <td>Democrat</td>\n",
       "    </tr>\n",
       "    <tr>\n",
       "      <th>336</th>\n",
       "      <td>elizabeth warren</td>\n",
       "      <td>big money is powerful — but it doesn’t always ...</td>\n",
       "      <td>1</td>\n",
       "      <td>0.999332</td>\n",
       "      <td>[{\"target\": \"List\", \"segment\": \"\"}, {\"target\":...</td>\n",
       "      <td>Democrat</td>\n",
       "    </tr>\n",
       "    <tr>\n",
       "      <th>342</th>\n",
       "      <td>elizabeth warren</td>\n",
       "      <td>i’m so grateful for the support of this grassr...</td>\n",
       "      <td>1</td>\n",
       "      <td>0.999987</td>\n",
       "      <td>[{\"target\": \"List\", \"segment\": \"\"}, {\"target\":...</td>\n",
       "      <td>Democrat</td>\n",
       "    </tr>\n",
       "    <tr>\n",
       "      <th>346</th>\n",
       "      <td>bernie sanders</td>\n",
       "      <td>in case you haven’t noticed we are under attac...</td>\n",
       "      <td>1</td>\n",
       "      <td>0.999998</td>\n",
       "      <td>[{\"target\": \"List\", \"segment\": \"\"}, {\"target\":...</td>\n",
       "      <td>Democrat</td>\n",
       "    </tr>\n",
       "    <tr>\n",
       "      <th>347</th>\n",
       "      <td>amy klobuchar</td>\n",
       "      <td>join team amy at the foundry in manchester as ...</td>\n",
       "      <td>1</td>\n",
       "      <td>0.987590</td>\n",
       "      <td>[{\"target\": \"MinAge\", \"segment\": 18}, {\"target...</td>\n",
       "      <td>Democrat</td>\n",
       "    </tr>\n",
       "    <tr>\n",
       "      <th>355</th>\n",
       "      <td>elizabeth warren</td>\n",
       "      <td>super tuesday is almost here these are the las...</td>\n",
       "      <td>1</td>\n",
       "      <td>0.999979</td>\n",
       "      <td>[{\"target\": \"MinAge\", \"segment\": 18}, {\"target...</td>\n",
       "      <td>Democrat</td>\n",
       "    </tr>\n",
       "    <tr>\n",
       "      <th>356</th>\n",
       "      <td>jeff merkley</td>\n",
       "      <td>attorney general william barr claims to be ind...</td>\n",
       "      <td>1</td>\n",
       "      <td>0.999974</td>\n",
       "      <td>[{\"target\": \"Retargeting\", \"segment\": \"people ...</td>\n",
       "      <td>Democrat</td>\n",
       "    </tr>\n",
       "    <tr>\n",
       "      <th>360</th>\n",
       "      <td>bernie sanders</td>\n",
       "      <td>if you’ve been waiting for the perfect moment ...</td>\n",
       "      <td>4</td>\n",
       "      <td>0.999993</td>\n",
       "      <td>[{\"target\": \"List\", \"segment\": \"\"}, {\"target\":...</td>\n",
       "      <td>Democrat</td>\n",
       "    </tr>\n",
       "    <tr>\n",
       "      <th>361</th>\n",
       "      <td>joe biden</td>\n",
       "      <td>im both honored and humbled to be your presump...</td>\n",
       "      <td>6</td>\n",
       "      <td>0.998658</td>\n",
       "      <td>[{\"target\": \"List\", \"segment\": \"\"}, {\"target\":...</td>\n",
       "      <td>Democrat</td>\n",
       "    </tr>\n",
       "    <tr>\n",
       "      <th>362</th>\n",
       "      <td>joe biden</td>\n",
       "      <td>joe biden is going to be the democratic nomine...</td>\n",
       "      <td>2</td>\n",
       "      <td>0.999999</td>\n",
       "      <td>[{\"target\": \"Age\", \"segment\": \"18 and older\"},...</td>\n",
       "      <td>Democrat</td>\n",
       "    </tr>\n",
       "    <tr>\n",
       "      <th>368</th>\n",
       "      <td>joe biden</td>\n",
       "      <td>i am proud to receive the endorsement of my fr...</td>\n",
       "      <td>1</td>\n",
       "      <td>0.999998</td>\n",
       "      <td>[{\"target\": \"Age\", \"segment\": \"18 and older\"},...</td>\n",
       "      <td>Democrat</td>\n",
       "    </tr>\n",
       "    <tr>\n",
       "      <th>369</th>\n",
       "      <td>tammy duckworth</td>\n",
       "      <td>just over three years ago donald trump issued ...</td>\n",
       "      <td>1</td>\n",
       "      <td>0.999838</td>\n",
       "      <td>[{\"target\": \"Interest\", \"segment\": \"CNN\"}, {\"t...</td>\n",
       "      <td>Democrat</td>\n",
       "    </tr>\n",
       "    <tr>\n",
       "      <th>370</th>\n",
       "      <td>elizabeth warren</td>\n",
       "      <td>the new hampshire primary is just days away th...</td>\n",
       "      <td>1</td>\n",
       "      <td>0.999993</td>\n",
       "      <td>[{\"target\": \"Retargeting\", \"segment\": \"people ...</td>\n",
       "      <td>Democrat</td>\n",
       "    </tr>\n",
       "    <tr>\n",
       "      <th>372</th>\n",
       "      <td>elizabeth warren</td>\n",
       "      <td>when president obama needed a champion for wor...</td>\n",
       "      <td>2</td>\n",
       "      <td>0.999987</td>\n",
       "      <td>[{\"target\": \"Retargeting\", \"segment\": \"people ...</td>\n",
       "      <td>Democrat</td>\n",
       "    </tr>\n",
       "    <tr>\n",
       "      <th>374</th>\n",
       "      <td>elizabeth warren</td>\n",
       "      <td>the night of the iowa caucuses cnn didn’t air ...</td>\n",
       "      <td>1</td>\n",
       "      <td>0.999987</td>\n",
       "      <td>[{\"target\": \"Retargeting\", \"segment\": \"people ...</td>\n",
       "      <td>Democrat</td>\n",
       "    </tr>\n",
       "    <tr>\n",
       "      <th>375</th>\n",
       "      <td>joe biden</td>\n",
       "      <td>nate silver’s fivethirtyeight says bernie and ...</td>\n",
       "      <td>1</td>\n",
       "      <td>0.999999</td>\n",
       "      <td>[{\"target\": \"List\", \"segment\": \"\"}, {\"target\":...</td>\n",
       "      <td>Democrat</td>\n",
       "    </tr>\n",
       "    <tr>\n",
       "      <th>380</th>\n",
       "      <td>bernie sanders</td>\n",
       "      <td>please join danny devito dig down and make a c...</td>\n",
       "      <td>1</td>\n",
       "      <td>0.999994</td>\n",
       "      <td>[{\"target\": \"List\", \"segment\": \"\"}, {\"target\":...</td>\n",
       "      <td>Democrat</td>\n",
       "    </tr>\n",
       "    <tr>\n",
       "      <th>382</th>\n",
       "      <td>bernie sanders</td>\n",
       "      <td>we’re falling a bit behind where we need to be...</td>\n",
       "      <td>3</td>\n",
       "      <td>0.999978</td>\n",
       "      <td>[{\"target\": \"Interest\", \"segment\": \"The Interc...</td>\n",
       "      <td>Democrat</td>\n",
       "    </tr>\n",
       "    <tr>\n",
       "      <th>388</th>\n",
       "      <td>joe biden</td>\n",
       "      <td>breaking president obama just endorsed joe bid...</td>\n",
       "      <td>1</td>\n",
       "      <td>0.999996</td>\n",
       "      <td>[{\"target\": \"List\", \"segment\": \"\"}, {\"target\":...</td>\n",
       "      <td>Democrat</td>\n",
       "    </tr>\n",
       "    <tr>\n",
       "      <th>392</th>\n",
       "      <td>jon ossoff</td>\n",
       "      <td>2020 is here — and georgia is the only battleg...</td>\n",
       "      <td>1</td>\n",
       "      <td>0.999990</td>\n",
       "      <td>[{\"target\": \"List\", \"segment\": \"\"}, {\"target\":...</td>\n",
       "      <td>Democrat</td>\n",
       "    </tr>\n",
       "    <tr>\n",
       "      <th>395</th>\n",
       "      <td>elizabeth warren</td>\n",
       "      <td>to commemorate this pivotal moment in our camp...</td>\n",
       "      <td>1</td>\n",
       "      <td>0.999916</td>\n",
       "      <td>[{\"target\": \"Retargeting\", \"segment\": \"people ...</td>\n",
       "      <td>Democrat</td>\n",
       "    </tr>\n",
       "    <tr>\n",
       "      <th>398</th>\n",
       "      <td>elizabeth warren</td>\n",
       "      <td>the night of the iowa caucuses cnn didn’t air ...</td>\n",
       "      <td>2</td>\n",
       "      <td>0.999981</td>\n",
       "      <td>[{\"target\": \"List\", \"segment\": \"\"}, {\"target\":...</td>\n",
       "      <td>Democrat</td>\n",
       "    </tr>\n",
       "    <tr>\n",
       "      <th>414</th>\n",
       "      <td>bernie sanders</td>\n",
       "      <td>can you make a donation to help us win big in ...</td>\n",
       "      <td>1</td>\n",
       "      <td>0.999988</td>\n",
       "      <td>[{\"target\": \"List\", \"segment\": \"\"}, {\"target\":...</td>\n",
       "      <td>Democrat</td>\n",
       "    </tr>\n",
       "    <tr>\n",
       "      <th>415</th>\n",
       "      <td>bernie sanders</td>\n",
       "      <td>we’re falling a bit behind where we need to be...</td>\n",
       "      <td>2</td>\n",
       "      <td>0.999995</td>\n",
       "      <td>[{\"target\": \"List\", \"segment\": \"\"}, {\"target\":...</td>\n",
       "      <td>Democrat</td>\n",
       "    </tr>\n",
       "    <tr>\n",
       "      <th>418</th>\n",
       "      <td>elizabeth warren</td>\n",
       "      <td>we won’t know the final outcome in iowa for a ...</td>\n",
       "      <td>1</td>\n",
       "      <td>0.999988</td>\n",
       "      <td>[{\"target\": \"Retargeting\", \"segment\": \"people ...</td>\n",
       "      <td>Democrat</td>\n",
       "    </tr>\n",
       "    <tr>\n",
       "      <th>422</th>\n",
       "      <td>elizabeth warren</td>\n",
       "      <td>every single candidate on the last debate stag...</td>\n",
       "      <td>1</td>\n",
       "      <td>0.999980</td>\n",
       "      <td>[{\"target\": \"MinAge\", \"segment\": 18}, {\"target...</td>\n",
       "      <td>Democrat</td>\n",
       "    </tr>\n",
       "    <tr>\n",
       "      <th>425</th>\n",
       "      <td>bernie sanders</td>\n",
       "      <td>can you make a donation to help us carry out v...</td>\n",
       "      <td>1</td>\n",
       "      <td>0.999985</td>\n",
       "      <td>[{\"target\": \"Retargeting\", \"segment\": \"people ...</td>\n",
       "      <td>Democrat</td>\n",
       "    </tr>\n",
       "    <tr>\n",
       "      <th>427</th>\n",
       "      <td>joe biden</td>\n",
       "      <td>nate silver’s fivethirtyeight says bernie and ...</td>\n",
       "      <td>1</td>\n",
       "      <td>0.999996</td>\n",
       "      <td>[{\"target\": \"Retargeting\", \"segment\": \"people ...</td>\n",
       "      <td>Democrat</td>\n",
       "    </tr>\n",
       "    <tr>\n",
       "      <th>431</th>\n",
       "      <td>elizabeth warren</td>\n",
       "      <td>at a 2016 closeddoor goldman sachs event mike ...</td>\n",
       "      <td>1</td>\n",
       "      <td>0.999977</td>\n",
       "      <td>[{\"target\": \"List\", \"segment\": \"\"}, {\"target\":...</td>\n",
       "      <td>Democrat</td>\n",
       "    </tr>\n",
       "    <tr>\n",
       "      <th>435</th>\n",
       "      <td>bernie sanders</td>\n",
       "      <td>the whole damn one percent is out to stop our ...</td>\n",
       "      <td>1</td>\n",
       "      <td>0.999998</td>\n",
       "      <td>[{\"target\": \"Activity on the Facebook Family\",...</td>\n",
       "      <td>Democrat</td>\n",
       "    </tr>\n",
       "    <tr>\n",
       "      <th>439</th>\n",
       "      <td>elizabeth warren</td>\n",
       "      <td>last quarter bernie sanders pete buttigieg and...</td>\n",
       "      <td>2</td>\n",
       "      <td>0.999995</td>\n",
       "      <td>[{\"target\": \"MinAge\", \"segment\": 18}, {\"target...</td>\n",
       "      <td>Democrat</td>\n",
       "    </tr>\n",
       "    <tr>\n",
       "      <th>443</th>\n",
       "      <td>elizabeth warren</td>\n",
       "      <td>the new hampshire primary is just days away th...</td>\n",
       "      <td>5</td>\n",
       "      <td>0.999999</td>\n",
       "      <td>[{\"target\": \"MinAge\", \"segment\": 18}, {\"target...</td>\n",
       "      <td>Democrat</td>\n",
       "    </tr>\n",
       "    <tr>\n",
       "      <th>450</th>\n",
       "      <td>bernie sanders</td>\n",
       "      <td>with the new hampshire primary just a few days...</td>\n",
       "      <td>1</td>\n",
       "      <td>0.999993</td>\n",
       "      <td>[{\"target\": \"List\", \"segment\": \"\"}, {\"target\":...</td>\n",
       "      <td>Democrat</td>\n",
       "    </tr>\n",
       "    <tr>\n",
       "      <th>457</th>\n",
       "      <td>bernie sanders</td>\n",
       "      <td>weve got the billionaire class of this country...</td>\n",
       "      <td>1</td>\n",
       "      <td>0.999989</td>\n",
       "      <td>[{\"target\": \"List\", \"segment\": \"\"}, {\"target\":...</td>\n",
       "      <td>Democrat</td>\n",
       "    </tr>\n",
       "    <tr>\n",
       "      <th>468</th>\n",
       "      <td>elizabeth warren</td>\n",
       "      <td>the new hampshire primary is just days away th...</td>\n",
       "      <td>1</td>\n",
       "      <td>0.999998</td>\n",
       "      <td>[{\"target\": \"Retargeting\", \"segment\": \"people ...</td>\n",
       "      <td>Democrat</td>\n",
       "    </tr>\n",
       "    <tr>\n",
       "      <th>471</th>\n",
       "      <td>elizabeth warren</td>\n",
       "      <td>in las vegas elizabeth got on the debate stage...</td>\n",
       "      <td>2</td>\n",
       "      <td>0.999981</td>\n",
       "      <td>[{\"target\": \"List\", \"segment\": \"\"}, {\"target\":...</td>\n",
       "      <td>Democrat</td>\n",
       "    </tr>\n",
       "  </tbody>\n",
       "</table>\n",
       "</div>"
      ],
      "text/plain": [
       "                      title  \\\n",
       "1               ben shapiro   \n",
       "15               jon ossoff   \n",
       "28                joe biden   \n",
       "64                joe biden   \n",
       "74                joe biden   \n",
       "83                joe biden   \n",
       "114  teresa leger fernandez   \n",
       "196               ro khanna   \n",
       "233              jon tester   \n",
       "241               joe biden   \n",
       "245        elizabeth warren   \n",
       "246               joe biden   \n",
       "257          bernie sanders   \n",
       "260               joe biden   \n",
       "262               joe biden   \n",
       "266        elizabeth warren   \n",
       "272               joe biden   \n",
       "278           amy klobuchar   \n",
       "283          bernie sanders   \n",
       "292          bernie sanders   \n",
       "304        elizabeth warren   \n",
       "312           amy klobuchar   \n",
       "318          bernie sanders   \n",
       "326          bernie sanders   \n",
       "334        elizabeth warren   \n",
       "336        elizabeth warren   \n",
       "342        elizabeth warren   \n",
       "346          bernie sanders   \n",
       "347           amy klobuchar   \n",
       "355        elizabeth warren   \n",
       "356            jeff merkley   \n",
       "360          bernie sanders   \n",
       "361               joe biden   \n",
       "362               joe biden   \n",
       "368               joe biden   \n",
       "369         tammy duckworth   \n",
       "370        elizabeth warren   \n",
       "372        elizabeth warren   \n",
       "374        elizabeth warren   \n",
       "375               joe biden   \n",
       "380          bernie sanders   \n",
       "382          bernie sanders   \n",
       "388               joe biden   \n",
       "392              jon ossoff   \n",
       "395        elizabeth warren   \n",
       "398        elizabeth warren   \n",
       "414          bernie sanders   \n",
       "415          bernie sanders   \n",
       "418        elizabeth warren   \n",
       "422        elizabeth warren   \n",
       "425          bernie sanders   \n",
       "427               joe biden   \n",
       "431        elizabeth warren   \n",
       "435          bernie sanders   \n",
       "439        elizabeth warren   \n",
       "443        elizabeth warren   \n",
       "450          bernie sanders   \n",
       "457          bernie sanders   \n",
       "468        elizabeth warren   \n",
       "471        elizabeth warren   \n",
       "\n",
       "                                               message  impressions  \\\n",
       "1                                  youre not powerless            1   \n",
       "15   hey team  it’s 2020 and this will be among the...            1   \n",
       "28   joe knows that we have to take immediate bold ...            1   \n",
       "64   pete buttigieg is all in for joe biden amy klo...            1   \n",
       "74   you’ve been selected  1159 pm deadline trump’s...            1   \n",
       "83   you’ve been selected  before midnight after al...            1   \n",
       "114  span class5mfrspan class6qdm🚨spanspanpublic de...            1   \n",
       "196  i’m introducing a new bill that would give 75 ...            2   \n",
       "233  we are in uncertain times and it is important ...            1   \n",
       "241  im both honored and humbled to be your presump...            1   \n",
       "245  to commemorate this pivotal moment in our camp...            1   \n",
       "246  im both honored and humbled to be your presump...            1   \n",
       "257  by winning the new hampshire primary we have s...            1   \n",
       "260  together were creating a movement thats bringi...            3   \n",
       "262  im both honored and humbled to be your presump...            6   \n",
       "266  i’m so grateful for the support of this grassr...            3   \n",
       "272  to everyone who has been knocked down counted ...            1   \n",
       "278  join amy klobuchar in portland on saturday feb...            1   \n",
       "283  i am asking you once again for your financial ...            2   \n",
       "292  we cannot lose focus of the fact that new hamp...            1   \n",
       "304  to commemorate this pivotal moment in our camp...            1   \n",
       "312  the new hampshire primary is february 11 donat...            1   \n",
       "318  we’re falling a bit behind where we need to be...            1   \n",
       "326  i would like to thank the people of iowa for g...            1   \n",
       "334  i’m so grateful for the support of this grassr...            1   \n",
       "336  big money is powerful — but it doesn’t always ...            1   \n",
       "342  i’m so grateful for the support of this grassr...            1   \n",
       "346  in case you haven’t noticed we are under attac...            1   \n",
       "347  join team amy at the foundry in manchester as ...            1   \n",
       "355  super tuesday is almost here these are the las...            1   \n",
       "356  attorney general william barr claims to be ind...            1   \n",
       "360  if you’ve been waiting for the perfect moment ...            4   \n",
       "361  im both honored and humbled to be your presump...            6   \n",
       "362  joe biden is going to be the democratic nomine...            2   \n",
       "368  i am proud to receive the endorsement of my fr...            1   \n",
       "369  just over three years ago donald trump issued ...            1   \n",
       "370  the new hampshire primary is just days away th...            1   \n",
       "372  when president obama needed a champion for wor...            2   \n",
       "374  the night of the iowa caucuses cnn didn’t air ...            1   \n",
       "375  nate silver’s fivethirtyeight says bernie and ...            1   \n",
       "380  please join danny devito dig down and make a c...            1   \n",
       "382  we’re falling a bit behind where we need to be...            3   \n",
       "388  breaking president obama just endorsed joe bid...            1   \n",
       "392  2020 is here — and georgia is the only battleg...            1   \n",
       "395  to commemorate this pivotal moment in our camp...            1   \n",
       "398  the night of the iowa caucuses cnn didn’t air ...            2   \n",
       "414  can you make a donation to help us win big in ...            1   \n",
       "415  we’re falling a bit behind where we need to be...            2   \n",
       "418  we won’t know the final outcome in iowa for a ...            1   \n",
       "422  every single candidate on the last debate stag...            1   \n",
       "425  can you make a donation to help us carry out v...            1   \n",
       "427  nate silver’s fivethirtyeight says bernie and ...            1   \n",
       "431  at a 2016 closeddoor goldman sachs event mike ...            1   \n",
       "435  the whole damn one percent is out to stop our ...            1   \n",
       "439  last quarter bernie sanders pete buttigieg and...            2   \n",
       "443  the new hampshire primary is just days away th...            5   \n",
       "450  with the new hampshire primary just a few days...            1   \n",
       "457  weve got the billionaire class of this country...            1   \n",
       "468  the new hampshire primary is just days away th...            1   \n",
       "471  in las vegas elizabeth got on the debate stage...            2   \n",
       "\n",
       "     political_probability                                            targets  \\\n",
       "1                 0.978527  [{\"target\": \"Activity on the Facebook Family\",...   \n",
       "15                0.999979  [{\"target\": \"List\", \"segment\": \"\"}, {\"target\":...   \n",
       "28                0.999800  [{\"target\": \"Age\", \"segment\": \"18 and older\"},...   \n",
       "64                0.999746  [{\"target\": \"Segment\", \"segment\": \"Likely enga...   \n",
       "74                0.999877  [{\"target\": \"Interest\", \"segment\": \"Democratic...   \n",
       "83                0.999881  [{\"target\": \"Retargeting\", \"segment\": \"people ...   \n",
       "114               0.989982  [{\"target\": \"Retargeting\", \"segment\": \"people ...   \n",
       "196               0.997810  [{\"target\": \"Interest\", \"segment\": \"Occupy Wal...   \n",
       "233               0.999771  [{\"target\": \"Interest\", \"segment\": \"Jon Tester...   \n",
       "241               0.999245  [{\"target\": \"Interest\", \"segment\": \"Democratic...   \n",
       "245               0.999945  [{\"target\": \"MinAge\", \"segment\": 18}, {\"target...   \n",
       "246               0.999245  [{\"target\": \"Age\", \"segment\": \"30 and older\"},...   \n",
       "257               0.999855  [{\"target\": \"MinAge\", \"segment\": 18}, {\"target...   \n",
       "260               0.999907  [{\"target\": \"Age\", \"segment\": \"18 and older\"},...   \n",
       "262               0.999245  [{\"target\": \"Age\", \"segment\": \"18 and older\"},...   \n",
       "266               0.999994  [{\"target\": \"Retargeting\", \"segment\": \"people ...   \n",
       "272               0.999826  [{\"target\": \"Activity on the Facebook Family\",...   \n",
       "278               0.998792  [{\"target\": \"Interest\", \"segment\": \"Joe Biden\"...   \n",
       "283               0.999970  [{\"target\": \"List\", \"segment\": \"\"}, {\"target\":...   \n",
       "292               0.999991  [{\"target\": \"Retargeting\", \"segment\": \"people ...   \n",
       "304               0.999909  [{\"target\": \"List\", \"segment\": \"\"}, {\"target\":...   \n",
       "312               0.999906  [{\"target\": \"Retargeting\", \"segment\": \"people ...   \n",
       "318               0.999978  [{\"target\": \"Retargeting\", \"segment\": \"people ...   \n",
       "326               0.999976  [{\"target\": \"Interest\", \"segment\": \"The Interc...   \n",
       "334               0.999997  [{\"target\": \"List\", \"segment\": \"\"}, {\"target\":...   \n",
       "336               0.999332  [{\"target\": \"List\", \"segment\": \"\"}, {\"target\":...   \n",
       "342               0.999987  [{\"target\": \"List\", \"segment\": \"\"}, {\"target\":...   \n",
       "346               0.999998  [{\"target\": \"List\", \"segment\": \"\"}, {\"target\":...   \n",
       "347               0.987590  [{\"target\": \"MinAge\", \"segment\": 18}, {\"target...   \n",
       "355               0.999979  [{\"target\": \"MinAge\", \"segment\": 18}, {\"target...   \n",
       "356               0.999974  [{\"target\": \"Retargeting\", \"segment\": \"people ...   \n",
       "360               0.999993  [{\"target\": \"List\", \"segment\": \"\"}, {\"target\":...   \n",
       "361               0.998658  [{\"target\": \"List\", \"segment\": \"\"}, {\"target\":...   \n",
       "362               0.999999  [{\"target\": \"Age\", \"segment\": \"18 and older\"},...   \n",
       "368               0.999998  [{\"target\": \"Age\", \"segment\": \"18 and older\"},...   \n",
       "369               0.999838  [{\"target\": \"Interest\", \"segment\": \"CNN\"}, {\"t...   \n",
       "370               0.999993  [{\"target\": \"Retargeting\", \"segment\": \"people ...   \n",
       "372               0.999987  [{\"target\": \"Retargeting\", \"segment\": \"people ...   \n",
       "374               0.999987  [{\"target\": \"Retargeting\", \"segment\": \"people ...   \n",
       "375               0.999999  [{\"target\": \"List\", \"segment\": \"\"}, {\"target\":...   \n",
       "380               0.999994  [{\"target\": \"List\", \"segment\": \"\"}, {\"target\":...   \n",
       "382               0.999978  [{\"target\": \"Interest\", \"segment\": \"The Interc...   \n",
       "388               0.999996  [{\"target\": \"List\", \"segment\": \"\"}, {\"target\":...   \n",
       "392               0.999990  [{\"target\": \"List\", \"segment\": \"\"}, {\"target\":...   \n",
       "395               0.999916  [{\"target\": \"Retargeting\", \"segment\": \"people ...   \n",
       "398               0.999981  [{\"target\": \"List\", \"segment\": \"\"}, {\"target\":...   \n",
       "414               0.999988  [{\"target\": \"List\", \"segment\": \"\"}, {\"target\":...   \n",
       "415               0.999995  [{\"target\": \"List\", \"segment\": \"\"}, {\"target\":...   \n",
       "418               0.999988  [{\"target\": \"Retargeting\", \"segment\": \"people ...   \n",
       "422               0.999980  [{\"target\": \"MinAge\", \"segment\": 18}, {\"target...   \n",
       "425               0.999985  [{\"target\": \"Retargeting\", \"segment\": \"people ...   \n",
       "427               0.999996  [{\"target\": \"Retargeting\", \"segment\": \"people ...   \n",
       "431               0.999977  [{\"target\": \"List\", \"segment\": \"\"}, {\"target\":...   \n",
       "435               0.999998  [{\"target\": \"Activity on the Facebook Family\",...   \n",
       "439               0.999995  [{\"target\": \"MinAge\", \"segment\": 18}, {\"target...   \n",
       "443               0.999999  [{\"target\": \"MinAge\", \"segment\": 18}, {\"target...   \n",
       "450               0.999993  [{\"target\": \"List\", \"segment\": \"\"}, {\"target\":...   \n",
       "457               0.999989  [{\"target\": \"List\", \"segment\": \"\"}, {\"target\":...   \n",
       "468               0.999998  [{\"target\": \"Retargeting\", \"segment\": \"people ...   \n",
       "471               0.999981  [{\"target\": \"List\", \"segment\": \"\"}, {\"target\":...   \n",
       "\n",
       "          Party  \n",
       "1    Republican  \n",
       "15     Democrat  \n",
       "28     Democrat  \n",
       "64     Democrat  \n",
       "74     Democrat  \n",
       "83     Democrat  \n",
       "114    Democrat  \n",
       "196    Democrat  \n",
       "233    Democrat  \n",
       "241    Democrat  \n",
       "245    Democrat  \n",
       "246    Democrat  \n",
       "257    Democrat  \n",
       "260    Democrat  \n",
       "262    Democrat  \n",
       "266    Democrat  \n",
       "272    Democrat  \n",
       "278    Democrat  \n",
       "283    Democrat  \n",
       "292    Democrat  \n",
       "304    Democrat  \n",
       "312    Democrat  \n",
       "318    Democrat  \n",
       "326    Democrat  \n",
       "334    Democrat  \n",
       "336    Democrat  \n",
       "342    Democrat  \n",
       "346    Democrat  \n",
       "347    Democrat  \n",
       "355    Democrat  \n",
       "356    Democrat  \n",
       "360    Democrat  \n",
       "361    Democrat  \n",
       "362    Democrat  \n",
       "368    Democrat  \n",
       "369    Democrat  \n",
       "370    Democrat  \n",
       "372    Democrat  \n",
       "374    Democrat  \n",
       "375    Democrat  \n",
       "380    Democrat  \n",
       "382    Democrat  \n",
       "388    Democrat  \n",
       "392    Democrat  \n",
       "395    Democrat  \n",
       "398    Democrat  \n",
       "414    Democrat  \n",
       "415    Democrat  \n",
       "418    Democrat  \n",
       "422    Democrat  \n",
       "425    Democrat  \n",
       "427    Democrat  \n",
       "431    Democrat  \n",
       "435    Democrat  \n",
       "439    Democrat  \n",
       "443    Democrat  \n",
       "450    Democrat  \n",
       "457    Democrat  \n",
       "468    Democrat  \n",
       "471    Democrat  "
      ]
     },
     "execution_count": 38,
     "metadata": {},
     "output_type": "execute_result"
    }
   ],
   "source": [
    "finaldf.head(60)"
   ]
  },
  {
   "cell_type": "code",
   "execution_count": 39,
   "id": "277f9818",
   "metadata": {},
   "outputs": [
    {
     "data": {
      "text/plain": [
       "145"
      ]
     },
     "execution_count": 39,
     "metadata": {},
     "output_type": "execute_result"
    }
   ],
   "source": [
    "# check how many unique names are running ads in my final dataset.\n",
    "finaldf['title'].nunique()"
   ]
  },
  {
   "cell_type": "code",
   "execution_count": 40,
   "id": "9dcc86ff",
   "metadata": {},
   "outputs": [
    {
     "name": "stdout",
     "output_type": "stream",
     "text": [
      "<class 'pandas.core.frame.DataFrame'>\n",
      "RangeIndex: 19065 entries, 0 to 19064\n",
      "Data columns (total 6 columns):\n",
      " #   Column                 Non-Null Count  Dtype  \n",
      "---  ------                 --------------  -----  \n",
      " 0   title                  19065 non-null  object \n",
      " 1   message                19065 non-null  object \n",
      " 2   impressions            19065 non-null  int64  \n",
      " 3   political_probability  19065 non-null  float64\n",
      " 4   targets                19065 non-null  object \n",
      " 5   Party                  19065 non-null  object \n",
      "dtypes: float64(1), int64(1), object(4)\n",
      "memory usage: 893.8+ KB\n"
     ]
    },
    {
     "data": {
      "text/html": [
       "<div>\n",
       "<style scoped>\n",
       "    .dataframe tbody tr th:only-of-type {\n",
       "        vertical-align: middle;\n",
       "    }\n",
       "\n",
       "    .dataframe tbody tr th {\n",
       "        vertical-align: top;\n",
       "    }\n",
       "\n",
       "    .dataframe thead th {\n",
       "        text-align: right;\n",
       "    }\n",
       "</style>\n",
       "<table border=\"1\" class=\"dataframe\">\n",
       "  <thead>\n",
       "    <tr style=\"text-align: right;\">\n",
       "      <th></th>\n",
       "      <th>title</th>\n",
       "      <th>message</th>\n",
       "      <th>impressions</th>\n",
       "      <th>political_probability</th>\n",
       "      <th>targets</th>\n",
       "      <th>Party</th>\n",
       "    </tr>\n",
       "  </thead>\n",
       "  <tbody>\n",
       "    <tr>\n",
       "      <th>0</th>\n",
       "      <td>ben shapiro</td>\n",
       "      <td>youre not powerless</td>\n",
       "      <td>1</td>\n",
       "      <td>0.978527</td>\n",
       "      <td>[{\"target\": \"Activity on the Facebook Family\",...</td>\n",
       "      <td>Republican</td>\n",
       "    </tr>\n",
       "    <tr>\n",
       "      <th>1</th>\n",
       "      <td>jon ossoff</td>\n",
       "      <td>hey team  it’s 2020 and this will be among the...</td>\n",
       "      <td>1</td>\n",
       "      <td>0.999979</td>\n",
       "      <td>[{\"target\": \"List\", \"segment\": \"\"}, {\"target\":...</td>\n",
       "      <td>Democrat</td>\n",
       "    </tr>\n",
       "    <tr>\n",
       "      <th>2</th>\n",
       "      <td>joe biden</td>\n",
       "      <td>joe knows that we have to take immediate bold ...</td>\n",
       "      <td>1</td>\n",
       "      <td>0.999800</td>\n",
       "      <td>[{\"target\": \"Age\", \"segment\": \"18 and older\"},...</td>\n",
       "      <td>Democrat</td>\n",
       "    </tr>\n",
       "    <tr>\n",
       "      <th>3</th>\n",
       "      <td>joe biden</td>\n",
       "      <td>pete buttigieg is all in for joe biden amy klo...</td>\n",
       "      <td>1</td>\n",
       "      <td>0.999746</td>\n",
       "      <td>[{\"target\": \"Segment\", \"segment\": \"Likely enga...</td>\n",
       "      <td>Democrat</td>\n",
       "    </tr>\n",
       "    <tr>\n",
       "      <th>4</th>\n",
       "      <td>joe biden</td>\n",
       "      <td>you’ve been selected  1159 pm deadline trump’s...</td>\n",
       "      <td>1</td>\n",
       "      <td>0.999877</td>\n",
       "      <td>[{\"target\": \"Interest\", \"segment\": \"Democratic...</td>\n",
       "      <td>Democrat</td>\n",
       "    </tr>\n",
       "  </tbody>\n",
       "</table>\n",
       "</div>"
      ],
      "text/plain": [
       "         title                                            message  \\\n",
       "0  ben shapiro                                youre not powerless   \n",
       "1   jon ossoff  hey team  it’s 2020 and this will be among the...   \n",
       "2    joe biden  joe knows that we have to take immediate bold ...   \n",
       "3    joe biden  pete buttigieg is all in for joe biden amy klo...   \n",
       "4    joe biden  you’ve been selected  1159 pm deadline trump’s...   \n",
       "\n",
       "   impressions  political_probability  \\\n",
       "0            1               0.978527   \n",
       "1            1               0.999979   \n",
       "2            1               0.999800   \n",
       "3            1               0.999746   \n",
       "4            1               0.999877   \n",
       "\n",
       "                                             targets       Party  \n",
       "0  [{\"target\": \"Activity on the Facebook Family\",...  Republican  \n",
       "1  [{\"target\": \"List\", \"segment\": \"\"}, {\"target\":...    Democrat  \n",
       "2  [{\"target\": \"Age\", \"segment\": \"18 and older\"},...    Democrat  \n",
       "3  [{\"target\": \"Segment\", \"segment\": \"Likely enga...    Democrat  \n",
       "4  [{\"target\": \"Interest\", \"segment\": \"Democratic...    Democrat  "
      ]
     },
     "execution_count": 40,
     "metadata": {},
     "output_type": "execute_result"
    }
   ],
   "source": [
    "# reset the index again and do a quality check on the dataset\n",
    "finaldf.reset_index(drop=True,inplace=True)\n",
    "finaldf.info()\n",
    "finaldf.head()"
   ]
  },
  {
   "cell_type": "markdown",
   "id": "b3c2477b",
   "metadata": {},
   "source": [
    "Finally i will move onto finishing up the NLP process on the ad messages themselves so that i lemmatize and tokenize the words for exploration into what they mean."
   ]
  },
  {
   "cell_type": "code",
   "execution_count": 41,
   "id": "a21dbb8b",
   "metadata": {},
   "outputs": [
    {
     "data": {
      "text/plain": [
       "0                                      youre not powerless\n",
       "1        hey team  it’s 2020 and this will be among the...\n",
       "2        joe knows that we have to take immediate bold ...\n",
       "3        pete buttigieg is all in for joe biden amy klo...\n",
       "4        you’ve been selected  1159 pm deadline trump’s...\n",
       "                               ...                        \n",
       "19060    this is your campaign so we want to make sure ...\n",
       "19061                                            my latest\n",
       "19062    i know a lot of you are anxiously awaiting my ...\n",
       "19063    democrats are totally out of touch with the am...\n",
       "19064    with joe biden surging in the polls all of the...\n",
       "Name: message, Length: 19065, dtype: object"
      ]
     },
     "execution_count": 41,
     "metadata": {},
     "output_type": "execute_result"
    }
   ],
   "source": [
    "finaldf['message']"
   ]
  },
  {
   "cell_type": "code",
   "execution_count": 42,
   "id": "42645689",
   "metadata": {},
   "outputs": [],
   "source": [
    "# lemmatizer function for the messages\n",
    "lemmatizer = WordNetLemmatizer()\n",
    "\n",
    "def tokenize_lem(text):\n",
    "    # first tokenize by sentence, then by word to ensure that punctuation is caught as its own token\n",
    "    tokens = [word.lower() for sent in tok.sent_tokenize(text) for word in tok.word_tokenize(sent)]\n",
    "    filtered_tokens = []\n",
    "    # filter out any tokens not containing letters (e.g., numeric tokens, raw punctuation)\n",
    "    for token in tokens:\n",
    "        if re.search('[a-zA-Z]', token):\n",
    "            filtered_tokens.append(token)\n",
    "    return [lemmatizer.lemmatize(token) for token in filtered_tokens]"
   ]
  },
  {
   "cell_type": "code",
   "execution_count": 43,
   "id": "fc48d07a",
   "metadata": {},
   "outputs": [],
   "source": [
    "# apply the lemmatizer\n",
    "finaldf['tokens'] = finaldf['message'].apply(tokenize_lem);"
   ]
  },
  {
   "cell_type": "code",
   "execution_count": 44,
   "id": "3fd2cbe1",
   "metadata": {},
   "outputs": [],
   "source": [
    "# Create Stopwords list--standard wordlist plus commonly-seen words in the dataset\n",
    "sw = stopwords.words('english')\n",
    "customsw = ['need', 'trump', 'today','make', 'win', 'get', 'help', 's']\n",
    "sw.extend(customsw)"
   ]
  },
  {
   "cell_type": "code",
   "execution_count": 45,
   "id": "d1332cc7",
   "metadata": {},
   "outputs": [],
   "source": [
    "# Helper function to remove stopwords\n",
    "def remove_stopwords(token_list):\n",
    "    \"\"\"\n",
    "    Given a list of tokens, return a list where the tokens\n",
    "    that are also present in sw have been removed\n",
    "    \"\"\"\n",
    "    stopwords_r = [token for token in token_list if token not in sw]\n",
    "    return stopwords_r"
   ]
  },
  {
   "cell_type": "code",
   "execution_count": 46,
   "id": "c17804ab",
   "metadata": {},
   "outputs": [],
   "source": [
    "# Apply the removal function to tokens\n",
    "finaldf['tokens'] = finaldf['tokens'].apply(remove_stopwords)\n",
    "\n",
    "# create new column from finaldf that converts list of tokens to a string.\n",
    "finaldf['words'] = finaldf['tokens'].str.join(\" \");"
   ]
  },
  {
   "cell_type": "code",
   "execution_count": 47,
   "id": "88bb1db2",
   "metadata": {},
   "outputs": [
    {
     "data": {
      "text/html": [
       "<div>\n",
       "<style scoped>\n",
       "    .dataframe tbody tr th:only-of-type {\n",
       "        vertical-align: middle;\n",
       "    }\n",
       "\n",
       "    .dataframe tbody tr th {\n",
       "        vertical-align: top;\n",
       "    }\n",
       "\n",
       "    .dataframe thead th {\n",
       "        text-align: right;\n",
       "    }\n",
       "</style>\n",
       "<table border=\"1\" class=\"dataframe\">\n",
       "  <thead>\n",
       "    <tr style=\"text-align: right;\">\n",
       "      <th></th>\n",
       "      <th>title</th>\n",
       "      <th>message</th>\n",
       "      <th>impressions</th>\n",
       "      <th>political_probability</th>\n",
       "      <th>targets</th>\n",
       "      <th>Party</th>\n",
       "      <th>tokens</th>\n",
       "      <th>words</th>\n",
       "    </tr>\n",
       "  </thead>\n",
       "  <tbody>\n",
       "    <tr>\n",
       "      <th>0</th>\n",
       "      <td>ben shapiro</td>\n",
       "      <td>youre not powerless</td>\n",
       "      <td>1</td>\n",
       "      <td>0.978527</td>\n",
       "      <td>[{\"target\": \"Activity on the Facebook Family\",...</td>\n",
       "      <td>Republican</td>\n",
       "      <td>[youre, powerless]</td>\n",
       "      <td>youre powerless</td>\n",
       "    </tr>\n",
       "    <tr>\n",
       "      <th>1</th>\n",
       "      <td>jon ossoff</td>\n",
       "      <td>hey team  it’s 2020 and this will be among the...</td>\n",
       "      <td>1</td>\n",
       "      <td>0.999979</td>\n",
       "      <td>[{\"target\": \"List\", \"segment\": \"\"}, {\"target\":...</td>\n",
       "      <td>Democrat</td>\n",
       "      <td>[hey, team, among, important, year, american, ...</td>\n",
       "      <td>hey team among important year american politic...</td>\n",
       "    </tr>\n",
       "    <tr>\n",
       "      <th>2</th>\n",
       "      <td>joe biden</td>\n",
       "      <td>joe knows that we have to take immediate bold ...</td>\n",
       "      <td>1</td>\n",
       "      <td>0.999800</td>\n",
       "      <td>[{\"target\": \"Age\", \"segment\": \"18 and older\"},...</td>\n",
       "      <td>Democrat</td>\n",
       "      <td>[joe, know, take, immediate, bold, action, tac...</td>\n",
       "      <td>joe know take immediate bold action tackle cli...</td>\n",
       "    </tr>\n",
       "    <tr>\n",
       "      <th>3</th>\n",
       "      <td>joe biden</td>\n",
       "      <td>pete buttigieg is all in for joe biden amy klo...</td>\n",
       "      <td>1</td>\n",
       "      <td>0.999746</td>\n",
       "      <td>[{\"target\": \"Segment\", \"segment\": \"Likely enga...</td>\n",
       "      <td>Democrat</td>\n",
       "      <td>[pete, buttigieg, joe, biden, amy, klobuchar, ...</td>\n",
       "      <td>pete buttigieg joe biden amy klobuchar joe bid...</td>\n",
       "    </tr>\n",
       "    <tr>\n",
       "      <th>4</th>\n",
       "      <td>joe biden</td>\n",
       "      <td>you’ve been selected  1159 pm deadline trump’s...</td>\n",
       "      <td>1</td>\n",
       "      <td>0.999877</td>\n",
       "      <td>[{\"target\": \"Interest\", \"segment\": \"Democratic...</td>\n",
       "      <td>Democrat</td>\n",
       "      <td>[selected, pm, deadline, shameful, action, mad...</td>\n",
       "      <td>selected pm deadline shameful action made thir...</td>\n",
       "    </tr>\n",
       "    <tr>\n",
       "      <th>...</th>\n",
       "      <td>...</td>\n",
       "      <td>...</td>\n",
       "      <td>...</td>\n",
       "      <td>...</td>\n",
       "      <td>...</td>\n",
       "      <td>...</td>\n",
       "      <td>...</td>\n",
       "      <td>...</td>\n",
       "    </tr>\n",
       "    <tr>\n",
       "      <th>19060</th>\n",
       "      <td>joe biden</td>\n",
       "      <td>this is your campaign so we want to make sure ...</td>\n",
       "      <td>3</td>\n",
       "      <td>0.935023</td>\n",
       "      <td>[{\"target\": \"Age\", \"segment\": \"18 and older\"},...</td>\n",
       "      <td>Democrat</td>\n",
       "      <td>[campaign, want, sure, youre, looped, news, ma...</td>\n",
       "      <td>campaign want sure youre looped news matter st...</td>\n",
       "    </tr>\n",
       "    <tr>\n",
       "      <th>19061</th>\n",
       "      <td>ben shapiro</td>\n",
       "      <td>my latest</td>\n",
       "      <td>1</td>\n",
       "      <td>0.869291</td>\n",
       "      <td>[{\"target\": \"List\", \"segment\": \"\"}, {\"target\":...</td>\n",
       "      <td>Republican</td>\n",
       "      <td>[latest]</td>\n",
       "      <td>latest</td>\n",
       "    </tr>\n",
       "    <tr>\n",
       "      <th>19062</th>\n",
       "      <td>joe biden</td>\n",
       "      <td>i know a lot of you are anxiously awaiting my ...</td>\n",
       "      <td>1</td>\n",
       "      <td>0.944517</td>\n",
       "      <td>[{\"target\": \"Age\", \"segment\": \"18 and older\"},...</td>\n",
       "      <td>Democrat</td>\n",
       "      <td>[know, lot, anxiously, awaiting, pick, vp, rea...</td>\n",
       "      <td>know lot anxiously awaiting pick vp ready shar...</td>\n",
       "    </tr>\n",
       "    <tr>\n",
       "      <th>19063</th>\n",
       "      <td>donald j trump</td>\n",
       "      <td>democrats are totally out of touch with the am...</td>\n",
       "      <td>1</td>\n",
       "      <td>0.999999</td>\n",
       "      <td>[{\"target\": \"Age\", \"segment\": \"18 and older\"},...</td>\n",
       "      <td>Republican</td>\n",
       "      <td>[democrat, totally, touch, american, people, s...</td>\n",
       "      <td>democrat totally touch american people send re...</td>\n",
       "    </tr>\n",
       "    <tr>\n",
       "      <th>19064</th>\n",
       "      <td>joe biden</td>\n",
       "      <td>with joe biden surging in the polls all of the...</td>\n",
       "      <td>1</td>\n",
       "      <td>0.999878</td>\n",
       "      <td>[{\"target\": \"MinAge\", \"segment\": 30}, {\"target...</td>\n",
       "      <td>Democrat</td>\n",
       "      <td>[joe, biden, surging, poll, momentum, behind, ...</td>\n",
       "      <td>joe biden surging poll momentum behind campaig...</td>\n",
       "    </tr>\n",
       "  </tbody>\n",
       "</table>\n",
       "<p>19065 rows × 8 columns</p>\n",
       "</div>"
      ],
      "text/plain": [
       "                title                                            message  \\\n",
       "0         ben shapiro                                youre not powerless   \n",
       "1          jon ossoff  hey team  it’s 2020 and this will be among the...   \n",
       "2           joe biden  joe knows that we have to take immediate bold ...   \n",
       "3           joe biden  pete buttigieg is all in for joe biden amy klo...   \n",
       "4           joe biden  you’ve been selected  1159 pm deadline trump’s...   \n",
       "...               ...                                                ...   \n",
       "19060       joe biden  this is your campaign so we want to make sure ...   \n",
       "19061     ben shapiro                                          my latest   \n",
       "19062       joe biden  i know a lot of you are anxiously awaiting my ...   \n",
       "19063  donald j trump  democrats are totally out of touch with the am...   \n",
       "19064       joe biden  with joe biden surging in the polls all of the...   \n",
       "\n",
       "       impressions  political_probability  \\\n",
       "0                1               0.978527   \n",
       "1                1               0.999979   \n",
       "2                1               0.999800   \n",
       "3                1               0.999746   \n",
       "4                1               0.999877   \n",
       "...            ...                    ...   \n",
       "19060            3               0.935023   \n",
       "19061            1               0.869291   \n",
       "19062            1               0.944517   \n",
       "19063            1               0.999999   \n",
       "19064            1               0.999878   \n",
       "\n",
       "                                                 targets       Party  \\\n",
       "0      [{\"target\": \"Activity on the Facebook Family\",...  Republican   \n",
       "1      [{\"target\": \"List\", \"segment\": \"\"}, {\"target\":...    Democrat   \n",
       "2      [{\"target\": \"Age\", \"segment\": \"18 and older\"},...    Democrat   \n",
       "3      [{\"target\": \"Segment\", \"segment\": \"Likely enga...    Democrat   \n",
       "4      [{\"target\": \"Interest\", \"segment\": \"Democratic...    Democrat   \n",
       "...                                                  ...         ...   \n",
       "19060  [{\"target\": \"Age\", \"segment\": \"18 and older\"},...    Democrat   \n",
       "19061  [{\"target\": \"List\", \"segment\": \"\"}, {\"target\":...  Republican   \n",
       "19062  [{\"target\": \"Age\", \"segment\": \"18 and older\"},...    Democrat   \n",
       "19063  [{\"target\": \"Age\", \"segment\": \"18 and older\"},...  Republican   \n",
       "19064  [{\"target\": \"MinAge\", \"segment\": 30}, {\"target...    Democrat   \n",
       "\n",
       "                                                  tokens  \\\n",
       "0                                     [youre, powerless]   \n",
       "1      [hey, team, among, important, year, american, ...   \n",
       "2      [joe, know, take, immediate, bold, action, tac...   \n",
       "3      [pete, buttigieg, joe, biden, amy, klobuchar, ...   \n",
       "4      [selected, pm, deadline, shameful, action, mad...   \n",
       "...                                                  ...   \n",
       "19060  [campaign, want, sure, youre, looped, news, ma...   \n",
       "19061                                           [latest]   \n",
       "19062  [know, lot, anxiously, awaiting, pick, vp, rea...   \n",
       "19063  [democrat, totally, touch, american, people, s...   \n",
       "19064  [joe, biden, surging, poll, momentum, behind, ...   \n",
       "\n",
       "                                                   words  \n",
       "0                                        youre powerless  \n",
       "1      hey team among important year american politic...  \n",
       "2      joe know take immediate bold action tackle cli...  \n",
       "3      pete buttigieg joe biden amy klobuchar joe bid...  \n",
       "4      selected pm deadline shameful action made thir...  \n",
       "...                                                  ...  \n",
       "19060  campaign want sure youre looped news matter st...  \n",
       "19061                                             latest  \n",
       "19062  know lot anxiously awaiting pick vp ready shar...  \n",
       "19063  democrat totally touch american people send re...  \n",
       "19064  joe biden surging poll momentum behind campaig...  \n",
       "\n",
       "[19065 rows x 8 columns]"
      ]
     },
     "execution_count": 47,
     "metadata": {},
     "output_type": "execute_result"
    }
   ],
   "source": [
    "#explore the new columns\n",
    "finaldf"
   ]
  },
  {
   "cell_type": "code",
   "execution_count": 48,
   "id": "769b8420",
   "metadata": {},
   "outputs": [
    {
     "data": {
      "text/plain": [
       "'you’ve been selected  before midnight after all of trump’s lies corruption and reckless behavior more than 40 of americans still approve of him as president you’ve been selected to let us know where you stand – and we’re 98 of the way to our response goal but time is running out let us know now do you approve of donald trump'"
      ]
     },
     "execution_count": 48,
     "metadata": {},
     "output_type": "execute_result"
    }
   ],
   "source": [
    "# check how the NLP processes affected the messages\n",
    "finaldf['message'][5]"
   ]
  },
  {
   "cell_type": "code",
   "execution_count": 49,
   "id": "23aa7e26",
   "metadata": {},
   "outputs": [
    {
     "data": {
      "text/plain": [
       "0                                       [youre, powerless]\n",
       "1        [hey, team, among, important, year, american, ...\n",
       "2        [joe, know, take, immediate, bold, action, tac...\n",
       "3        [pete, buttigieg, joe, biden, amy, klobuchar, ...\n",
       "4        [selected, pm, deadline, shameful, action, mad...\n",
       "                               ...                        \n",
       "19060    [campaign, want, sure, youre, looped, news, ma...\n",
       "19061                                             [latest]\n",
       "19062    [know, lot, anxiously, awaiting, pick, vp, rea...\n",
       "19063    [democrat, totally, touch, american, people, s...\n",
       "19064    [joe, biden, surging, poll, momentum, behind, ...\n",
       "Name: tokens, Length: 19065, dtype: object"
      ]
     },
     "execution_count": 49,
     "metadata": {},
     "output_type": "execute_result"
    }
   ],
   "source": [
    "finaldf['tokens']"
   ]
  },
  {
   "cell_type": "markdown",
   "id": "0450d667",
   "metadata": {},
   "source": [
    "# Visualizations on Data"
   ]
  },
  {
   "cell_type": "markdown",
   "id": "faa179f5",
   "metadata": {},
   "source": [
    "Now that the Final dataframe is is fully cleaned up and in a state that i think is good enough its time to explore trends in this dataframe before we go into modelling."
   ]
  },
  {
   "cell_type": "code",
   "execution_count": 50,
   "id": "3d6aeeac",
   "metadata": {},
   "outputs": [],
   "source": [
    "# Function to visualize the top 20 words in the different categories im exploring\n",
    "\n",
    "def visualize_top_20(freq_dist, title):\n",
    "    \n",
    "    plt.rcParams.update({'font.size': 13})\n",
    "    \n",
    "    # Extract data for plotting\n",
    "    top_20 = list(zip(*freq_dist.most_common(20)))\n",
    "    tokens = top_20[0]\n",
    "    counts = top_20[1]\n",
    "\n",
    "    # Set up plot and plot data\n",
    "    fig, ax = plt.subplots(figsize=(10,10))\n",
    "    ax.bar(tokens, counts)\n",
    "\n",
    "    # Customize plot appearance\n",
    "    ax.set_title(title)\n",
    "    ax.set_ylabel(\"Count\")\n",
    "    ax.yaxis.set_major_locator(MaxNLocator(integer=True))\n",
    "    ax.tick_params(axis=\"x\", rotation=90)\n",
    "    plt.tight_layout()\n",
    "    \n",
    "    # Save png of image to images folder using title as filename\n",
    "    plt.savefig(f'./images/{title}', facecolor='white', dpi=500)"
   ]
  },
  {
   "cell_type": "code",
   "execution_count": 51,
   "id": "31f3afbd",
   "metadata": {},
   "outputs": [
    {
     "data": {
      "image/png": "[encoded data removed]",
      "text/plain": [
       "<Figure size 720x720 with 1 Axes>"
      ]
     },
     "metadata": {
      "needs_background": "light"
     },
     "output_type": "display_data"
    }
   ],
   "source": [
    "# the top 20 words in the entire dataset\n",
    "sample_freq_dist = FreqDist(finaldf[\"tokens\"].explode())\n",
    "visualize_top_20(sample_freq_dist, \"Top 20 Word Frequency in Dataset\")"
   ]
  },
  {
   "cell_type": "code",
   "execution_count": 52,
   "id": "f8e8c545",
   "metadata": {},
   "outputs": [
    {
     "data": {
      "image/png": "[encoded data removed]",
      "text/plain": [
       "<Figure size 720x720 with 1 Axes>"
      ]
     },
     "metadata": {
      "needs_background": "light"
     },
     "output_type": "display_data"
    }
   ],
   "source": [
    "# Ten most common words appearing in democrat ads\n",
    "sample_freq_dist = FreqDist(finaldf[\"tokens\"].loc[finaldf['Party'] == 'Democrat'].explode())\n",
    "visualize_top_20(sample_freq_dist, \"Top 20 Word Frequency for democrats\")"
   ]
  },
  {
   "cell_type": "code",
   "execution_count": 53,
   "id": "c224f84c",
   "metadata": {},
   "outputs": [
    {
     "data": {
      "image/png": "[encoded data removed]",
      "text/plain": [
       "<Figure size 720x720 with 1 Axes>"
      ]
     },
     "metadata": {
      "needs_background": "light"
     },
     "output_type": "display_data"
    }
   ],
   "source": [
    "# Ten most common words appearing in Republican ads\n",
    "sample_freq_dist = FreqDist(finaldf[\"tokens\"].loc[finaldf['Party'] == 'Republican'].explode())\n",
    "visualize_top_20(sample_freq_dist, \"Top 20 Word Frequency for republicans\")"
   ]
  },
  {
   "cell_type": "markdown",
   "id": "5adba167",
   "metadata": {},
   "source": [
    "After Exploring the top words in each list and making sure there was no overlap between the top 20 words for democrats and republicans i figured i would create wordclouds of those two political parties words in the shape of the two most recognizable figures from each party, Donald Trump and Joe Biden, the Background will be black as that will be the background of my presentation, and the colors will be in the color of the each political party."
   ]
  },
  {
   "cell_type": "markdown",
   "id": "ccaf3c6f",
   "metadata": {},
   "source": [
    "This part of my project was information i had not learned during my time at my course at Flatiron. I learned how to create wordclouds from this website: https://amueller.github.io/word_cloud/auto_examples/a_new_hope.html as well as all the tabs on the side that teach different aspects of creating wordclouds. in order for an image to fit the wordcloud i had to make sure that i found or created images with colors that were pure black for the image itself and white for the background so the code could read what shape i wanted my wordcloud to be. The process of creating a wordcloud mask was actually quite difficult for me, first i had to find images that were either black and white with 0 and 255 color codes or i had to find images with plain colors that i could personally photoshop to make the colors be suitable for a mask, for these specific wordclouds i found images of trump or biden that were silhouettes of their heads with a flat color background on google and then photoshopped the image so that the heads were pure black for both polticians and their backgrounds were pure white so that the masking did not pick up on anything besides the heads. Using what i learned from the website i linked i applied the images that i created to an array using the image.open function so that the colors were coded so that the shape i wanted was 255 in all the spaces i made black and 0 for the background. This allowed my wordcloud function to only put words within the shape that i had designated which was each presidents head and allowed me to use a contour around the perimiter to highlight the shape. i then used different aspects within the wordcloud function to change the colors to the ones i wished and the wordcloud function created a wordcloud of the most common words in both dem and rep freq. I then made the background black as for both my github and presentation i was using a black background and color coded the words and contour to each political party. this process was by far the most difficult im my project but im glad the images turned out as well as they did even though the mask for the wordcloud had some flaws in it."
   ]
  },
  {
   "cell_type": "code",
   "execution_count": 54,
   "id": "355a3b7c",
   "metadata": {},
   "outputs": [],
   "source": [
    "# the color of the words within the wordcloud for democrats\n",
    "demcol = get_single_color_func('deepskyblue')"
   ]
  },
  {
   "cell_type": "code",
   "execution_count": 55,
   "id": "bb683336",
   "metadata": {},
   "outputs": [
    {
     "data": {
      "image/png": "[encoded data removed]",
      "text/plain": [
       "<Figure size 432x288 with 1 Axes>"
      ]
     },
     "metadata": {
      "needs_background": "light"
     },
     "output_type": "display_data"
    }
   ],
   "source": [
    "#create a mask for the word cloud shapes for democrats\n",
    "maskdem = np.array(Image.open(\"./images/biden.jpg\"))\n",
    "\n",
    "# Create wordcloud for democratic ads for presentation\n",
    "dem_word = finaldf[\"words\"].loc[finaldf['Party'] == 'Democrat']\n",
    "dem_text=\" \".join(row for row in dem_word)\n",
    "dem_freq = {}\n",
    "for i in dem_text.split():\n",
    "    if i in dem_freq:\n",
    "        dem_freq[i] += 1\n",
    "    else:\n",
    "        dem_freq[i] = 1\n",
    "dem_wordcloud = WordCloud(collocations=False, mask=maskdem, contour_width=2, contour_color='steelblue', background_color='black', width=1200, height=800).generate_from_frequencies(dem_freq)\n",
    "plt.imshow(dem_wordcloud.recolor(color_func=demcol, random_state=5), interpolation='bilinear')\n",
    "plt.axis(\"off\")\n",
    "plt.tight_layout()\n",
    "plt.show()\n",
    "\n",
    "dem_wordcloud.to_file(\"./images/dem_cloud.png\");"
   ]
  },
  {
   "cell_type": "code",
   "execution_count": 56,
   "id": "92eec491",
   "metadata": {},
   "outputs": [],
   "source": [
    "# the color of the words within the wordcloud for republicans\n",
    "repcol = get_single_color_func('orangered')"
   ]
  },
  {
   "cell_type": "code",
   "execution_count": 57,
   "id": "e9d22152",
   "metadata": {},
   "outputs": [
    {
     "data": {
      "image/png": "[encoded data removed]",
      "text/plain": [
       "<Figure size 432x288 with 1 Axes>"
      ]
     },
     "metadata": {
      "needs_background": "light"
     },
     "output_type": "display_data"
    }
   ],
   "source": [
    "#create a mask for the word cloud shapes for democrats\n",
    "maskrep = np.array(Image.open(\"./images/trump.jpg\"))\n",
    "# Create wordcloud for democratic ads for presentation\n",
    "rep_word = finaldf[\"words\"].loc[finaldf['Party'] == 'Republican']\n",
    "rep_text=\" \".join(row for row in rep_word)\n",
    "rep_freq = {}\n",
    "for i in rep_text.split():\n",
    "    if i in rep_freq:\n",
    "        rep_freq[i] += 1\n",
    "    else:\n",
    "        rep_freq[i] = 1\n",
    "rep_wordcloud = WordCloud(collocations=False, mask=maskrep, contour_width=2, contour_color='darkred', background_color='black', width=1200, height=800).generate_from_frequencies(rep_freq)\n",
    "plt.imshow(rep_wordcloud.recolor(color_func=repcol, random_state=1), interpolation='bilinear')\n",
    "plt.axis(\"off\")\n",
    "plt.tight_layout()\n",
    "plt.show()\n",
    "\n",
    "rep_wordcloud.to_file(\"./images/rep_cloud.png\");"
   ]
  },
  {
   "cell_type": "markdown",
   "id": "55989163",
   "metadata": {},
   "source": [
    "Even though i had the numbers earlier of the party distribution within the final dataframe i wanted to create a visualization to better show the data."
   ]
  },
  {
   "cell_type": "code",
   "execution_count": 58,
   "id": "3fec4047",
   "metadata": {},
   "outputs": [
    {
     "data": {
      "image/png": "[encoded data removed]",
      "text/plain": [
       "<Figure size 720x576 with 1 Axes>"
      ]
     },
     "metadata": {},
     "output_type": "display_data"
    }
   ],
   "source": [
    "# Plot party Distribution\n",
    "fig, ax = plt.subplots(figsize=(10, 8), subplot_kw=dict(aspect=\"equal\"))\n",
    "\n",
    "info = [\"15944 Democrats\",\n",
    "          \"3121 Republicans\"]\n",
    "\n",
    "data = [float(x.split()[0]) for x in info]\n",
    "party = [x.split()[-1] for x in info]\n",
    "\n",
    "\n",
    "def func(pct, allvals):\n",
    "    absolute = int(np.round(pct/100.*np.sum(allvals)))\n",
    "    return \"{:.1f}%\\n({:d} ads)\".format(pct, absolute)\n",
    "\n",
    "wedges, texts, ad_distribution = ax.pie(data, autopct=lambda pct: func(pct, data),\n",
    "                                  textprops=dict(color=\"w\"))\n",
    "ax.legend(wedges, party,\n",
    "          title=\"Party\",\n",
    "          loc=\"right\",)\n",
    "party_ad_distribution = plt.setp(ad_distribution, size=14, weight=\"bold\")\n",
    "ax.set_title(\"Percent Ads by Politcal Party\")\n",
    "plt.show()"
   ]
  },
  {
   "cell_type": "code",
   "execution_count": 59,
   "id": "b32e4fa9",
   "metadata": {},
   "outputs": [
    {
     "data": {
      "text/plain": [
       "2.381209232313096"
      ]
     },
     "execution_count": 59,
     "metadata": {},
     "output_type": "execute_result"
    }
   ],
   "source": [
    "# explore the number of impressions each ad got on average for democrats\n",
    "justdem = finaldf[finaldf['Party'] != 'Republican']\n",
    "demimp = justdem['impressions'].mean()\n",
    "demimp"
   ]
  },
  {
   "cell_type": "code",
   "execution_count": 60,
   "id": "69ad0dc5",
   "metadata": {},
   "outputs": [
    {
     "data": {
      "text/plain": [
       "1.5908362704261454"
      ]
     },
     "execution_count": 60,
     "metadata": {},
     "output_type": "execute_result"
    }
   ],
   "source": [
    "# explore the number of impressions each ad got on average for Republicans\n",
    "justrep = finaldf[finaldf['Party'] != 'Democrat']\n",
    "repimp = justrep['impressions'].mean()\n",
    "repimp"
   ]
  },
  {
   "cell_type": "markdown",
   "id": "38533b9b",
   "metadata": {},
   "source": [
    "# Modelling"
   ]
  },
  {
   "cell_type": "markdown",
   "id": "2fc269ec",
   "metadata": {},
   "source": [
    "Now that i have finalized my data and looked at the common words its time to start the modeling process.\n",
    "\n",
    "My approach was to use a large number of untuned classifiers and determine which does the best job of returning a cross-validated accuracy score then i plan to take the best performers and run grid searches on them and potentially run a neural network so that my accuracy in predicting political party affiliation is as high as i can get it."
   ]
  },
  {
   "cell_type": "markdown",
   "id": "a36b4cf5",
   "metadata": {},
   "source": [
    "### Train Test Split"
   ]
  },
  {
   "cell_type": "markdown",
   "id": "629f2ae8",
   "metadata": {},
   "source": [
    "i will perform a simple train test split leaving 30% of the data as test data for my models and also vectorize the data to get a better look at the distribution."
   ]
  },
  {
   "cell_type": "code",
   "execution_count": 61,
   "id": "795866f8",
   "metadata": {},
   "outputs": [],
   "source": [
    "# Specify X as the cleaned strings in finaldf['words'] and y as the party affiliation.\n",
    "X = finaldf['words']\n",
    "y = finaldf['Party']"
   ]
  },
  {
   "cell_type": "code",
   "execution_count": 62,
   "id": "560b076b",
   "metadata": {},
   "outputs": [],
   "source": [
    "#Performed the train-test split, using 30% for the hold-out data.\n",
    "X_train, X_test, y_train, y_test = train_test_split(X,\n",
    "                                                    y,\n",
    "                                                    random_state=42,\n",
    "                                                    test_size=0.30)"
   ]
  },
  {
   "cell_type": "code",
   "execution_count": 63,
   "id": "4412eb63",
   "metadata": {},
   "outputs": [
    {
     "data": {
      "text/plain": [
       "<13345x12089 sparse matrix of type '<class 'numpy.float64'>'\n",
       "\twith 365615 stored elements in Compressed Sparse Row format>"
      ]
     },
     "execution_count": 63,
     "metadata": {},
     "output_type": "execute_result"
    }
   ],
   "source": [
    "tfidf = TfidfVectorizer(max_features=None)\n",
    "X_train_vectorized = tfidf.fit_transform(X_train)\n",
    "X_train_vectorized"
   ]
  },
  {
   "cell_type": "code",
   "execution_count": 64,
   "id": "9d848f40",
   "metadata": {},
   "outputs": [
    {
     "data": {
      "text/html": [
       "<div>\n",
       "<style scoped>\n",
       "    .dataframe tbody tr th:only-of-type {\n",
       "        vertical-align: middle;\n",
       "    }\n",
       "\n",
       "    .dataframe tbody tr th {\n",
       "        vertical-align: top;\n",
       "    }\n",
       "\n",
       "    .dataframe thead th {\n",
       "        text-align: right;\n",
       "    }\n",
       "</style>\n",
       "<table border=\"1\" class=\"dataframe\">\n",
       "  <thead>\n",
       "    <tr style=\"text-align: right;\">\n",
       "      <th></th>\n",
       "      <th>0br</th>\n",
       "      <th>0span</th>\n",
       "      <th>100year</th>\n",
       "      <th>10br</th>\n",
       "      <th>10sh</th>\n",
       "      <th>10th</th>\n",
       "      <th>1159pm</th>\n",
       "      <th>115th</th>\n",
       "      <th>116br</th>\n",
       "      <th>116th</th>\n",
       "      <th>...</th>\n",
       "      <th>zodiac</th>\n",
       "      <th>zombie</th>\n",
       "      <th>zondervan</th>\n",
       "      <th>zonesspan</th>\n",
       "      <th>zoo</th>\n",
       "      <th>zpr</th>\n",
       "      <th>zuckerberg</th>\n",
       "      <th>zuckerbergspan</th>\n",
       "      <th>él</th>\n",
       "      <th>éxito</th>\n",
       "    </tr>\n",
       "  </thead>\n",
       "  <tbody>\n",
       "    <tr>\n",
       "      <th>0</th>\n",
       "      <td>0.0</td>\n",
       "      <td>0.0</td>\n",
       "      <td>0.0</td>\n",
       "      <td>0.0</td>\n",
       "      <td>0.0</td>\n",
       "      <td>0.0</td>\n",
       "      <td>0.0</td>\n",
       "      <td>0.0</td>\n",
       "      <td>0.0</td>\n",
       "      <td>0.0</td>\n",
       "      <td>...</td>\n",
       "      <td>0.0</td>\n",
       "      <td>0.0</td>\n",
       "      <td>0.0</td>\n",
       "      <td>0.0</td>\n",
       "      <td>0.0</td>\n",
       "      <td>0.0</td>\n",
       "      <td>0.0</td>\n",
       "      <td>0.0</td>\n",
       "      <td>0.0</td>\n",
       "      <td>0.0</td>\n",
       "    </tr>\n",
       "    <tr>\n",
       "      <th>1</th>\n",
       "      <td>0.0</td>\n",
       "      <td>0.0</td>\n",
       "      <td>0.0</td>\n",
       "      <td>0.0</td>\n",
       "      <td>0.0</td>\n",
       "      <td>0.0</td>\n",
       "      <td>0.0</td>\n",
       "      <td>0.0</td>\n",
       "      <td>0.0</td>\n",
       "      <td>0.0</td>\n",
       "      <td>...</td>\n",
       "      <td>0.0</td>\n",
       "      <td>0.0</td>\n",
       "      <td>0.0</td>\n",
       "      <td>0.0</td>\n",
       "      <td>0.0</td>\n",
       "      <td>0.0</td>\n",
       "      <td>0.0</td>\n",
       "      <td>0.0</td>\n",
       "      <td>0.0</td>\n",
       "      <td>0.0</td>\n",
       "    </tr>\n",
       "    <tr>\n",
       "      <th>2</th>\n",
       "      <td>0.0</td>\n",
       "      <td>0.0</td>\n",
       "      <td>0.0</td>\n",
       "      <td>0.0</td>\n",
       "      <td>0.0</td>\n",
       "      <td>0.0</td>\n",
       "      <td>0.0</td>\n",
       "      <td>0.0</td>\n",
       "      <td>0.0</td>\n",
       "      <td>0.0</td>\n",
       "      <td>...</td>\n",
       "      <td>0.0</td>\n",
       "      <td>0.0</td>\n",
       "      <td>0.0</td>\n",
       "      <td>0.0</td>\n",
       "      <td>0.0</td>\n",
       "      <td>0.0</td>\n",
       "      <td>0.0</td>\n",
       "      <td>0.0</td>\n",
       "      <td>0.0</td>\n",
       "      <td>0.0</td>\n",
       "    </tr>\n",
       "    <tr>\n",
       "      <th>3</th>\n",
       "      <td>0.0</td>\n",
       "      <td>0.0</td>\n",
       "      <td>0.0</td>\n",
       "      <td>0.0</td>\n",
       "      <td>0.0</td>\n",
       "      <td>0.0</td>\n",
       "      <td>0.0</td>\n",
       "      <td>0.0</td>\n",
       "      <td>0.0</td>\n",
       "      <td>0.0</td>\n",
       "      <td>...</td>\n",
       "      <td>0.0</td>\n",
       "      <td>0.0</td>\n",
       "      <td>0.0</td>\n",
       "      <td>0.0</td>\n",
       "      <td>0.0</td>\n",
       "      <td>0.0</td>\n",
       "      <td>0.0</td>\n",
       "      <td>0.0</td>\n",
       "      <td>0.0</td>\n",
       "      <td>0.0</td>\n",
       "    </tr>\n",
       "    <tr>\n",
       "      <th>4</th>\n",
       "      <td>0.0</td>\n",
       "      <td>0.0</td>\n",
       "      <td>0.0</td>\n",
       "      <td>0.0</td>\n",
       "      <td>0.0</td>\n",
       "      <td>0.0</td>\n",
       "      <td>0.0</td>\n",
       "      <td>0.0</td>\n",
       "      <td>0.0</td>\n",
       "      <td>0.0</td>\n",
       "      <td>...</td>\n",
       "      <td>0.0</td>\n",
       "      <td>0.0</td>\n",
       "      <td>0.0</td>\n",
       "      <td>0.0</td>\n",
       "      <td>0.0</td>\n",
       "      <td>0.0</td>\n",
       "      <td>0.0</td>\n",
       "      <td>0.0</td>\n",
       "      <td>0.0</td>\n",
       "      <td>0.0</td>\n",
       "    </tr>\n",
       "    <tr>\n",
       "      <th>...</th>\n",
       "      <td>...</td>\n",
       "      <td>...</td>\n",
       "      <td>...</td>\n",
       "      <td>...</td>\n",
       "      <td>...</td>\n",
       "      <td>...</td>\n",
       "      <td>...</td>\n",
       "      <td>...</td>\n",
       "      <td>...</td>\n",
       "      <td>...</td>\n",
       "      <td>...</td>\n",
       "      <td>...</td>\n",
       "      <td>...</td>\n",
       "      <td>...</td>\n",
       "      <td>...</td>\n",
       "      <td>...</td>\n",
       "      <td>...</td>\n",
       "      <td>...</td>\n",
       "      <td>...</td>\n",
       "      <td>...</td>\n",
       "      <td>...</td>\n",
       "    </tr>\n",
       "    <tr>\n",
       "      <th>13340</th>\n",
       "      <td>0.0</td>\n",
       "      <td>0.0</td>\n",
       "      <td>0.0</td>\n",
       "      <td>0.0</td>\n",
       "      <td>0.0</td>\n",
       "      <td>0.0</td>\n",
       "      <td>0.0</td>\n",
       "      <td>0.0</td>\n",
       "      <td>0.0</td>\n",
       "      <td>0.0</td>\n",
       "      <td>...</td>\n",
       "      <td>0.0</td>\n",
       "      <td>0.0</td>\n",
       "      <td>0.0</td>\n",
       "      <td>0.0</td>\n",
       "      <td>0.0</td>\n",
       "      <td>0.0</td>\n",
       "      <td>0.0</td>\n",
       "      <td>0.0</td>\n",
       "      <td>0.0</td>\n",
       "      <td>0.0</td>\n",
       "    </tr>\n",
       "    <tr>\n",
       "      <th>13341</th>\n",
       "      <td>0.0</td>\n",
       "      <td>0.0</td>\n",
       "      <td>0.0</td>\n",
       "      <td>0.0</td>\n",
       "      <td>0.0</td>\n",
       "      <td>0.0</td>\n",
       "      <td>0.0</td>\n",
       "      <td>0.0</td>\n",
       "      <td>0.0</td>\n",
       "      <td>0.0</td>\n",
       "      <td>...</td>\n",
       "      <td>0.0</td>\n",
       "      <td>0.0</td>\n",
       "      <td>0.0</td>\n",
       "      <td>0.0</td>\n",
       "      <td>0.0</td>\n",
       "      <td>0.0</td>\n",
       "      <td>0.0</td>\n",
       "      <td>0.0</td>\n",
       "      <td>0.0</td>\n",
       "      <td>0.0</td>\n",
       "    </tr>\n",
       "    <tr>\n",
       "      <th>13342</th>\n",
       "      <td>0.0</td>\n",
       "      <td>0.0</td>\n",
       "      <td>0.0</td>\n",
       "      <td>0.0</td>\n",
       "      <td>0.0</td>\n",
       "      <td>0.0</td>\n",
       "      <td>0.0</td>\n",
       "      <td>0.0</td>\n",
       "      <td>0.0</td>\n",
       "      <td>0.0</td>\n",
       "      <td>...</td>\n",
       "      <td>0.0</td>\n",
       "      <td>0.0</td>\n",
       "      <td>0.0</td>\n",
       "      <td>0.0</td>\n",
       "      <td>0.0</td>\n",
       "      <td>0.0</td>\n",
       "      <td>0.0</td>\n",
       "      <td>0.0</td>\n",
       "      <td>0.0</td>\n",
       "      <td>0.0</td>\n",
       "    </tr>\n",
       "    <tr>\n",
       "      <th>13343</th>\n",
       "      <td>0.0</td>\n",
       "      <td>0.0</td>\n",
       "      <td>0.0</td>\n",
       "      <td>0.0</td>\n",
       "      <td>0.0</td>\n",
       "      <td>0.0</td>\n",
       "      <td>0.0</td>\n",
       "      <td>0.0</td>\n",
       "      <td>0.0</td>\n",
       "      <td>0.0</td>\n",
       "      <td>...</td>\n",
       "      <td>0.0</td>\n",
       "      <td>0.0</td>\n",
       "      <td>0.0</td>\n",
       "      <td>0.0</td>\n",
       "      <td>0.0</td>\n",
       "      <td>0.0</td>\n",
       "      <td>0.0</td>\n",
       "      <td>0.0</td>\n",
       "      <td>0.0</td>\n",
       "      <td>0.0</td>\n",
       "    </tr>\n",
       "    <tr>\n",
       "      <th>13344</th>\n",
       "      <td>0.0</td>\n",
       "      <td>0.0</td>\n",
       "      <td>0.0</td>\n",
       "      <td>0.0</td>\n",
       "      <td>0.0</td>\n",
       "      <td>0.0</td>\n",
       "      <td>0.0</td>\n",
       "      <td>0.0</td>\n",
       "      <td>0.0</td>\n",
       "      <td>0.0</td>\n",
       "      <td>...</td>\n",
       "      <td>0.0</td>\n",
       "      <td>0.0</td>\n",
       "      <td>0.0</td>\n",
       "      <td>0.0</td>\n",
       "      <td>0.0</td>\n",
       "      <td>0.0</td>\n",
       "      <td>0.0</td>\n",
       "      <td>0.0</td>\n",
       "      <td>0.0</td>\n",
       "      <td>0.0</td>\n",
       "    </tr>\n",
       "  </tbody>\n",
       "</table>\n",
       "<p>13345 rows × 12089 columns</p>\n",
       "</div>"
      ],
      "text/plain": [
       "       0br  0span  100year  10br  10sh  10th  1159pm  115th  116br  116th  \\\n",
       "0      0.0    0.0      0.0   0.0   0.0   0.0     0.0    0.0    0.0    0.0   \n",
       "1      0.0    0.0      0.0   0.0   0.0   0.0     0.0    0.0    0.0    0.0   \n",
       "2      0.0    0.0      0.0   0.0   0.0   0.0     0.0    0.0    0.0    0.0   \n",
       "3      0.0    0.0      0.0   0.0   0.0   0.0     0.0    0.0    0.0    0.0   \n",
       "4      0.0    0.0      0.0   0.0   0.0   0.0     0.0    0.0    0.0    0.0   \n",
       "...    ...    ...      ...   ...   ...   ...     ...    ...    ...    ...   \n",
       "13340  0.0    0.0      0.0   0.0   0.0   0.0     0.0    0.0    0.0    0.0   \n",
       "13341  0.0    0.0      0.0   0.0   0.0   0.0     0.0    0.0    0.0    0.0   \n",
       "13342  0.0    0.0      0.0   0.0   0.0   0.0     0.0    0.0    0.0    0.0   \n",
       "13343  0.0    0.0      0.0   0.0   0.0   0.0     0.0    0.0    0.0    0.0   \n",
       "13344  0.0    0.0      0.0   0.0   0.0   0.0     0.0    0.0    0.0    0.0   \n",
       "\n",
       "       ...  zodiac  zombie  zondervan  zonesspan  zoo  zpr  zuckerberg  \\\n",
       "0      ...     0.0     0.0        0.0        0.0  0.0  0.0         0.0   \n",
       "1      ...     0.0     0.0        0.0        0.0  0.0  0.0         0.0   \n",
       "2      ...     0.0     0.0        0.0        0.0  0.0  0.0         0.0   \n",
       "3      ...     0.0     0.0        0.0        0.0  0.0  0.0         0.0   \n",
       "4      ...     0.0     0.0        0.0        0.0  0.0  0.0         0.0   \n",
       "...    ...     ...     ...        ...        ...  ...  ...         ...   \n",
       "13340  ...     0.0     0.0        0.0        0.0  0.0  0.0         0.0   \n",
       "13341  ...     0.0     0.0        0.0        0.0  0.0  0.0         0.0   \n",
       "13342  ...     0.0     0.0        0.0        0.0  0.0  0.0         0.0   \n",
       "13343  ...     0.0     0.0        0.0        0.0  0.0  0.0         0.0   \n",
       "13344  ...     0.0     0.0        0.0        0.0  0.0  0.0         0.0   \n",
       "\n",
       "       zuckerbergspan   él  éxito  \n",
       "0                 0.0  0.0    0.0  \n",
       "1                 0.0  0.0    0.0  \n",
       "2                 0.0  0.0    0.0  \n",
       "3                 0.0  0.0    0.0  \n",
       "4                 0.0  0.0    0.0  \n",
       "...               ...  ...    ...  \n",
       "13340             0.0  0.0    0.0  \n",
       "13341             0.0  0.0    0.0  \n",
       "13342             0.0  0.0    0.0  \n",
       "13343             0.0  0.0    0.0  \n",
       "13344             0.0  0.0    0.0  \n",
       "\n",
       "[13345 rows x 12089 columns]"
      ]
     },
     "execution_count": 64,
     "metadata": {},
     "output_type": "execute_result"
    }
   ],
   "source": [
    "# Convert vectorized X_train to a vector for easier visual inspection.\n",
    "X_train_vec = pd.DataFrame.sparse.from_spmatrix(X_train_vectorized, columns=tfidf.get_feature_names())\n",
    "X_train_vec"
   ]
  },
  {
   "cell_type": "code",
   "execution_count": 65,
   "id": "d0605e68",
   "metadata": {},
   "outputs": [
    {
     "data": {
      "text/plain": [
       "<5720x12089 sparse matrix of type '<class 'numpy.float64'>'\n",
       "\twith 155688 stored elements in Compressed Sparse Row format>"
      ]
     },
     "execution_count": 65,
     "metadata": {},
     "output_type": "execute_result"
    }
   ],
   "source": [
    "# Transform test data using TF-IDF Vectorizer trained on X_train, y_train\n",
    "X_test_vectorized = tfidf.transform(X_test)\n",
    "X_test_vectorized"
   ]
  },
  {
   "cell_type": "code",
   "execution_count": 66,
   "id": "44a77906",
   "metadata": {},
   "outputs": [
    {
     "data": {
      "text/html": [
       "<div>\n",
       "<style scoped>\n",
       "    .dataframe tbody tr th:only-of-type {\n",
       "        vertical-align: middle;\n",
       "    }\n",
       "\n",
       "    .dataframe tbody tr th {\n",
       "        vertical-align: top;\n",
       "    }\n",
       "\n",
       "    .dataframe thead th {\n",
       "        text-align: right;\n",
       "    }\n",
       "</style>\n",
       "<table border=\"1\" class=\"dataframe\">\n",
       "  <thead>\n",
       "    <tr style=\"text-align: right;\">\n",
       "      <th></th>\n",
       "      <th>0br</th>\n",
       "      <th>0span</th>\n",
       "      <th>100year</th>\n",
       "      <th>10br</th>\n",
       "      <th>10sh</th>\n",
       "      <th>10th</th>\n",
       "      <th>1159pm</th>\n",
       "      <th>115th</th>\n",
       "      <th>116br</th>\n",
       "      <th>116th</th>\n",
       "      <th>...</th>\n",
       "      <th>zodiac</th>\n",
       "      <th>zombie</th>\n",
       "      <th>zondervan</th>\n",
       "      <th>zonesspan</th>\n",
       "      <th>zoo</th>\n",
       "      <th>zpr</th>\n",
       "      <th>zuckerberg</th>\n",
       "      <th>zuckerbergspan</th>\n",
       "      <th>él</th>\n",
       "      <th>éxito</th>\n",
       "    </tr>\n",
       "  </thead>\n",
       "  <tbody>\n",
       "    <tr>\n",
       "      <th>0</th>\n",
       "      <td>0.0</td>\n",
       "      <td>0.0</td>\n",
       "      <td>0.0</td>\n",
       "      <td>0.0</td>\n",
       "      <td>0.0</td>\n",
       "      <td>0.0</td>\n",
       "      <td>0.0</td>\n",
       "      <td>0.0</td>\n",
       "      <td>0.0</td>\n",
       "      <td>0.0</td>\n",
       "      <td>...</td>\n",
       "      <td>0.0</td>\n",
       "      <td>0.0</td>\n",
       "      <td>0.0</td>\n",
       "      <td>0.0</td>\n",
       "      <td>0.0</td>\n",
       "      <td>0.0</td>\n",
       "      <td>0.0</td>\n",
       "      <td>0.0</td>\n",
       "      <td>0.0</td>\n",
       "      <td>0.0</td>\n",
       "    </tr>\n",
       "    <tr>\n",
       "      <th>1</th>\n",
       "      <td>0.0</td>\n",
       "      <td>0.0</td>\n",
       "      <td>0.0</td>\n",
       "      <td>0.0</td>\n",
       "      <td>0.0</td>\n",
       "      <td>0.0</td>\n",
       "      <td>0.0</td>\n",
       "      <td>0.0</td>\n",
       "      <td>0.0</td>\n",
       "      <td>0.0</td>\n",
       "      <td>...</td>\n",
       "      <td>0.0</td>\n",
       "      <td>0.0</td>\n",
       "      <td>0.0</td>\n",
       "      <td>0.0</td>\n",
       "      <td>0.0</td>\n",
       "      <td>0.0</td>\n",
       "      <td>0.0</td>\n",
       "      <td>0.0</td>\n",
       "      <td>0.0</td>\n",
       "      <td>0.0</td>\n",
       "    </tr>\n",
       "    <tr>\n",
       "      <th>2</th>\n",
       "      <td>0.0</td>\n",
       "      <td>0.0</td>\n",
       "      <td>0.0</td>\n",
       "      <td>0.0</td>\n",
       "      <td>0.0</td>\n",
       "      <td>0.0</td>\n",
       "      <td>0.0</td>\n",
       "      <td>0.0</td>\n",
       "      <td>0.0</td>\n",
       "      <td>0.0</td>\n",
       "      <td>...</td>\n",
       "      <td>0.0</td>\n",
       "      <td>0.0</td>\n",
       "      <td>0.0</td>\n",
       "      <td>0.0</td>\n",
       "      <td>0.0</td>\n",
       "      <td>0.0</td>\n",
       "      <td>0.0</td>\n",
       "      <td>0.0</td>\n",
       "      <td>0.0</td>\n",
       "      <td>0.0</td>\n",
       "    </tr>\n",
       "    <tr>\n",
       "      <th>3</th>\n",
       "      <td>0.0</td>\n",
       "      <td>0.0</td>\n",
       "      <td>0.0</td>\n",
       "      <td>0.0</td>\n",
       "      <td>0.0</td>\n",
       "      <td>0.0</td>\n",
       "      <td>0.0</td>\n",
       "      <td>0.0</td>\n",
       "      <td>0.0</td>\n",
       "      <td>0.0</td>\n",
       "      <td>...</td>\n",
       "      <td>0.0</td>\n",
       "      <td>0.0</td>\n",
       "      <td>0.0</td>\n",
       "      <td>0.0</td>\n",
       "      <td>0.0</td>\n",
       "      <td>0.0</td>\n",
       "      <td>0.0</td>\n",
       "      <td>0.0</td>\n",
       "      <td>0.0</td>\n",
       "      <td>0.0</td>\n",
       "    </tr>\n",
       "    <tr>\n",
       "      <th>4</th>\n",
       "      <td>0.0</td>\n",
       "      <td>0.0</td>\n",
       "      <td>0.0</td>\n",
       "      <td>0.0</td>\n",
       "      <td>0.0</td>\n",
       "      <td>0.0</td>\n",
       "      <td>0.0</td>\n",
       "      <td>0.0</td>\n",
       "      <td>0.0</td>\n",
       "      <td>0.0</td>\n",
       "      <td>...</td>\n",
       "      <td>0.0</td>\n",
       "      <td>0.0</td>\n",
       "      <td>0.0</td>\n",
       "      <td>0.0</td>\n",
       "      <td>0.0</td>\n",
       "      <td>0.0</td>\n",
       "      <td>0.0</td>\n",
       "      <td>0.0</td>\n",
       "      <td>0.0</td>\n",
       "      <td>0.0</td>\n",
       "    </tr>\n",
       "    <tr>\n",
       "      <th>...</th>\n",
       "      <td>...</td>\n",
       "      <td>...</td>\n",
       "      <td>...</td>\n",
       "      <td>...</td>\n",
       "      <td>...</td>\n",
       "      <td>...</td>\n",
       "      <td>...</td>\n",
       "      <td>...</td>\n",
       "      <td>...</td>\n",
       "      <td>...</td>\n",
       "      <td>...</td>\n",
       "      <td>...</td>\n",
       "      <td>...</td>\n",
       "      <td>...</td>\n",
       "      <td>...</td>\n",
       "      <td>...</td>\n",
       "      <td>...</td>\n",
       "      <td>...</td>\n",
       "      <td>...</td>\n",
       "      <td>...</td>\n",
       "      <td>...</td>\n",
       "    </tr>\n",
       "    <tr>\n",
       "      <th>5715</th>\n",
       "      <td>0.0</td>\n",
       "      <td>0.0</td>\n",
       "      <td>0.0</td>\n",
       "      <td>0.0</td>\n",
       "      <td>0.0</td>\n",
       "      <td>0.0</td>\n",
       "      <td>0.0</td>\n",
       "      <td>0.0</td>\n",
       "      <td>0.0</td>\n",
       "      <td>0.0</td>\n",
       "      <td>...</td>\n",
       "      <td>0.0</td>\n",
       "      <td>0.0</td>\n",
       "      <td>0.0</td>\n",
       "      <td>0.0</td>\n",
       "      <td>0.0</td>\n",
       "      <td>0.0</td>\n",
       "      <td>0.0</td>\n",
       "      <td>0.0</td>\n",
       "      <td>0.0</td>\n",
       "      <td>0.0</td>\n",
       "    </tr>\n",
       "    <tr>\n",
       "      <th>5716</th>\n",
       "      <td>0.0</td>\n",
       "      <td>0.0</td>\n",
       "      <td>0.0</td>\n",
       "      <td>0.0</td>\n",
       "      <td>0.0</td>\n",
       "      <td>0.0</td>\n",
       "      <td>0.0</td>\n",
       "      <td>0.0</td>\n",
       "      <td>0.0</td>\n",
       "      <td>0.0</td>\n",
       "      <td>...</td>\n",
       "      <td>0.0</td>\n",
       "      <td>0.0</td>\n",
       "      <td>0.0</td>\n",
       "      <td>0.0</td>\n",
       "      <td>0.0</td>\n",
       "      <td>0.0</td>\n",
       "      <td>0.0</td>\n",
       "      <td>0.0</td>\n",
       "      <td>0.0</td>\n",
       "      <td>0.0</td>\n",
       "    </tr>\n",
       "    <tr>\n",
       "      <th>5717</th>\n",
       "      <td>0.0</td>\n",
       "      <td>0.0</td>\n",
       "      <td>0.0</td>\n",
       "      <td>0.0</td>\n",
       "      <td>0.0</td>\n",
       "      <td>0.0</td>\n",
       "      <td>0.0</td>\n",
       "      <td>0.0</td>\n",
       "      <td>0.0</td>\n",
       "      <td>0.0</td>\n",
       "      <td>...</td>\n",
       "      <td>0.0</td>\n",
       "      <td>0.0</td>\n",
       "      <td>0.0</td>\n",
       "      <td>0.0</td>\n",
       "      <td>0.0</td>\n",
       "      <td>0.0</td>\n",
       "      <td>0.0</td>\n",
       "      <td>0.0</td>\n",
       "      <td>0.0</td>\n",
       "      <td>0.0</td>\n",
       "    </tr>\n",
       "    <tr>\n",
       "      <th>5718</th>\n",
       "      <td>0.0</td>\n",
       "      <td>0.0</td>\n",
       "      <td>0.0</td>\n",
       "      <td>0.0</td>\n",
       "      <td>0.0</td>\n",
       "      <td>0.0</td>\n",
       "      <td>0.0</td>\n",
       "      <td>0.0</td>\n",
       "      <td>0.0</td>\n",
       "      <td>0.0</td>\n",
       "      <td>...</td>\n",
       "      <td>0.0</td>\n",
       "      <td>0.0</td>\n",
       "      <td>0.0</td>\n",
       "      <td>0.0</td>\n",
       "      <td>0.0</td>\n",
       "      <td>0.0</td>\n",
       "      <td>0.0</td>\n",
       "      <td>0.0</td>\n",
       "      <td>0.0</td>\n",
       "      <td>0.0</td>\n",
       "    </tr>\n",
       "    <tr>\n",
       "      <th>5719</th>\n",
       "      <td>0.0</td>\n",
       "      <td>0.0</td>\n",
       "      <td>0.0</td>\n",
       "      <td>0.0</td>\n",
       "      <td>0.0</td>\n",
       "      <td>0.0</td>\n",
       "      <td>0.0</td>\n",
       "      <td>0.0</td>\n",
       "      <td>0.0</td>\n",
       "      <td>0.0</td>\n",
       "      <td>...</td>\n",
       "      <td>0.0</td>\n",
       "      <td>0.0</td>\n",
       "      <td>0.0</td>\n",
       "      <td>0.0</td>\n",
       "      <td>0.0</td>\n",
       "      <td>0.0</td>\n",
       "      <td>0.0</td>\n",
       "      <td>0.0</td>\n",
       "      <td>0.0</td>\n",
       "      <td>0.0</td>\n",
       "    </tr>\n",
       "  </tbody>\n",
       "</table>\n",
       "<p>5720 rows × 12089 columns</p>\n",
       "</div>"
      ],
      "text/plain": [
       "      0br  0span  100year  10br  10sh  10th  1159pm  115th  116br  116th  ...  \\\n",
       "0     0.0    0.0      0.0   0.0   0.0   0.0     0.0    0.0    0.0    0.0  ...   \n",
       "1     0.0    0.0      0.0   0.0   0.0   0.0     0.0    0.0    0.0    0.0  ...   \n",
       "2     0.0    0.0      0.0   0.0   0.0   0.0     0.0    0.0    0.0    0.0  ...   \n",
       "3     0.0    0.0      0.0   0.0   0.0   0.0     0.0    0.0    0.0    0.0  ...   \n",
       "4     0.0    0.0      0.0   0.0   0.0   0.0     0.0    0.0    0.0    0.0  ...   \n",
       "...   ...    ...      ...   ...   ...   ...     ...    ...    ...    ...  ...   \n",
       "5715  0.0    0.0      0.0   0.0   0.0   0.0     0.0    0.0    0.0    0.0  ...   \n",
       "5716  0.0    0.0      0.0   0.0   0.0   0.0     0.0    0.0    0.0    0.0  ...   \n",
       "5717  0.0    0.0      0.0   0.0   0.0   0.0     0.0    0.0    0.0    0.0  ...   \n",
       "5718  0.0    0.0      0.0   0.0   0.0   0.0     0.0    0.0    0.0    0.0  ...   \n",
       "5719  0.0    0.0      0.0   0.0   0.0   0.0     0.0    0.0    0.0    0.0  ...   \n",
       "\n",
       "      zodiac  zombie  zondervan  zonesspan  zoo  zpr  zuckerberg  \\\n",
       "0        0.0     0.0        0.0        0.0  0.0  0.0         0.0   \n",
       "1        0.0     0.0        0.0        0.0  0.0  0.0         0.0   \n",
       "2        0.0     0.0        0.0        0.0  0.0  0.0         0.0   \n",
       "3        0.0     0.0        0.0        0.0  0.0  0.0         0.0   \n",
       "4        0.0     0.0        0.0        0.0  0.0  0.0         0.0   \n",
       "...      ...     ...        ...        ...  ...  ...         ...   \n",
       "5715     0.0     0.0        0.0        0.0  0.0  0.0         0.0   \n",
       "5716     0.0     0.0        0.0        0.0  0.0  0.0         0.0   \n",
       "5717     0.0     0.0        0.0        0.0  0.0  0.0         0.0   \n",
       "5718     0.0     0.0        0.0        0.0  0.0  0.0         0.0   \n",
       "5719     0.0     0.0        0.0        0.0  0.0  0.0         0.0   \n",
       "\n",
       "      zuckerbergspan   él  éxito  \n",
       "0                0.0  0.0    0.0  \n",
       "1                0.0  0.0    0.0  \n",
       "2                0.0  0.0    0.0  \n",
       "3                0.0  0.0    0.0  \n",
       "4                0.0  0.0    0.0  \n",
       "...              ...  ...    ...  \n",
       "5715             0.0  0.0    0.0  \n",
       "5716             0.0  0.0    0.0  \n",
       "5717             0.0  0.0    0.0  \n",
       "5718             0.0  0.0    0.0  \n",
       "5719             0.0  0.0    0.0  \n",
       "\n",
       "[5720 rows x 12089 columns]"
      ]
     },
     "execution_count": 66,
     "metadata": {},
     "output_type": "execute_result"
    }
   ],
   "source": [
    "# Convert to DataFrame for visual inspection\n",
    "X_test_vec = pd.DataFrame.sparse.from_spmatrix(X_test_vectorized, columns=tfidf.get_feature_names())\n",
    "X_test_vec"
   ]
  },
  {
   "cell_type": "code",
   "execution_count": 67,
   "id": "be9f0a3b",
   "metadata": {},
   "outputs": [],
   "source": [
    "# Customer scorers using the weighted average argument, to be used in cross-validation\n",
    "# the custom scorer can be used to get any of the different metrics for determining accuracy, f1 score etc. but i settled on accuracy\n",
    "\n",
    "# Accuracy\n",
    "accuracy = make_scorer(accuracy_score)\n",
    "\n",
    "#f1\n",
    "custom_f1 = make_scorer(\n",
    "    f1_score, \n",
    "    average=\"weighted\")\n",
    "\n",
    "# Precision\n",
    "multi_prec = make_scorer(\n",
    "    precision_score,\n",
    "    average=\"weighted\")\n",
    "\n",
    "# Recall\n",
    "multi_rec = make_scorer(\n",
    "    recall_score,\n",
    "    average=\"weighted\")\n",
    "\n",
    "# This function will allow for quick cross-validation of the chosen score for each of our models.\n",
    "def cross_val(model, X, y, custom_scorer, kfolds=5):\n",
    "    \"\"\" Perform cross-validated scoring and store/print results \"\"\"\n",
    "    results = cross_val_score(model, X, y, cv=kfolds, scoring=custom_scorer)\n",
    "    mean = np.mean(results)\n",
    "    median = np.median(results)\n",
    "    std = np.std(results)\n",
    "    if custom_scorer == accuracy:\n",
    "        print(f\"Mean accuracy score: \", {mean}, \".\")\n",
    "        print(f\"Median acuracy score: \", {median}, \".\")\n",
    "        print(f\"Standard Deviation in accuracy: \", {std}, \".\") \n",
    "    elif custom_scorer == custom_f1:\n",
    "        print(f\"Mean f1 score: \", {mean}, \".\")\n",
    "        print(f\"Median f1 score: \", {median}, \".\")\n",
    "        print(f\"Standard Deviation in f1 score: \", {std}, \".\") \n",
    "    elif custom_scorer == multi_prec:\n",
    "        print(f\"Mean precision score: \", {mean}, \".\")\n",
    "        print(f\"Median precision score: \", {median}, \".\")\n",
    "        print(f\"Standard Deviation in precision score: \", {std}, \".\") \n",
    "    elif custom_scorer == multi_rec:\n",
    "        print(f\"Mean recall score: \", {mean}, \".\")\n",
    "        print(f\"Median recall score: \", {median}, \".\")\n",
    "        print(f\"Standard Deviation in recall score: \", {std}, \".\") "
   ]
  },
  {
   "cell_type": "markdown",
   "id": "95706e40",
   "metadata": {},
   "source": [
    "## Dummy"
   ]
  },
  {
   "cell_type": "markdown",
   "id": "23ae2e54",
   "metadata": {},
   "source": [
    "My Dummy Model will be my baseline model which i compare all of my further untuned classification models, but even as a dummy the results i got were a lot better than i had expected with a accuracy score of 83%"
   ]
  },
  {
   "cell_type": "code",
   "execution_count": 68,
   "id": "d9e3211f",
   "metadata": {},
   "outputs": [],
   "source": [
    "# Instantiate Dummy Classifier pipeline\n",
    "dummy_pipe = ImPipeline(steps=[\n",
    "                                    ('vect', TfidfVectorizer(max_features=None)),\n",
    "                                    ('sm', SMOTE(random_state=42)),\n",
    "                                    ('dc', DummyClassifier(strategy=\"prior\", random_state=42))\n",
    "                                    ]\n",
    "                            )"
   ]
  },
  {
   "cell_type": "code",
   "execution_count": 69,
   "id": "af8aa815",
   "metadata": {},
   "outputs": [
    {
     "name": "stdout",
     "output_type": "stream",
     "text": [
      "0.837542150618209\n"
     ]
    },
    {
     "data": {
      "image/png": "[encoded data removed]",
      "text/plain": [
       "<Figure size 432x288 with 2 Axes>"
      ]
     },
     "metadata": {
      "needs_background": "light"
     },
     "output_type": "display_data"
    }
   ],
   "source": [
    "# Fit dummy pipe on the training data, get predictions and plot confusion matrix\n",
    "dummy_pipe.fit(X_train, y_train)\n",
    "dummy_yhat = dummy_pipe.predict(X_train)\n",
    "plot_confusion_matrix(dummy_pipe, X_train, y_train, xticks_rotation=90);\n",
    "print(accuracy_score(y_train, dummy_yhat))"
   ]
  },
  {
   "cell_type": "markdown",
   "id": "836c137b",
   "metadata": {},
   "source": [
    "## Multinomial Naive Bayes"
   ]
  },
  {
   "cell_type": "markdown",
   "id": "54d19cbf",
   "metadata": {},
   "source": [
    "The next untuned Classifier i ran was a Multinomial Naive Bayes since i was using NLP and the results i got for cross_val accuracy were extremely good but i will continue doing more models incase i find one that performs even better."
   ]
  },
  {
   "cell_type": "code",
   "execution_count": 70,
   "id": "705f74ac",
   "metadata": {},
   "outputs": [
    {
     "data": {
      "image/png": "[encoded data removed]",
      "text/plain": [
       "<Figure size 432x288 with 2 Axes>"
      ]
     },
     "metadata": {
      "needs_background": "light"
     },
     "output_type": "display_data"
    }
   ],
   "source": [
    "# Instantiate the MNB Pipeline\n",
    "mnb_pipe = ImPipeline(steps=[\n",
    "                                 ('vect', TfidfVectorizer(max_features=None)),\n",
    "                                 ('sm', SMOTE(random_state=42)),\n",
    "                                 ('mnb', MultinomialNB())\n",
    "                                ]\n",
    "                        )\n",
    "\n",
    "# Fit Multinomial Naive Bayes pipe on the training data, get predictions and plot confusion matrix\n",
    "mnb_pipe.fit(X_train, y_train)\n",
    "mnb_y_hat = mnb_pipe.predict(X_train)\n",
    "plot_confusion_matrix(mnb_pipe, X_train, y_train, xticks_rotation=90);"
   ]
  },
  {
   "cell_type": "code",
   "execution_count": 71,
   "id": "ad383d86",
   "metadata": {},
   "outputs": [
    {
     "name": "stdout",
     "output_type": "stream",
     "text": [
      "              precision    recall  f1-score   support\n",
      "\n",
      "    Democrat       0.99      0.99      0.99     11177\n",
      "  Republican       0.94      0.97      0.95      2168\n",
      "\n",
      "    accuracy                           0.98     13345\n",
      "   macro avg       0.97      0.98      0.97     13345\n",
      "weighted avg       0.98      0.98      0.98     13345\n",
      "\n"
     ]
    }
   ],
   "source": [
    "# Show Classification Report\n",
    "print(classification_report(y_train, mnb_y_hat))"
   ]
  },
  {
   "cell_type": "code",
   "execution_count": 72,
   "id": "985ecbe1",
   "metadata": {},
   "outputs": [
    {
     "name": "stdout",
     "output_type": "stream",
     "text": [
      "Mean accuracy score:  {0.975796178343949} .\n",
      "Median acuracy score:  {0.9760209816410641} .\n",
      "Standard Deviation in accuracy:  {0.0024580321419043405} .\n"
     ]
    }
   ],
   "source": [
    "# Obtained cross-validated accuracy score\n",
    "cross_val(mnb_pipe, X_train, y_train, accuracy)"
   ]
  },
  {
   "cell_type": "markdown",
   "id": "5f08a829",
   "metadata": {},
   "source": [
    "## Logistic Regression"
   ]
  },
  {
   "cell_type": "markdown",
   "id": "f1975777",
   "metadata": {},
   "source": [
    "My Logistic regression model performed even better than my MNB model with a cross_val accuracy score of .983 which is surprising me as these models are not even tuned yet and i am still getting phenomanal accuracy scores, my educated guess is that because the ads i am feeding these models are so polarizing it is having an easier time classifying the parties."
   ]
  },
  {
   "cell_type": "code",
   "execution_count": 73,
   "id": "27e94f4c",
   "metadata": {},
   "outputs": [
    {
     "data": {
      "image/png": "[encoded data removed]",
      "text/plain": [
       "<Figure size 432x288 with 2 Axes>"
      ]
     },
     "metadata": {
      "needs_background": "light"
     },
     "output_type": "display_data"
    }
   ],
   "source": [
    "# Instantiate the Logistic Regression Pipeline\n",
    "logreg_pipe = ImPipeline(steps=[\n",
    "                                 ('vect', TfidfVectorizer(max_features=None)),\n",
    "                                  ('sm', SMOTE(random_state=42)),\n",
    "                                 ('lr', LogisticRegression(max_iter=1000))\n",
    "                                ]\n",
    "                        )\n",
    "\n",
    "# Fit Logistic Regression pipeline on the training data, get predictions and plot confusion matrix\n",
    "logreg_pipe.fit(X_train, y_train)\n",
    "logreg_yhat = logreg_pipe.predict(X_train)\n",
    "plot_confusion_matrix(logreg_pipe, X_train, y_train, xticks_rotation=90);"
   ]
  },
  {
   "cell_type": "code",
   "execution_count": 74,
   "id": "bdf5d046",
   "metadata": {},
   "outputs": [
    {
     "name": "stdout",
     "output_type": "stream",
     "text": [
      "              precision    recall  f1-score   support\n",
      "\n",
      "    Democrat       1.00      1.00      1.00     11177\n",
      "  Republican       0.98      0.99      0.98      2168\n",
      "\n",
      "    accuracy                           0.99     13345\n",
      "   macro avg       0.99      0.99      0.99     13345\n",
      "weighted avg       0.99      0.99      0.99     13345\n",
      "\n"
     ]
    }
   ],
   "source": [
    "# Show Classification Report\n",
    "print(classification_report(y_train, logreg_yhat))"
   ]
  },
  {
   "cell_type": "code",
   "execution_count": 75,
   "id": "f21a7acb",
   "metadata": {},
   "outputs": [
    {
     "name": "stdout",
     "output_type": "stream",
     "text": [
      "Mean accuracy score:  {0.9835893593106032} .\n",
      "Median acuracy score:  {0.9838890970400899} .\n",
      "Standard Deviation in accuracy:  {0.0008344345242157849} .\n"
     ]
    }
   ],
   "source": [
    "# Obtained cross-validated accuracy score\n",
    "cross_val(logreg_pipe, X_train, y_train, accuracy)"
   ]
  },
  {
   "cell_type": "markdown",
   "id": "e00a20c4",
   "metadata": {},
   "source": [
    "## K-Nearest Neighbors"
   ]
  },
  {
   "cell_type": "markdown",
   "id": "d8e4d779",
   "metadata": {},
   "source": [
    "Even though i did not have high hopes for this classifier because im not necessarily looking to check clustering within this model, i was still pleasantly surprised with the results of this model of .88 accuracy, though it is my worst performing model of the ones ive tested besides the dummy model."
   ]
  },
  {
   "cell_type": "code",
   "execution_count": 76,
   "id": "1b70d983",
   "metadata": {},
   "outputs": [
    {
     "data": {
      "image/png": "[encoded data removed]",
      "text/plain": [
       "<Figure size 432x288 with 2 Axes>"
      ]
     },
     "metadata": {
      "needs_background": "light"
     },
     "output_type": "display_data"
    }
   ],
   "source": [
    "# Instantiate K-Nearest Neighbors pipeline\n",
    "knn_pipe = ImPipeline(steps=[\n",
    "                                 ('vect', TfidfVectorizer(max_features=None)),\n",
    "                                 ('sm', SMOTE(random_state=42)),\n",
    "                                 ('knn', KNeighborsClassifier())  \n",
    "                                ]\n",
    "                        )\n",
    "\n",
    "# Fit KNN pipeline on the training data, get predictions and plot confusion matrix\n",
    "knn_pipe.fit(X_train, y_train)\n",
    "knn_yhat = knn_pipe.predict(X_train)\n",
    "plot_confusion_matrix(knn_pipe, X_train, y_train, xticks_rotation=90);"
   ]
  },
  {
   "cell_type": "code",
   "execution_count": 77,
   "id": "88af16fa",
   "metadata": {},
   "outputs": [
    {
     "name": "stdout",
     "output_type": "stream",
     "text": [
      "              precision    recall  f1-score   support\n",
      "\n",
      "    Democrat       1.00      0.92      0.96     11177\n",
      "  Republican       0.70      1.00      0.82      2168\n",
      "\n",
      "    accuracy                           0.93     13345\n",
      "   macro avg       0.85      0.96      0.89     13345\n",
      "weighted avg       0.95      0.93      0.94     13345\n",
      "\n"
     ]
    }
   ],
   "source": [
    "# Show Classification Report\n",
    "print(classification_report(y_train, knn_yhat))"
   ]
  },
  {
   "cell_type": "code",
   "execution_count": 78,
   "id": "08d838f1",
   "metadata": {},
   "outputs": [
    {
     "name": "stdout",
     "output_type": "stream",
     "text": [
      "Mean accuracy score:  {0.8862495316597977} .\n",
      "Median acuracy score:  {0.8849756463094792} .\n",
      "Standard Deviation in accuracy:  {0.0063522126496883425} .\n"
     ]
    }
   ],
   "source": [
    "# Obtained cross-validated accuracy score\n",
    "cross_val(knn_pipe, X_train, y_train, accuracy)"
   ]
  },
  {
   "cell_type": "markdown",
   "id": "ec134283",
   "metadata": {},
   "source": [
    "## Gradient Boosting Classifier"
   ]
  },
  {
   "cell_type": "markdown",
   "id": "39af8085",
   "metadata": {},
   "source": [
    "This classification model i chose because i have had great success with it in classification models before but surprised me in performing worse than both the MNB and the logistic regression model, so i will not be choosing this to run grid searches on for improvement"
   ]
  },
  {
   "cell_type": "code",
   "execution_count": 79,
   "id": "45b464f2",
   "metadata": {},
   "outputs": [
    {
     "data": {
      "image/png": "[encoded data removed]",
      "text/plain": [
       "<Figure size 432x288 with 2 Axes>"
      ]
     },
     "metadata": {
      "needs_background": "light"
     },
     "output_type": "display_data"
    }
   ],
   "source": [
    "# Instantiate the pipeline\n",
    "gbc_pipe = ImPipeline(steps=[\n",
    "                                 ('vect', TfidfVectorizer(max_features=None)),\n",
    "                                 ('sm', SMOTE(random_state=42)),\n",
    "                                 ('gbc',  GradientBoostingClassifier())\n",
    "                                ]\n",
    "                        )\n",
    "\n",
    "# Fit gradient boosted pipeline on the training data, get predictions and plot confusion matrix\n",
    "gbc_pipe.fit(X_train, y_train)\n",
    "gbc_yhat = gbc_pipe.predict(X_train)\n",
    "plot_confusion_matrix(gbc_pipe, X_train, y_train, xticks_rotation=90);"
   ]
  },
  {
   "cell_type": "code",
   "execution_count": 80,
   "id": "f9d09c53",
   "metadata": {},
   "outputs": [
    {
     "name": "stdout",
     "output_type": "stream",
     "text": [
      "              precision    recall  f1-score   support\n",
      "\n",
      "    Democrat       0.98      0.97      0.98     11177\n",
      "  Republican       0.87      0.91      0.89      2168\n",
      "\n",
      "    accuracy                           0.96     13345\n",
      "   macro avg       0.92      0.94      0.93     13345\n",
      "weighted avg       0.96      0.96      0.96     13345\n",
      "\n"
     ]
    }
   ],
   "source": [
    "# Show Classification Report\n",
    "print(classification_report(y_train, gbc_yhat))"
   ]
  },
  {
   "cell_type": "code",
   "execution_count": 81,
   "id": "d19f978e",
   "metadata": {},
   "outputs": [
    {
     "name": "stdout",
     "output_type": "stream",
     "text": [
      "Mean accuracy score:  {0.9471712251779693} .\n",
      "Median acuracy score:  {0.9486699138254028} .\n",
      "Standard Deviation in accuracy:  {0.006110718033083563} .\n"
     ]
    }
   ],
   "source": [
    "# Obtained cross-validated accuracy score\n",
    "cross_val(gbc_pipe, X_train, y_train, accuracy)"
   ]
  },
  {
   "cell_type": "markdown",
   "id": "86adec5a",
   "metadata": {},
   "source": [
    "## RF Classifier"
   ]
  },
  {
   "cell_type": "markdown",
   "id": "374b0304",
   "metadata": {},
   "source": [
    "The Random forest model works in breaking up the classifications of the words into trees and i figured would do extremely well at classifying the ads but to my suprise performed slightly worse than my base logistic regression model, only by a small margin but because of this will still look at more models before deciding on my final model."
   ]
  },
  {
   "cell_type": "code",
   "execution_count": 82,
   "id": "3efd284f",
   "metadata": {},
   "outputs": [
    {
     "data": {
      "image/png": "[encoded data removed]",
      "text/plain": [
       "<Figure size 432x288 with 2 Axes>"
      ]
     },
     "metadata": {
      "needs_background": "light"
     },
     "output_type": "display_data"
    }
   ],
   "source": [
    "# Instantiate Random Forest pipeline\n",
    "rf_pipe = ImPipeline(steps=[\n",
    "                                 ('vect', TfidfVectorizer(max_features=None)),\n",
    "                                 ('sm', SMOTE(random_state=42)),\n",
    "                                 ('rf', RandomForestClassifier(random_state=42))\n",
    "                                ]\n",
    "                        )\n",
    "\n",
    "# Fit random forest pipeline on the training data, get predictions and plot confusion matrix\n",
    "rf_pipe.fit(X_train, y_train)\n",
    "rfp_yhat = rf_pipe.predict(X_train)\n",
    "plot_confusion_matrix(rf_pipe, X_train, y_train, xticks_rotation=90);"
   ]
  },
  {
   "cell_type": "code",
   "execution_count": 83,
   "id": "c4042791",
   "metadata": {},
   "outputs": [
    {
     "name": "stdout",
     "output_type": "stream",
     "text": [
      "              precision    recall  f1-score   support\n",
      "\n",
      "    Democrat       1.00      1.00      1.00     11177\n",
      "  Republican       1.00      1.00      1.00      2168\n",
      "\n",
      "    accuracy                           1.00     13345\n",
      "   macro avg       1.00      1.00      1.00     13345\n",
      "weighted avg       1.00      1.00      1.00     13345\n",
      "\n"
     ]
    }
   ],
   "source": [
    "# Show Classification Report\n",
    "print(classification_report(y_train, rfp_yhat))"
   ]
  },
  {
   "cell_type": "code",
   "execution_count": 84,
   "id": "84d927d8",
   "metadata": {},
   "outputs": [
    {
     "name": "stdout",
     "output_type": "stream",
     "text": [
      "Mean accuracy score:  {0.9828400149868864} .\n",
      "Median acuracy score:  {0.9838890970400899} .\n",
      "Standard Deviation in accuracy:  {0.001747756281707077} .\n"
     ]
    }
   ],
   "source": [
    "# Obtained cross-validated accuracy score\n",
    "cross_val(rf_pipe, X_train, y_train, accuracy)"
   ]
  },
  {
   "cell_type": "markdown",
   "id": "25be1a47",
   "metadata": {},
   "source": [
    "## Stochastic Gradient Descent Classifier"
   ]
  },
  {
   "cell_type": "markdown",
   "id": "f74b18ef",
   "metadata": {},
   "source": [
    "I Chose SGD Classifier because my logistic regression model performed the best so far and this model works similarly to logistic regression model and to my surprise it performed the best out of all the models i have run so far with a cross validated accuracy score of .986 so i believe this will be the model i run grid searches on to see if i can get any better performance on accuracy even though the accuracy score is already so high i might only see small improvements."
   ]
  },
  {
   "cell_type": "code",
   "execution_count": 85,
   "id": "581fecb7",
   "metadata": {},
   "outputs": [
    {
     "data": {
      "image/png": "[encoded data removed]",
      "text/plain": [
       "<Figure size 432x288 with 2 Axes>"
      ]
     },
     "metadata": {
      "needs_background": "light"
     },
     "output_type": "display_data"
    }
   ],
   "source": [
    "# Instantiate Linear Support Vector Pipeline\n",
    "sgd_pipe = ImPipeline(steps=[    \n",
    "                            ('vect', TfidfVectorizer(max_features=None)),\n",
    "                            ('sm', SMOTE(random_state=42)),\n",
    "                                ('sgd', SGDClassifier(random_state=42))\n",
    "                                 ]\n",
    "                                )\n",
    "# Fit linear support vector machine on the training data, get predictions and plot confusion matrix\n",
    "sgd_pipe.fit(X_train, y_train)\n",
    "sgd_y_hat = sgd_pipe.predict(X_train)\n",
    "plot_confusion_matrix(sgd_pipe, X_train, y_train, xticks_rotation=90);"
   ]
  },
  {
   "cell_type": "code",
   "execution_count": 86,
   "id": "1b80bf59",
   "metadata": {},
   "outputs": [
    {
     "name": "stdout",
     "output_type": "stream",
     "text": [
      "              precision    recall  f1-score   support\n",
      "\n",
      "    Democrat       1.00      1.00      1.00     11177\n",
      "  Republican       0.99      0.99      0.99      2168\n",
      "\n",
      "    accuracy                           1.00     13345\n",
      "   macro avg       0.99      1.00      0.99     13345\n",
      "weighted avg       1.00      1.00      1.00     13345\n",
      "\n"
     ]
    }
   ],
   "source": [
    "# Show Classification Report\n",
    "print(classification_report(y_train, sgd_y_hat))"
   ]
  },
  {
   "cell_type": "code",
   "execution_count": 87,
   "id": "fdb96222",
   "metadata": {},
   "outputs": [
    {
     "name": "stdout",
     "output_type": "stream",
     "text": [
      "Mean accuracy score:  {0.986661671037842} .\n",
      "Median acuracy score:  {0.9868864743349569} .\n",
      "Standard Deviation in accuracy:  {0.0018139705413128748} .\n"
     ]
    }
   ],
   "source": [
    "# Obtained cross-validated accuracy score\n",
    "cross_val(sgd_pipe, X_train, y_train, accuracy)"
   ]
  },
  {
   "cell_type": "markdown",
   "id": "c87f3dd1",
   "metadata": {},
   "source": [
    "# Best Model Gridsearching"
   ]
  },
  {
   "cell_type": "markdown",
   "id": "6c3c3f94",
   "metadata": {},
   "source": [
    "After running a handful of classification models the best base model that was not tuned that i found was the stochastic gradient descent model, it performed so well even without tuning that i am expecting to only see small improvements from my multiple grid searches."
   ]
  },
  {
   "cell_type": "code",
   "execution_count": 88,
   "id": "7a5ac2d0",
   "metadata": {},
   "outputs": [
    {
     "name": "stdout",
     "output_type": "stream",
     "text": [
      "Current Parameters:\n",
      "\n",
      "{'alpha': 0.0001,\n",
      " 'average': False,\n",
      " 'class_weight': None,\n",
      " 'early_stopping': False,\n",
      " 'epsilon': 0.1,\n",
      " 'eta0': 0.0,\n",
      " 'fit_intercept': True,\n",
      " 'l1_ratio': 0.15,\n",
      " 'learning_rate': 'optimal',\n",
      " 'loss': 'hinge',\n",
      " 'max_iter': 1000,\n",
      " 'n_iter_no_change': 5,\n",
      " 'n_jobs': None,\n",
      " 'penalty': 'l2',\n",
      " 'power_t': 0.5,\n",
      " 'random_state': 42,\n",
      " 'shuffle': True,\n",
      " 'tol': 0.001,\n",
      " 'validation_fraction': 0.1,\n",
      " 'verbose': 0,\n",
      " 'warm_start': False}\n"
     ]
    }
   ],
   "source": [
    "# Print out original parameters of rf classifier in rf_pipe\n",
    "print('Current Parameters:\\n')\n",
    "pprint(sgd_pipe.named_steps['sgd'].get_params())"
   ]
  },
  {
   "cell_type": "code",
   "execution_count": 89,
   "id": "14e7ea69",
   "metadata": {
    "scrolled": true
   },
   "outputs": [],
   "source": [
    "# Define new set of parameters to grid-search over\n",
    "sgd_params = {\n",
    "            'sgd__alpha': [1e-7, 1e-6, 1e-5, 1e-4, 1e-3],\n",
    "            'sgd__learning_rate': ['optimal'],\n",
    "            'sgd__loss': ['hinge', 'log_loss', 'modified_huber', 'perceptron', 'squared_error', 'huber'],\n",
    "            'sgd__penalty': ['l2', 'l1', 'elasticnet'],\n",
    "            'vect__ngram_range': [(1,2), (1,1), (2,2)],\n",
    "            'vect__max_df': [0.5, 0.7, 0.9],\n",
    "            'vect__min_df': [0.1, 0.3, 0.5],\n",
    "            'vect__max_features': [None]\n",
    "             }\n",
    "\n",
    "# Instantiate grid search object using parameters defined above.\n",
    "#sgd_gs = GridSearchCV(sgd_pipe, param_grid=sgd_params, n_jobs=1, verbose=3, cv=3)\n",
    "\n",
    "# Fit the grid search object on training data\n",
    "#sgd_gs.fit(X_train, y_train)\n",
    "\n",
    "# Output the best parameters based on the grid search\n",
    "#sgd_gs.best_params_"
   ]
  },
  {
   "cell_type": "markdown",
   "id": "9f8a0458",
   "metadata": {},
   "source": [
    "Here were the results of all of my grid searches as i was making small adjustments with everytime i ran a gridsearch and plugged them into my SGD pipeline model, the first two grid searches resulted in increases in cross validated accuracy of .001 and .002 respectively but once i added searching on the gridsearch for min/maxdf the results shot back down. so for my final model i used the results of my final grid search with the min/maxdf features omitted and got the best results i had seen. with more time and resources i would like to run a lot more gridsearches to see if i could get my results even better."
   ]
  },
  {
   "cell_type": "markdown",
   "id": "777022e0",
   "metadata": {},
   "source": [
    "first gridsearch results: \n",
    "- sgd__alpha': 0.0001,\n",
    "- sgd__early_stopping': True,\n",
    "- sgd__learning_rate': 'optimal',\n",
    "- sgd__loss': 'log_loss',\n",
    "- sgd__penalty': 'l2',\n",
    "- vect__strip_accents': 'ascii'"
   ]
  },
  {
   "cell_type": "markdown",
   "id": "850e232a",
   "metadata": {},
   "source": [
    "2nd gridsearch results:\n",
    "- sgd__alpha': 0.0001,\n",
    "- sgd__early_stopping': True,\n",
    "- sgd__learning_rate': 'optimal',\n",
    "- sgd__loss': 'modified_huber',\n",
    "- sgd__penalty': 'l2',\n",
    "- vect__strip_accents': 'ascii'}"
   ]
  },
  {
   "cell_type": "markdown",
   "id": "f42cb29d",
   "metadata": {},
   "source": [
    "3rd gridsearch results: this one performed much worse but guessing due to min/maxdf not being correct\n",
    "\n",
    "- sgd__alpha: 1e-07,\n",
    "- sgd__learning_rate: 'optimal',\n",
    "- sgd__loss: 'perceptron',\n",
    "- sgd__penalty: 'elasticnet',\n",
    "- vect__max_df: 1,\n",
    "- vect__max_features: None,\n",
    "- vect__min_df: 0,\n",
    "- vect__ngram_range: (2, 2)}"
   ]
  },
  {
   "cell_type": "markdown",
   "id": "98e82014",
   "metadata": {},
   "source": [
    "4th and final gridsearch results: potentially dont use min/maxdf for final model\n",
    "- sgd__alpha': 1e-06,\n",
    "- sgd__learning_rate': 'optimal',\n",
    "- sgd__loss': 'log_loss',\n",
    "- sgd__penalty': 'elasticnet',\n",
    "- vect__max_df': 0.5,\n",
    "- vect__max_features': None,\n",
    "- vect__min_df': 0.1,\n",
    "- vect__ngram_range': (1, 2)}"
   ]
  },
  {
   "cell_type": "markdown",
   "id": "ec11fc3d",
   "metadata": {},
   "source": [
    "# Final model"
   ]
  },
  {
   "cell_type": "markdown",
   "id": "720c517c",
   "metadata": {},
   "source": [
    "The Final model i decided on was my Stochastic Gradient Descent model which had been tuned over a number of grid searches to get a small boost in accuracy percentage going from .986 to .988 accuracy on the training data and also getting a results of .989 on the testing (unseen) data. Im sure with more time i could get the accuracy score up slightly more but my final model correctly predicts if an ad is republican or democrat roughly 99% of the time which is huge for determining what party is pushing what agenda."
   ]
  },
  {
   "cell_type": "code",
   "execution_count": 90,
   "id": "92be692a",
   "metadata": {},
   "outputs": [
    {
     "data": {
      "image/png": "[encoded data removed]",
      "text/plain": [
       "<Figure size 432x288 with 2 Axes>"
      ]
     },
     "metadata": {
      "needs_background": "light"
     },
     "output_type": "display_data"
    }
   ],
   "source": [
    "# Instantiate Linear Support Vector Pipeline\n",
    "final_pipe = ImPipeline(steps=[    \n",
    "                            ('vect', TfidfVectorizer(max_features=None, \n",
    "                                                #max_df= 0.5, messing with the min/maxdf seemed to only make the model perform worse\n",
    "                                                #min_df= 0.1, \n",
    "                                                ngram_range= (1, 2))),\n",
    "                            ('sm', SMOTE(random_state=42)),\n",
    "                                ('sgd', SGDClassifier(random_state=42, \n",
    "                                                      alpha= 1e-06, \n",
    "                                                      learning_rate= 'optimal', \n",
    "                                                      loss = 'log_loss', \n",
    "                                                      penalty = 'elasticnet'))\n",
    "                                 ]\n",
    "                                )\n",
    "# Fit linear support vector machine on the training data, get predictions and plot confusion matrix\n",
    "final_pipe.fit(X_train, y_train)\n",
    "final_y_hat = final_pipe.predict(X_train)\n",
    "plot_confusion_matrix(final_pipe, X_train, y_train, xticks_rotation=90);"
   ]
  },
  {
   "cell_type": "code",
   "execution_count": 91,
   "id": "88cb2bc6",
   "metadata": {},
   "outputs": [
    {
     "name": "stdout",
     "output_type": "stream",
     "text": [
      "              precision    recall  f1-score   support\n",
      "\n",
      "    Democrat       1.00      1.00      1.00     11177\n",
      "  Republican       1.00      1.00      1.00      2168\n",
      "\n",
      "    accuracy                           1.00     13345\n",
      "   macro avg       1.00      1.00      1.00     13345\n",
      "weighted avg       1.00      1.00      1.00     13345\n",
      "\n"
     ]
    }
   ],
   "source": [
    "# Show Classification Report\n",
    "print(classification_report(y_train, final_y_hat))"
   ]
  },
  {
   "cell_type": "code",
   "execution_count": 92,
   "id": "1ccf27ad",
   "metadata": {},
   "outputs": [
    {
     "name": "stdout",
     "output_type": "stream",
     "text": [
      "Mean accuracy score:  {0.9877107530910452} .\n",
      "Median acuracy score:  {0.988010490820532} .\n",
      "Standard Deviation in accuracy:  {0.0010961962411635852} .\n"
     ]
    }
   ],
   "source": [
    "# Obtained cross-validated accuracy score\n",
    "cross_val(final_pipe, X_train, y_train, accuracy)"
   ]
  },
  {
   "cell_type": "code",
   "execution_count": 93,
   "id": "3141f26d",
   "metadata": {
    "scrolled": true
   },
   "outputs": [
    {
     "data": {
      "text/plain": [
       "0.9888111888111888"
      ]
     },
     "execution_count": 93,
     "metadata": {},
     "output_type": "execute_result"
    }
   ],
   "source": [
    "final_pipe.score(X_test, y_test)"
   ]
  },
  {
   "cell_type": "markdown",
   "id": "50cbb803",
   "metadata": {},
   "source": [
    "I Wanted to visually compare my final model with a handful of other models that i worked with to show that even though all of the models perform well my final model is the best of them all."
   ]
  },
  {
   "cell_type": "code",
   "execution_count": 94,
   "id": "20e19385",
   "metadata": {},
   "outputs": [
    {
     "data": {
      "image/png": "[encoded data removed]",
      "text/plain": [
       "<Figure size 720x720 with 1 Axes>"
      ]
     },
     "metadata": {
      "needs_background": "light"
     },
     "output_type": "display_data"
    }
   ],
   "source": [
    "# Create dictionary of models and cross-val scores\n",
    "model_its = {'Dummy Classifier':0.83, 'MNB':0.95, 'KNN':0.88, 'Base SGD':0.986, 'Final model':0.99}\n",
    "\n",
    "# Plot bar graph using model_its dictionary\n",
    "plt.rcParams.update({'font.size': 13});\n",
    "colors = [\"C1\" if i > 0.989 else 'C0' for i in model_its.values()]\n",
    "fig, ax = plt.subplots(figsize=(10,10))\n",
    "pps = plt.bar(x = model_its.keys(), height=model_its.values(), color=colors)\n",
    "\n",
    "plt.xlabel('Model Type')\n",
    "plt.ylabel('Mean Accuracy Score')\n",
    "plt.title('Model Performance Progression')\n",
    "plt.xticks(rotation = 45)\n",
    "plt.yticks(np.arange(0, 1.1, step=0.1))\n",
    "\n",
    "# Assign score values to each bar in the graph\n",
    "for p in pps:\n",
    "   height = p.get_height()\n",
    "   ax.annotate('{}'.format(height),\n",
    "      xy=(p.get_x() + p.get_width() / 2, height),\n",
    "      xytext=(0, 5), # 3 points vertical offset\n",
    "      textcoords=\"offset points\",  \n",
    "      ha='center', va='bottom')\n",
    "plt.tight_layout();\n",
    "\n",
    "plt.savefig('./images/mod_perf', facecolor='white', dpi=500)"
   ]
  },
  {
   "cell_type": "markdown",
   "id": "b30549aa",
   "metadata": {},
   "source": [
    "# Conclusion & Limitations"
   ]
  },
  {
   "cell_type": "markdown",
   "id": "b36f76c7",
   "metadata": {},
   "source": [
    "My findings while creating this model was that my model works extremely well at classifying political party between the two major parties republican and democrat. with an accuracy score of predicting the party of roughly 99% my model will be able to distinguish the vast majority of ads as being democrat or republican.\n",
    "\n",
    "Democrats often used common words such as 'people', 'movement', and 'grassroots' which the model picked up on showing that at the time these ads were run the agenda of the democratic party was to unite people into a movement to be strong together.\n",
    "\n",
    "republicans often would use words such as 'fight', 'take', 'want' which i would classify as strong action words, the focus of the republican party was to fight against the typical established politicians and democrats.\n",
    "\n",
    "Both parties were trying to use strong key words to convince their followers to get together for a cause but the wording and targets of their messaging were completely different which my model was able to pick up on showing not only the party affiliation but also the agenda behind each party when looking at common words used in their ads.\n",
    "\n",
    "My model will be extremely important for all in the political sphere, voters will be able to see what party is pushing what agenda for local elections, such as \"vote yes on ...\" ads are not as apparent who is pushing for them unless a prominent figure is endorsing the ad. Political scientist will be able to see the widespread agenda of both political parties, such as if the messaging is very similar from one politician to the next within a party if there is things going on behind the scenes telling everyone to say similar messaging. And finally politicians will be able use this information to figure out what the opposition is saying and how they're conveying their points to their constituants.\n",
    "\n",
    "Although the model looks really good there are some major limitations to the model itself:\n",
    "- Agendas change overtime: the model picking up the messaging and classifying ads extremely accurately is only relevant for that point in time, the messaging and words used in the model might become outdated so i will have to update the data used to check how the common words change with time. i can get more updated from ProPublica when it becomes available in a combined dataset instead of their daily uploads of ads for the day.\n",
    "- The model was only trained on facebook ads: i do not know how the model will perform on political statements from places such as twitter, ads from other websites, and other avenues of political speech."
   ]
  },
  {
   "cell_type": "markdown",
   "id": "dee39f4f",
   "metadata": {},
   "source": [
    "## Next Steps"
   ]
  },
  {
   "cell_type": "markdown",
   "id": "4306c80c",
   "metadata": {},
   "source": [
    "- Gather more up to date data: the people at ProPublica send out data everyday on their ad collection but this data is not formatted in a way i can work with just yet, either create a system to automatically collect their data and compile it or wait for a new large data dump like the first dataset that i worked with to come out and compare a new model with that data to this model.\n",
    "- Add more politcal parties and neutral data: try and find sources within the data that are from political parties not associated with democrats or republicans and see if my model can classify that data as well as data from democrats and republicans.\n",
    "- Explore other politcal comments: Explore how feeding in politcal statements from outside of facebook do with my model, such as from places like twitter, reddit, politicians websites and speeches. find out if my model will be able to accurately predict these statements and if not feed the model some of these statements so it can classify party affiliation better."
   ]
  }
 ],
 "metadata": {
  "kernelspec": {
   "display_name": "tf",
   "language": "python",
   "name": "tf"
  },
  "language_info": {
   "codemirror_mode": {
    "name": "ipython",
    "version": 3
   },
   "file_extension": ".py",
   "mimetype": "text/x-python",
   "name": "python",
   "nbconvert_exporter": "python",
   "pygments_lexer": "ipython3",
   "version": "3.9.12"
  }
 },
 "nbformat": 4,
 "nbformat_minor": 5
}
